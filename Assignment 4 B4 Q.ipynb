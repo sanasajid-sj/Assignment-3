{
 "cells": [
  {
   "cell_type": "markdown",
   "id": "f50c28f8-19de-40ce-b6fe-360f1542676f",
   "metadata": {},
   "source": [
    "1-\n",
    "\n",
    "text = 'hello python world'\n",
    "\n",
    "Replace spaces with underscores in the string (e.g., \"hello python world\" → \"hello_python_world\").\n",
    "\n",
    "Split the modified string (e.g., \"hello_python_world\" → ['hello', 'python', 'world']).\n",
    "\n",
    "Print all two results\n",
    "\n",
    "Hint: Use string methods"
   ]
  },
  {
   "cell_type": "code",
   "execution_count": 1,
   "id": "a1c0b32b-64ca-4edc-98e4-2fe6d2779d27",
   "metadata": {},
   "outputs": [],
   "source": [
    "text = 'hello python world'"
   ]
  },
  {
   "cell_type": "code",
   "execution_count": 2,
   "id": "34eb63b5-9ea4-4149-8683-1b765ca39483",
   "metadata": {},
   "outputs": [
    {
     "data": {
      "text/plain": [
       "'hello-python-world'"
      ]
     },
     "execution_count": 2,
     "metadata": {},
     "output_type": "execute_result"
    }
   ],
   "source": [
    "text= text.replace(\" \",\"-\")\n",
    "text"
   ]
  },
  {
   "cell_type": "code",
   "execution_count": 3,
   "id": "1c751282-764a-40fa-b219-175c5eca4cae",
   "metadata": {},
   "outputs": [
    {
     "data": {
      "text/plain": [
       "['hello', 'python', 'world']"
      ]
     },
     "execution_count": 3,
     "metadata": {},
     "output_type": "execute_result"
    }
   ],
   "source": [
    "text = text.split(\"-\")\n",
    "text"
   ]
  },
  {
   "cell_type": "raw",
   "id": "4c43a9a9-af38-45f6-8cec-2821fd097024",
   "metadata": {},
   "source": [
    "# or"
   ]
  },
  {
   "cell_type": "code",
   "execution_count": 4,
   "id": "e9826f36-5de2-4a53-843d-dc3f6cd91d70",
   "metadata": {},
   "outputs": [
    {
     "data": {
      "text/plain": [
       "'hello-python-world'"
      ]
     },
     "execution_count": 4,
     "metadata": {},
     "output_type": "execute_result"
    }
   ],
   "source": [
    "\"hello python world\".replace(\" \",\"-\")"
   ]
  },
  {
   "cell_type": "code",
   "execution_count": 5,
   "id": "938fddb4-0744-48e0-a41c-22d214a50a20",
   "metadata": {},
   "outputs": [
    {
     "data": {
      "text/plain": [
       "['hello', 'python', 'world']"
      ]
     },
     "execution_count": 5,
     "metadata": {},
     "output_type": "execute_result"
    }
   ],
   "source": [
    "\"hello-python-world\".split(\"-\")"
   ]
  },
  {
   "cell_type": "markdown",
   "id": "f36c5e03-9efc-40f9-833c-23864268173e",
   "metadata": {},
   "source": [
    "2- You have a product code that follows the format \"SKU-12345-XYZ\".\n",
    "\n",
    "Find the first position of the dash (-).\n",
    "\n",
    "Count the number of dashes (-) in the product code.\n",
    "\n",
    "Remove the \"SKU-\" prefix and \"-XYZ\" suffix from the product code, Extract the numeric part 12345\n",
    "\n",
    "product_code = \"SKU-12345-XYZ\"\n",
    "\n",
    "Hint: Use String Methods"
   ]
  },
  {
   "cell_type": "code",
   "execution_count": 6,
   "id": "ccb2be17-a705-4c32-91ec-88e059ed0bc7",
   "metadata": {},
   "outputs": [],
   "source": [
    "product_code = \"SKU-12345-XYZ\""
   ]
  },
  {
   "cell_type": "code",
   "execution_count": 7,
   "id": "b666b8a8-6591-4bcd-b34e-bbaea2bec46a",
   "metadata": {},
   "outputs": [
    {
     "data": {
      "text/plain": [
       "3"
      ]
     },
     "execution_count": 7,
     "metadata": {},
     "output_type": "execute_result"
    }
   ],
   "source": [
    "product_code.index(\"-\")"
   ]
  },
  {
   "cell_type": "code",
   "execution_count": 8,
   "id": "c13fd4a4-3b98-4d0c-80f7-b6801f57adef",
   "metadata": {},
   "outputs": [
    {
     "data": {
      "text/plain": [
       "2"
      ]
     },
     "execution_count": 8,
     "metadata": {},
     "output_type": "execute_result"
    }
   ],
   "source": [
    "product_code.count(\"-\")"
   ]
  },
  {
   "cell_type": "code",
   "execution_count": 9,
   "id": "2ed039a3-f7fa-407b-a7e3-81f0b451a7f5",
   "metadata": {},
   "outputs": [
    {
     "data": {
      "text/plain": [
       "'12345-XYZ'"
      ]
     },
     "execution_count": 9,
     "metadata": {},
     "output_type": "execute_result"
    }
   ],
   "source": [
    "product_code=product_code.removeprefix(\"SKU-\")\n",
    "product_code"
   ]
  },
  {
   "cell_type": "code",
   "execution_count": 10,
   "id": "b71e7a5d-a95a-4f20-85a2-64a2daf5d4ec",
   "metadata": {},
   "outputs": [
    {
     "data": {
      "text/plain": [
       "'12345'"
      ]
     },
     "execution_count": 10,
     "metadata": {},
     "output_type": "execute_result"
    }
   ],
   "source": [
    "product_code=product_code.removesuffix(\"-XYZ\")\n",
    "product_code"
   ]
  },
  {
   "cell_type": "raw",
   "id": "0e1f5e82-1db4-4a22-8e02-94c6bc274ea8",
   "metadata": {},
   "source": [
    "# or"
   ]
  },
  {
   "cell_type": "code",
   "execution_count": 11,
   "id": "c4efb5e7-01d3-46d3-a27a-3e58983a4435",
   "metadata": {},
   "outputs": [
    {
     "data": {
      "text/plain": [
       "3"
      ]
     },
     "execution_count": 11,
     "metadata": {},
     "output_type": "execute_result"
    }
   ],
   "source": [
    "\"SKU-12345-XYZ\".index(\"-\")"
   ]
  },
  {
   "cell_type": "code",
   "execution_count": 12,
   "id": "a14c6a11-4c84-40be-9853-d7efd81eacdf",
   "metadata": {},
   "outputs": [
    {
     "data": {
      "text/plain": [
       "2"
      ]
     },
     "execution_count": 12,
     "metadata": {},
     "output_type": "execute_result"
    }
   ],
   "source": [
    "\"SKU-12345-XYZ\".count(\"-\")"
   ]
  },
  {
   "cell_type": "code",
   "execution_count": 13,
   "id": "534d32c0-af34-4651-8cbb-4449992ae705",
   "metadata": {},
   "outputs": [
    {
     "data": {
      "text/plain": [
       "'12345'"
      ]
     },
     "execution_count": 13,
     "metadata": {},
     "output_type": "execute_result"
    }
   ],
   "source": [
    "\"SKU-12345-XYZ\".removeprefix(\"SKU-\").removesuffix(\"-XYZ\")"
   ]
  },
  {
   "cell_type": "markdown",
   "id": "0d504f74-c0d6-4890-9580-7890bc1dcb43",
   "metadata": {},
   "source": [
    "3- Convert a string to Title Case.\n",
    "\n",
    "text_1 = \"hello world\"\n"
   ]
  },
  {
   "cell_type": "code",
   "execution_count": 14,
   "id": "ded99a2d-1568-46b2-83dd-ad666b275264",
   "metadata": {},
   "outputs": [],
   "source": [
    "text_1 = \"hello world\""
   ]
  },
  {
   "cell_type": "code",
   "execution_count": 15,
   "id": "05e0b319-6ee1-458b-a571-ce1c982103cd",
   "metadata": {},
   "outputs": [
    {
     "data": {
      "text/plain": [
       "'Hello World'"
      ]
     },
     "execution_count": 15,
     "metadata": {},
     "output_type": "execute_result"
    }
   ],
   "source": [
    "text_1.title()"
   ]
  },
  {
   "cell_type": "raw",
   "id": "e3d8c4df-661c-40b5-bc49-84aaeb1808f2",
   "metadata": {},
   "source": [
    "# or"
   ]
  },
  {
   "cell_type": "code",
   "execution_count": 16,
   "id": "3841dbb6-224f-41f7-a522-7f6db14f880b",
   "metadata": {},
   "outputs": [
    {
     "data": {
      "text/plain": [
       "'Hello World'"
      ]
     },
     "execution_count": 16,
     "metadata": {},
     "output_type": "execute_result"
    }
   ],
   "source": [
    "\"hello world\".title()"
   ]
  },
  {
   "cell_type": "markdown",
   "id": "69a00670-3bd2-4380-bfd6-46f87255ef19",
   "metadata": {},
   "source": [
    "4- Capitalize the first letter of a string.\n",
    "\n",
    "text_2 = \"python programming\""
   ]
  },
  {
   "cell_type": "code",
   "execution_count": 17,
   "id": "cc844b69-9479-48c2-b525-6d388f64eb52",
   "metadata": {},
   "outputs": [
    {
     "data": {
      "text/plain": [
       "'python programming'"
      ]
     },
     "execution_count": 17,
     "metadata": {},
     "output_type": "execute_result"
    }
   ],
   "source": [
    "text_2 = \"python programming\"\n",
    "text_2"
   ]
  },
  {
   "cell_type": "code",
   "execution_count": 18,
   "id": "be9c74b7-9039-49bb-8abc-c4a726ddc448",
   "metadata": {},
   "outputs": [
    {
     "data": {
      "text/plain": [
       "'Python programming'"
      ]
     },
     "execution_count": 18,
     "metadata": {},
     "output_type": "execute_result"
    }
   ],
   "source": [
    "text_2.capitalize()"
   ]
  },
  {
   "cell_type": "raw",
   "id": "ac4711bc-13b2-4049-bad4-60ad4f46364c",
   "metadata": {},
   "source": [
    "# or"
   ]
  },
  {
   "cell_type": "code",
   "execution_count": 19,
   "id": "3c810d1e-38a5-4a6f-af07-75664f88a091",
   "metadata": {},
   "outputs": [
    {
     "data": {
      "text/plain": [
       "'Python programming'"
      ]
     },
     "execution_count": 19,
     "metadata": {},
     "output_type": "execute_result"
    }
   ],
   "source": [
    "\"python programming\".capitalize()"
   ]
  },
  {
   "cell_type": "markdown",
   "id": "24a9ded0-9b42-4107-bdd3-da5af3dc1414",
   "metadata": {},
   "source": [
    "5- Given the string below, write Python code to:\n",
    "\n",
    "Convert the string so that each word starts with a capital letter\n",
    "\n",
    "Then swap the case of every letter in the resulting string\n",
    "\n",
    "Print the final result.\n",
    "\n",
    "text1 = \"learning PYTHON is AWESOME\""
   ]
  },
  {
   "cell_type": "code",
   "execution_count": 20,
   "id": "74cdaabf-4f05-4a53-9e4d-7a4cbfc2ef2a",
   "metadata": {},
   "outputs": [
    {
     "data": {
      "text/plain": [
       "'learning PYTHON is AWESOME'"
      ]
     },
     "execution_count": 20,
     "metadata": {},
     "output_type": "execute_result"
    }
   ],
   "source": [
    "text1 = \"learning PYTHON is AWESOME\"\n",
    "text1"
   ]
  },
  {
   "cell_type": "code",
   "execution_count": 21,
   "id": "a20c00c4-99fa-4c68-96d3-c79c76f5ebaa",
   "metadata": {},
   "outputs": [
    {
     "data": {
      "text/plain": [
       "'Learning Python Is Awesome'"
      ]
     },
     "execution_count": 21,
     "metadata": {},
     "output_type": "execute_result"
    }
   ],
   "source": [
    "text2=text1.title()\n",
    "text2"
   ]
  },
  {
   "cell_type": "code",
   "execution_count": 22,
   "id": "62aa91bd-bc86-4187-b7b3-a83650f72558",
   "metadata": {},
   "outputs": [
    {
     "data": {
      "text/plain": [
       "'lEARNING pYTHON iS aWESOME'"
      ]
     },
     "execution_count": 22,
     "metadata": {},
     "output_type": "execute_result"
    }
   ],
   "source": [
    "text2.swapcase()"
   ]
  },
  {
   "cell_type": "raw",
   "id": "4db2b478-3a52-4e09-98ef-a245c30a52e0",
   "metadata": {},
   "source": [
    "# or"
   ]
  },
  {
   "cell_type": "code",
   "execution_count": 23,
   "id": "a8afac1d-5e9c-4490-889d-d7e812f34964",
   "metadata": {},
   "outputs": [
    {
     "data": {
      "text/plain": [
       "'Learning Python Is Awesome'"
      ]
     },
     "execution_count": 23,
     "metadata": {},
     "output_type": "execute_result"
    }
   ],
   "source": [
    "\"learning PYTHON is AWESOME\".title()"
   ]
  },
  {
   "cell_type": "code",
   "execution_count": 24,
   "id": "a0050a32-d722-4dcf-8acd-713cbbac8034",
   "metadata": {},
   "outputs": [
    {
     "data": {
      "text/plain": [
       "'lEARNING pYTHON iS aWESOME'"
      ]
     },
     "execution_count": 24,
     "metadata": {},
     "output_type": "execute_result"
    }
   ],
   "source": [
    "'Learning Python Is Awesome'.swapcase()"
   ]
  },
  {
   "cell_type": "markdown",
   "id": "99163be0-8b38-4d39-a4d6-8099e6a6eee7",
   "metadata": {},
   "source": [
    "6- \n",
    "\n",
    "Write Python code to check and print whether the string satisfies the following:\n",
    "\n",
    "Is alphanumeric?\n",
    "\n",
    "Is alphabetic only?\n",
    "\n",
    "text2 = \"HelloWorld123\"\n"
   ]
  },
  {
   "cell_type": "code",
   "execution_count": 25,
   "id": "3548c0d5-3402-4e61-9aa8-930b2bc5e157",
   "metadata": {},
   "outputs": [],
   "source": [
    "text2 = \"HelloWorld123\""
   ]
  },
  {
   "cell_type": "code",
   "execution_count": 26,
   "id": "4abc0f30-31fc-452e-99e4-1554b13a1d66",
   "metadata": {},
   "outputs": [
    {
     "data": {
      "text/plain": [
       "True"
      ]
     },
     "execution_count": 26,
     "metadata": {},
     "output_type": "execute_result"
    }
   ],
   "source": [
    "text2.isalnum()"
   ]
  },
  {
   "cell_type": "code",
   "execution_count": 27,
   "id": "c62fa2b5-10bb-4e49-afb4-32f7c7b8e31b",
   "metadata": {},
   "outputs": [
    {
     "data": {
      "text/plain": [
       "False"
      ]
     },
     "execution_count": 27,
     "metadata": {},
     "output_type": "execute_result"
    }
   ],
   "source": [
    "text2.isalpha()"
   ]
  },
  {
   "cell_type": "raw",
   "id": "23980e53-3ecc-4081-a452-9ae7003d6ac9",
   "metadata": {},
   "source": [
    "# or "
   ]
  },
  {
   "cell_type": "code",
   "execution_count": 46,
   "id": "e24a0ade-f750-439c-9a30-934889ebd98e",
   "metadata": {},
   "outputs": [
    {
     "data": {
      "text/plain": [
       "True"
      ]
     },
     "execution_count": 46,
     "metadata": {},
     "output_type": "execute_result"
    }
   ],
   "source": [
    "\"HelloWorld123\".isalnum()"
   ]
  },
  {
   "cell_type": "code",
   "execution_count": 47,
   "id": "1ba79902-c359-4d3e-b118-375736574617",
   "metadata": {},
   "outputs": [
    {
     "data": {
      "text/plain": [
       "False"
      ]
     },
     "execution_count": 47,
     "metadata": {},
     "output_type": "execute_result"
    }
   ],
   "source": [
    "\"HelloWorld123\".isalpha()"
   ]
  },
  {
   "cell_type": "markdown",
   "id": "86df8b45-2f46-4da8-b56b-e8967309738d",
   "metadata": {},
   "source": [
    "7- \n",
    "\n",
    "Write Python code to check and print whether the string satisfies the following:\n",
    "\n",
    "Is the string made up of digits only?\n",
    "\n",
    "Is the string all lowercase?\n",
    "\n",
    "text3 = \"helloworld\""
   ]
  },
  {
   "cell_type": "code",
   "execution_count": 28,
   "id": "db4b42aa-2eaa-4a6e-96a7-562770c6853b",
   "metadata": {},
   "outputs": [],
   "source": [
    "text3 = \"helloworld\""
   ]
  },
  {
   "cell_type": "code",
   "execution_count": 29,
   "id": "d2c78b87-0b65-4de5-a662-7cea8f3a4f6d",
   "metadata": {},
   "outputs": [
    {
     "data": {
      "text/plain": [
       "False"
      ]
     },
     "execution_count": 29,
     "metadata": {},
     "output_type": "execute_result"
    }
   ],
   "source": [
    "text3.isnumeric()"
   ]
  },
  {
   "cell_type": "code",
   "execution_count": 30,
   "id": "546f3aba-f6fb-4f36-91dc-46298240c62e",
   "metadata": {},
   "outputs": [
    {
     "data": {
      "text/plain": [
       "True"
      ]
     },
     "execution_count": 30,
     "metadata": {},
     "output_type": "execute_result"
    }
   ],
   "source": [
    "text3.islower()"
   ]
  },
  {
   "cell_type": "raw",
   "id": "546fb971-eae6-4bb3-a967-daea4dab1323",
   "metadata": {},
   "source": [
    "# or"
   ]
  },
  {
   "cell_type": "code",
   "execution_count": 31,
   "id": "13aebe9f-f047-4fa6-b64e-77e5e7cc3141",
   "metadata": {},
   "outputs": [
    {
     "data": {
      "text/plain": [
       "False"
      ]
     },
     "execution_count": 31,
     "metadata": {},
     "output_type": "execute_result"
    }
   ],
   "source": [
    "\"helloworld\".isnumeric()"
   ]
  },
  {
   "cell_type": "code",
   "execution_count": 32,
   "id": "f854f145-6735-42fe-a0ea-31406a1c7086",
   "metadata": {},
   "outputs": [
    {
     "data": {
      "text/plain": [
       "True"
      ]
     },
     "execution_count": 32,
     "metadata": {},
     "output_type": "execute_result"
    }
   ],
   "source": [
    "\"helloworld\".islower()"
   ]
  },
  {
   "cell_type": "markdown",
   "id": "d5abaffa-dab0-4c62-94a6-7639e02d4753",
   "metadata": {},
   "source": [
    "8-\n",
    "\n",
    "Write Python code to check and print whether the string satisfies the following:\n",
    "\n",
    "Is the string all uppercase?\n",
    "\n",
    "Is the string titlecased?\n",
    "\n",
    "text4 = 'Hi We Are Learning Python'"
   ]
  },
  {
   "cell_type": "code",
   "execution_count": 33,
   "id": "9add20b5-1afd-4484-bd23-311ba2ff621b",
   "metadata": {},
   "outputs": [],
   "source": [
    "text4 = 'Hi We Are Learning Python'"
   ]
  },
  {
   "cell_type": "code",
   "execution_count": 34,
   "id": "af07c206-8a41-4347-953f-4d4bd59c361e",
   "metadata": {},
   "outputs": [
    {
     "data": {
      "text/plain": [
       "False"
      ]
     },
     "execution_count": 34,
     "metadata": {},
     "output_type": "execute_result"
    }
   ],
   "source": [
    "text4.isupper()"
   ]
  },
  {
   "cell_type": "code",
   "execution_count": 35,
   "id": "d8e06e55-71b3-4bfd-9cb8-06107745c57e",
   "metadata": {},
   "outputs": [
    {
     "data": {
      "text/plain": [
       "True"
      ]
     },
     "execution_count": 35,
     "metadata": {},
     "output_type": "execute_result"
    }
   ],
   "source": [
    "text4.istitle()"
   ]
  },
  {
   "cell_type": "raw",
   "id": "aa39cb0d-3c2f-4252-8e6a-5a51f5346daf",
   "metadata": {},
   "source": [
    "# or"
   ]
  },
  {
   "cell_type": "code",
   "execution_count": 36,
   "id": "46fc7e3a-c66e-47db-9289-852700216062",
   "metadata": {},
   "outputs": [
    {
     "data": {
      "text/plain": [
       "False"
      ]
     },
     "execution_count": 36,
     "metadata": {},
     "output_type": "execute_result"
    }
   ],
   "source": [
    "'Hi We Are Learning Python'.isupper()"
   ]
  },
  {
   "cell_type": "code",
   "execution_count": 37,
   "id": "2cf9c9a9-55d1-4286-996c-7c5f39806500",
   "metadata": {},
   "outputs": [
    {
     "data": {
      "text/plain": [
       "True"
      ]
     },
     "execution_count": 37,
     "metadata": {},
     "output_type": "execute_result"
    }
   ],
   "source": [
    "'Hi We Are Learning Python'.istitle()"
   ]
  },
  {
   "cell_type": "markdown",
   "id": "005214b5-3e90-488d-9f1a-19fa65b5c830",
   "metadata": {},
   "source": [
    "9- \n",
    "\n",
    "Write Python code to check and print whether the string:\n",
    "\n",
    "Starts with \"data\"\n",
    "\n",
    "Ends with \".csv\"\n",
    "\n",
    "text5 = \"data_report_2023.csv\"\n"
   ]
  },
  {
   "cell_type": "code",
   "execution_count": 38,
   "id": "9b1ce37a-f2ac-494b-80bb-7933d1e65ec9",
   "metadata": {},
   "outputs": [],
   "source": [
    "text5 = \"data_report_2023.csv\""
   ]
  },
  {
   "cell_type": "code",
   "execution_count": 39,
   "id": "5a3b9bc7-7633-4f52-addd-5540414a9de4",
   "metadata": {},
   "outputs": [
    {
     "data": {
      "text/plain": [
       "True"
      ]
     },
     "execution_count": 39,
     "metadata": {},
     "output_type": "execute_result"
    }
   ],
   "source": [
    "text5.startswith(\"data\")"
   ]
  },
  {
   "cell_type": "code",
   "execution_count": 40,
   "id": "527b48ac-3339-4e7f-a4fc-5ac53cb40ac2",
   "metadata": {},
   "outputs": [
    {
     "data": {
      "text/plain": [
       "True"
      ]
     },
     "execution_count": 40,
     "metadata": {},
     "output_type": "execute_result"
    }
   ],
   "source": [
    "text5.endswith(\".csv\")"
   ]
  },
  {
   "cell_type": "raw",
   "id": "1e68a8d8-ebb9-4bcf-a9b2-204d5c317505",
   "metadata": {},
   "source": [
    "# or"
   ]
  },
  {
   "cell_type": "code",
   "execution_count": 41,
   "id": "4acbaec8-1fc4-4df7-825b-e457f2e35a0f",
   "metadata": {},
   "outputs": [
    {
     "data": {
      "text/plain": [
       "True"
      ]
     },
     "execution_count": 41,
     "metadata": {},
     "output_type": "execute_result"
    }
   ],
   "source": [
    "\"data_report_2023.csv\".startswith(\"data\")"
   ]
  },
  {
   "cell_type": "code",
   "execution_count": 42,
   "id": "39a6a4a3-5cf4-4b1a-aca0-40af520d41c4",
   "metadata": {},
   "outputs": [
    {
     "data": {
      "text/plain": [
       "True"
      ]
     },
     "execution_count": 42,
     "metadata": {},
     "output_type": "execute_result"
    }
   ],
   "source": [
    "\"data_report_2023.csv\".endswith(\".csv\")"
   ]
  },
  {
   "cell_type": "markdown",
   "id": "80bc03e1-c9aa-4c73-ab02-8065a93f0ce5",
   "metadata": {},
   "source": [
    "10-\n",
    "\n",
    "Write Python code to:\n",
    "\n",
    "Count how many times \"banana\" appears in the string.\n",
    "\n",
    "fruit = \"banana bandana banana\"\n"
   ]
  },
  {
   "cell_type": "code",
   "execution_count": 43,
   "id": "93eb2d91-60e5-4cd4-80f8-06551a0b5162",
   "metadata": {},
   "outputs": [],
   "source": [
    "fruit = \"banana bandana banana\""
   ]
  },
  {
   "cell_type": "code",
   "execution_count": 44,
   "id": "0d7a6f1d-6f3b-412e-b3d9-9a847d90ac34",
   "metadata": {},
   "outputs": [
    {
     "data": {
      "text/plain": [
       "2"
      ]
     },
     "execution_count": 44,
     "metadata": {},
     "output_type": "execute_result"
    }
   ],
   "source": [
    "fruit.count(\"banana\")"
   ]
  },
  {
   "cell_type": "raw",
   "id": "fa305d71-39ad-4ec4-8365-e36ae268bb9e",
   "metadata": {},
   "source": [
    "# or"
   ]
  },
  {
   "cell_type": "code",
   "execution_count": 45,
   "id": "a5f74c95-4dc3-4c8b-938b-48eb01a0ac05",
   "metadata": {},
   "outputs": [
    {
     "data": {
      "text/plain": [
       "2"
      ]
     },
     "execution_count": 45,
     "metadata": {},
     "output_type": "execute_result"
    }
   ],
   "source": [
    "\"banana bandana banana\".count(\"banana\")"
   ]
  }
 ],
 "metadata": {
  "kernelspec": {
   "display_name": "Python 3 (ipykernel)",
   "language": "python",
   "name": "python3"
  },
  "language_info": {
   "codemirror_mode": {
    "name": "ipython",
    "version": 3
   },
   "file_extension": ".py",
   "mimetype": "text/x-python",
   "name": "python",
   "nbconvert_exporter": "python",
   "pygments_lexer": "ipython3",
   "version": "3.13.5"
  }
 },
 "nbformat": 4,
 "nbformat_minor": 5
}
