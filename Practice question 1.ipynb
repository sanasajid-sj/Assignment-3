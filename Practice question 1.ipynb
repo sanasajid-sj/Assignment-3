{
 "cells": [
  {
   "cell_type": "raw",
   "id": "e0b0f34d-13ce-47e1-92b9-b3c533fd7194",
   "metadata": {},
   "source": [
    "Write a progarm that ask the user to enter a number\n",
    "If number is even and greator than 50, print \"Even and Big\"\n",
    "If number is even and less than 50, print \"Even and Small\"\n",
    "If number is odd and greator than 50, print \"Odd and Big\"\n",
    "otherwise print \"Odd and Small\""
   ]
  },
  {
   "cell_type": "code",
   "execution_count": 1,
   "id": "8cc42666-767b-4436-b8b9-f4e9af738e5d",
   "metadata": {},
   "outputs": [
    {
     "name": "stdin",
     "output_type": "stream",
     "text": [
      "Enter your number: 45\n"
     ]
    }
   ],
   "source": [
    "a=int(input(\"Enter your number:\"))"
   ]
  },
  {
   "cell_type": "code",
   "execution_count": 2,
   "id": "7404c5d2-630e-4d19-aa8d-a2519bb41f1a",
   "metadata": {},
   "outputs": [
    {
     "data": {
      "text/plain": [
       "45"
      ]
     },
     "execution_count": 2,
     "metadata": {},
     "output_type": "execute_result"
    }
   ],
   "source": [
    "a"
   ]
  },
  {
   "cell_type": "code",
   "execution_count": 3,
   "id": "4d7b5999-d880-46a0-96a5-2eec06cce6f1",
   "metadata": {},
   "outputs": [
    {
     "name": "stdout",
     "output_type": "stream",
     "text": [
      "Odd and Small\n"
     ]
    }
   ],
   "source": [
    "if a%2==0 and a>50:\n",
    "    print(\"Even and Big\")\n",
    "elif a%2==0 and a<50:\n",
    "    print(\"Even and Small\")\n",
    "elif a%2!=0 and a>50:\n",
    "    print(\"Odd and Big\")\n",
    "else:\n",
    "    print(\"Odd and Small\")"
   ]
  },
  {
   "cell_type": "code",
   "execution_count": 4,
   "id": "96cb557e-def0-484a-95e7-1fc1d73adc92",
   "metadata": {},
   "outputs": [
    {
     "name": "stdin",
     "output_type": "stream",
     "text": [
      "Enter your number: 75\n"
     ]
    }
   ],
   "source": [
    "a=int(input(\"Enter your number:\"))"
   ]
  },
  {
   "cell_type": "code",
   "execution_count": 5,
   "id": "01f81791-4504-4304-991b-93c8040d0d35",
   "metadata": {},
   "outputs": [
    {
     "data": {
      "text/plain": [
       "75"
      ]
     },
     "execution_count": 5,
     "metadata": {},
     "output_type": "execute_result"
    }
   ],
   "source": [
    "a"
   ]
  },
  {
   "cell_type": "code",
   "execution_count": 6,
   "id": "c9223d7e-0d19-420a-b392-2fc6c9ee59bb",
   "metadata": {},
   "outputs": [
    {
     "name": "stdout",
     "output_type": "stream",
     "text": [
      "Odd and Big\n"
     ]
    }
   ],
   "source": [
    "if a%2==0 and a>50:\n",
    "    print(\"Even and Big\")\n",
    "elif a%2==0 and a<50:\n",
    "    print(\"Even and Small\")\n",
    "elif a%2!=0 and a>50:\n",
    "    print(\"Odd and Big\")\n",
    "else:\n",
    "    print(\"Odd and Small\")\n"
   ]
  },
  {
   "cell_type": "code",
   "execution_count": 7,
   "id": "60aebfcc-6ee9-49bd-b862-781050a11d8f",
   "metadata": {},
   "outputs": [
    {
     "name": "stdin",
     "output_type": "stream",
     "text": [
      "Enter your number: 72\n"
     ]
    }
   ],
   "source": [
    "a=int(input(\"Enter your number:\"))"
   ]
  },
  {
   "cell_type": "code",
   "execution_count": 8,
   "id": "c1e6b095-2f88-44fb-9bf3-5f156e740e3f",
   "metadata": {},
   "outputs": [
    {
     "data": {
      "text/plain": [
       "72"
      ]
     },
     "execution_count": 8,
     "metadata": {},
     "output_type": "execute_result"
    }
   ],
   "source": [
    "a"
   ]
  },
  {
   "cell_type": "code",
   "execution_count": 9,
   "id": "bea2a5ce-9e76-4ac4-94a5-464116e176ac",
   "metadata": {},
   "outputs": [
    {
     "name": "stdout",
     "output_type": "stream",
     "text": [
      "Even and Big\n"
     ]
    }
   ],
   "source": [
    "if a%2==0 and a>50:\n",
    "    print(\"Even and Big\")\n",
    "elif a%2==0 and a<50:\n",
    "    print(\"Even and Small\")\n",
    "elif a%2!=0 and a>50:\n",
    "    print(\"Odd and Big\")\n",
    "else:\n",
    "    print(\"Odd and Small\")"
   ]
  },
  {
   "cell_type": "code",
   "execution_count": 10,
   "id": "f6d7f873-fdb6-473b-87e1-1cabccd16ea5",
   "metadata": {},
   "outputs": [
    {
     "name": "stdin",
     "output_type": "stream",
     "text": [
      "Enter your number: 42\n"
     ]
    }
   ],
   "source": [
    "a=int(input(\"Enter your number:\"))"
   ]
  },
  {
   "cell_type": "code",
   "execution_count": 11,
   "id": "a73d6118-10b8-40d7-b77c-7c0ae7b1863c",
   "metadata": {},
   "outputs": [
    {
     "data": {
      "text/plain": [
       "42"
      ]
     },
     "execution_count": 11,
     "metadata": {},
     "output_type": "execute_result"
    }
   ],
   "source": [
    "a"
   ]
  },
  {
   "cell_type": "code",
   "execution_count": 12,
   "id": "10b10080-d57d-4918-b2f3-f192f2eeb9d2",
   "metadata": {},
   "outputs": [
    {
     "name": "stdout",
     "output_type": "stream",
     "text": [
      "Even and Small\n"
     ]
    }
   ],
   "source": [
    "if a%2==0 and a>50:\n",
    "    print(\"Even and Big\")\n",
    "elif a%2==0 and a<50:\n",
    "    print(\"Even and Small\")\n",
    "elif a%2!=0 and a>50:\n",
    "    print(\"Odd and Big\")\n",
    "else:\n",
    "    print(\"Odd and Small\")"
   ]
  },
  {
   "cell_type": "markdown",
   "id": "6447eef9-b3d7-4f9b-870d-4f35eaf93ac3",
   "metadata": {},
   "source": [
    "##### done!"
   ]
  }
 ],
 "metadata": {
  "kernelspec": {
   "display_name": "Python 3 (ipykernel)",
   "language": "python",
   "name": "python3"
  },
  "language_info": {
   "codemirror_mode": {
    "name": "ipython",
    "version": 3
   },
   "file_extension": ".py",
   "mimetype": "text/x-python",
   "name": "python",
   "nbconvert_exporter": "python",
   "pygments_lexer": "ipython3",
   "version": "3.13.5"
  }
 },
 "nbformat": 4,
 "nbformat_minor": 5
}
