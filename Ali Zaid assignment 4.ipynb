{
 "cells": [
  {
   "cell_type": "code",
   "execution_count": 3,
   "id": "6e674adb-90ce-4ec1-824d-34e6cb54ffa5",
   "metadata": {},
   "outputs": [],
   "source": [
    "text = \"hello python world\""
   ]
  },
  {
   "cell_type": "code",
   "execution_count": 4,
   "id": "159c3a07-28c9-4bfc-8c1f-7cfadec97457",
   "metadata": {},
   "outputs": [
    {
     "name": "stdout",
     "output_type": "stream",
     "text": [
      "hello python world\n"
     ]
    }
   ],
   "source": [
    "print (text)"
   ]
  },
  {
   "cell_type": "code",
   "execution_count": 9,
   "id": "1f409621-cc16-46a5-91f0-365730ded31e",
   "metadata": {},
   "outputs": [],
   "source": [
    "text = \"hello python world\""
   ]
  },
  {
   "cell_type": "code",
   "execution_count": 10,
   "id": "40ff6ca3-441b-486c-9525-10e433b5c35c",
   "metadata": {},
   "outputs": [],
   "source": [
    "new_text = text.replace(\" \", \"_\")"
   ]
  },
  {
   "cell_type": "code",
   "execution_count": 11,
   "id": "9973c833-e733-432d-961f-c8f0da88fe45",
   "metadata": {},
   "outputs": [
    {
     "name": "stdout",
     "output_type": "stream",
     "text": [
      "hello_python_world\n"
     ]
    }
   ],
   "source": [
    "print(new_text)"
   ]
  },
  {
   "cell_type": "code",
   "execution_count": 12,
   "id": "f5cd27e2-d2ce-4c35-8666-38ac3b242c4c",
   "metadata": {},
   "outputs": [],
   "source": [
    "text = \"hello python world\""
   ]
  },
  {
   "cell_type": "code",
   "execution_count": 13,
   "id": "90870fc0-2bd2-46a7-8a14-ba3ca36e0aac",
   "metadata": {},
   "outputs": [],
   "source": [
    "new_text = text.replace(\" \", \"_\")"
   ]
  },
  {
   "cell_type": "code",
   "execution_count": 14,
   "id": "ccbe8965-3c96-4b39-9d68-8f1c4a483fda",
   "metadata": {},
   "outputs": [],
   "source": [
    "split_text = new_text.split(\"_\")"
   ]
  },
  {
   "cell_type": "code",
   "execution_count": 15,
   "id": "88fafceb-319f-446d-9ee3-81f3f1a48077",
   "metadata": {},
   "outputs": [
    {
     "name": "stdout",
     "output_type": "stream",
     "text": [
      "['hello', 'python', 'world']\n"
     ]
    }
   ],
   "source": [
    "print(split_text)"
   ]
  },
  {
   "cell_type": "code",
   "execution_count": 29,
   "id": "28e1216b-03da-49db-acef-b28f6006df4a",
   "metadata": {},
   "outputs": [],
   "source": [
    "text = \"hello python world\""
   ]
  },
  {
   "cell_type": "code",
   "execution_count": 30,
   "id": "8d851a9f-cafb-4d86-9770-49645084a324",
   "metadata": {},
   "outputs": [
    {
     "data": {
      "text/plain": [
       "'hello_python_world'"
      ]
     },
     "execution_count": 30,
     "metadata": {},
     "output_type": "execute_result"
    }
   ],
   "source": [
    "text.replace(\" \", \"_\")"
   ]
  },
  {
   "cell_type": "code",
   "execution_count": 31,
   "id": "a69abaae-f17d-476f-a94c-ea9b95aca63a",
   "metadata": {},
   "outputs": [
    {
     "name": "stdout",
     "output_type": "stream",
     "text": [
      "hello_python_world\n"
     ]
    }
   ],
   "source": [
    "print(text.replace(\" \", \"_\"))"
   ]
  },
  {
   "cell_type": "code",
   "execution_count": 33,
   "id": "2a49db83-3fbe-4b49-ba60-8415925bef08",
   "metadata": {},
   "outputs": [
    {
     "data": {
      "text/plain": [
       "['hello', 'python', 'world']"
      ]
     },
     "execution_count": 33,
     "metadata": {},
     "output_type": "execute_result"
    }
   ],
   "source": [
    "text.replace(\" \", \"_\").split(\"_\")"
   ]
  },
  {
   "cell_type": "code",
   "execution_count": 34,
   "id": "9f7ddfb1-754b-42fa-bb3e-c45e044d8174",
   "metadata": {},
   "outputs": [
    {
     "name": "stdout",
     "output_type": "stream",
     "text": [
      "['hello', 'python', 'world']\n"
     ]
    }
   ],
   "source": [
    "print(text.replace(\" \", \"_\").split(\"_\"))"
   ]
  },
  {
   "cell_type": "code",
   "execution_count": 42,
   "id": "ab765c9c-5ba7-447d-a069-a458ec0e41f9",
   "metadata": {},
   "outputs": [],
   "source": [
    "product_code = \"SKU-12345-XYZ\""
   ]
  },
  {
   "cell_type": "code",
   "execution_count": 48,
   "id": "183e2fe2-c439-41a0-8136-456910a25d4d",
   "metadata": {},
   "outputs": [],
   "source": [
    "first_dash_pos = product_code.find('-')"
   ]
  },
  {
   "cell_type": "code",
   "execution_count": 49,
   "id": "81ff8904-442a-47b4-b33a-8d18a7b4bae2",
   "metadata": {},
   "outputs": [
    {
     "name": "stdout",
     "output_type": "stream",
     "text": [
      "Step 1 - First dash position: 3\n"
     ]
    }
   ],
   "source": [
    "print(\"Step 1 - First dash position:\", first_dash_pos)\n"
   ]
  },
  {
   "cell_type": "code",
   "execution_count": 50,
   "id": "d7584327-5ec7-4605-b7d6-b34d91e25576",
   "metadata": {},
   "outputs": [],
   "source": [
    "dash_count = product_code.count('-')"
   ]
  },
  {
   "cell_type": "code",
   "execution_count": 51,
   "id": "33f2ec8c-e9ab-425f-b655-55009f917c26",
   "metadata": {},
   "outputs": [
    {
     "name": "stdout",
     "output_type": "stream",
     "text": [
      "Step 2 - Number of dashes: 2\n"
     ]
    }
   ],
   "source": [
    "print(\"Step 2 - Number of dashes:\", dash_count)"
   ]
  },
  {
   "cell_type": "code",
   "execution_count": 52,
   "id": "21c13826-497a-418d-bbf4-d9fec930bd8a",
   "metadata": {},
   "outputs": [],
   "source": [
    "parts = product_code.split('-')"
   ]
  },
  {
   "cell_type": "code",
   "execution_count": 53,
   "id": "2c579e01-5373-4775-925a-2ad18708978f",
   "metadata": {},
   "outputs": [],
   "source": [
    "numeric_part_split = parts[1]"
   ]
  },
  {
   "cell_type": "code",
   "execution_count": 54,
   "id": "a62d7bf6-8ebc-43f4-a291-fd0305f4f485",
   "metadata": {},
   "outputs": [
    {
     "name": "stdout",
     "output_type": "stream",
     "text": [
      "Step 3A - Numeric part (split method): 12345\n"
     ]
    }
   ],
   "source": [
    "print(\"Step 3A - Numeric part (split method):\", numeric_part_split)"
   ]
  },
  {
   "cell_type": "code",
   "execution_count": 55,
   "id": "10a933fe-745e-4d21-9e01-560a0af21f63",
   "metadata": {},
   "outputs": [],
   "source": [
    "start = product_code.find('-') + 1"
   ]
  },
  {
   "cell_type": "code",
   "execution_count": 56,
   "id": "d42a2b4c-89bd-44e7-bf88-cfab32fb0851",
   "metadata": {},
   "outputs": [],
   "source": [
    "end = product_code.rfind('-')"
   ]
  },
  {
   "cell_type": "code",
   "execution_count": 57,
   "id": "5c76923d-4daa-4785-bdec-025411350d95",
   "metadata": {},
   "outputs": [],
   "source": [
    "numeric_part_slice = product_code[start:end]"
   ]
  },
  {
   "cell_type": "code",
   "execution_count": 58,
   "id": "090311a5-f3ce-4e98-803c-4960cc666e95",
   "metadata": {},
   "outputs": [
    {
     "name": "stdout",
     "output_type": "stream",
     "text": [
      "Step 3B - Numeric part (slice method): 12345\n"
     ]
    }
   ],
   "source": [
    "print(\"Step 3B - Numeric part (slice method):\", numeric_part_slice)"
   ]
  },
  {
   "cell_type": "code",
   "execution_count": 59,
   "id": "14a03940-eb79-4412-94fb-b4c42c5739eb",
   "metadata": {},
   "outputs": [],
   "source": [
    "text_1 = \"hello world\""
   ]
  },
  {
   "cell_type": "code",
   "execution_count": 60,
   "id": "e3615736-7312-4743-b8d9-8ed188285bb8",
   "metadata": {},
   "outputs": [
    {
     "name": "stdout",
     "output_type": "stream",
     "text": [
      "Original string: 'hello world'\n"
     ]
    }
   ],
   "source": [
    "print(\"Original string:\", repr(text_1))\n"
   ]
  },
  {
   "cell_type": "code",
   "execution_count": 61,
   "id": "a85ac311-4d37-49db-b0fc-0a12ff6ebd00",
   "metadata": {},
   "outputs": [],
   "source": [
    "title_case_1 = text_1.title()"
   ]
  },
  {
   "cell_type": "code",
   "execution_count": 62,
   "id": "a3ef4c52-8ded-4d40-ab69-4a61fa018bb1",
   "metadata": {},
   "outputs": [
    {
     "name": "stdout",
     "output_type": "stream",
     "text": [
      "Step 2 - Using str.title(): Hello World\n"
     ]
    }
   ],
   "source": [
    "print(\"Step 2 - Using str.title():\", title_case_1)\n"
   ]
  },
  {
   "cell_type": "code",
   "execution_count": 63,
   "id": "6ebdf6bf-11c3-4121-8bf3-7d2129906eee",
   "metadata": {},
   "outputs": [],
   "source": [
    "words = text_1.split()"
   ]
  },
  {
   "cell_type": "code",
   "execution_count": 64,
   "id": "6e8fc5f4-d91e-4a9d-a9f2-f8959599858b",
   "metadata": {},
   "outputs": [],
   "source": [
    "title_case_2 = \" \".join(word.capitalize() for word in words)"
   ]
  },
  {
   "cell_type": "code",
   "execution_count": 65,
   "id": "0ba55ffe-9110-4e39-9996-40fc90d7b2f4",
   "metadata": {},
   "outputs": [
    {
     "name": "stdout",
     "output_type": "stream",
     "text": [
      "Step 3 - Using split() + capitalize(): Hello World\n"
     ]
    }
   ],
   "source": [
    "print(\"Step 3 - Using split() + capitalize():\", title_case_2)\n"
   ]
  },
  {
   "cell_type": "code",
   "execution_count": 66,
   "id": "4bd357d4-3d17-44c3-bc49-45e70946bb97",
   "metadata": {},
   "outputs": [
    {
     "name": "stdout",
     "output_type": "stream",
     "text": [
      "Step 4 - Do both methods match? True\n"
     ]
    }
   ],
   "source": [
    "print(\"Step 4 - Do both methods match?\", title_case_1 == title_case_2)\n"
   ]
  },
  {
   "cell_type": "code",
   "execution_count": 67,
   "id": "a629ed85-6996-4372-a5b7-600c176dcb23",
   "metadata": {},
   "outputs": [
    {
     "name": "stdout",
     "output_type": "stream",
     "text": [
      "Final Title Case Result: Hello World\n"
     ]
    }
   ],
   "source": [
    "print(\"Final Title Case Result:\", title_case_1)\n"
   ]
  },
  {
   "cell_type": "code",
   "execution_count": 68,
   "id": "2c2e48bb-2b99-4c52-87ee-f645628acf16",
   "metadata": {},
   "outputs": [],
   "source": [
    "text_2 = \"python programming\""
   ]
  },
  {
   "cell_type": "code",
   "execution_count": 69,
   "id": "e827b8d6-e67e-4b1b-b7b1-6c81aff9c6a6",
   "metadata": {},
   "outputs": [
    {
     "name": "stdout",
     "output_type": "stream",
     "text": [
      "Original string: 'python programming'\n"
     ]
    }
   ],
   "source": [
    "print(\"Original string:\", repr(text_2))\n"
   ]
  },
  {
   "cell_type": "code",
   "execution_count": 70,
   "id": "88872872-e28e-49b8-ac3a-d60dd21f7371",
   "metadata": {},
   "outputs": [],
   "source": [
    "cap_method = text_2.capitalize()"
   ]
  },
  {
   "cell_type": "code",
   "execution_count": 71,
   "id": "91ebaf68-43d4-4267-8175-ae3b63fdff17",
   "metadata": {},
   "outputs": [
    {
     "name": "stdout",
     "output_type": "stream",
     "text": [
      "Step 2 - Using str.capitalize(): Python programming\n"
     ]
    }
   ],
   "source": [
    "print(\"Step 2 - Using str.capitalize():\", cap_method)\n"
   ]
  },
  {
   "cell_type": "code",
   "execution_count": 73,
   "id": "bf670751-4ca9-4891-b557-3a328ab8667c",
   "metadata": {},
   "outputs": [],
   "source": [
    "manual_method = text_2[0].upper() + text_2[1:]"
   ]
  },
  {
   "cell_type": "code",
   "execution_count": 74,
   "id": "964e56dc-e85a-4bc7-82ff-cdb84feffd85",
   "metadata": {},
   "outputs": [
    {
     "name": "stdout",
     "output_type": "stream",
     "text": [
      "Step 3 - Manual method: Python programming\n"
     ]
    }
   ],
   "source": [
    "print(\"Step 3 - Manual method:\", manual_method)"
   ]
  },
  {
   "cell_type": "code",
   "execution_count": 75,
   "id": "a0b9257e-de46-4d8f-b940-1a7f073d2ab2",
   "metadata": {},
   "outputs": [
    {
     "name": "stdout",
     "output_type": "stream",
     "text": [
      "Step 4 - Do both methods match? True\n"
     ]
    }
   ],
   "source": [
    "print(\"Step 4 - Do both methods match?\", cap_method == manual_method)\n"
   ]
  },
  {
   "cell_type": "code",
   "execution_count": 76,
   "id": "a7ac2b8a-5e5f-4d85-937a-092297b8e891",
   "metadata": {},
   "outputs": [
    {
     "name": "stdout",
     "output_type": "stream",
     "text": [
      "Final Result: Python programming\n"
     ]
    }
   ],
   "source": [
    "print(\"Final Result:\", manual_method)"
   ]
  },
  {
   "cell_type": "code",
   "execution_count": 77,
   "id": "53f2c8ac-3235-4f78-9cfd-cd6e483f2696",
   "metadata": {},
   "outputs": [],
   "source": [
    "text1 = \"learning PYTHON is AWESOME\""
   ]
  },
  {
   "cell_type": "code",
   "execution_count": 78,
   "id": "bf08e64d-99da-4e08-ba37-c164ae7e6380",
   "metadata": {},
   "outputs": [
    {
     "name": "stdout",
     "output_type": "stream",
     "text": [
      "Original string: 'learning PYTHON is AWESOME'\n"
     ]
    }
   ],
   "source": [
    "print(\"Original string:\", repr(text1))\n"
   ]
  },
  {
   "cell_type": "code",
   "execution_count": 79,
   "id": "4d16fcd6-7607-49d1-8a1a-d61f72e03410",
   "metadata": {},
   "outputs": [],
   "source": [
    "title_case = text1.title()"
   ]
  },
  {
   "cell_type": "code",
   "execution_count": 80,
   "id": "42ea0140-8432-4fe0-80b0-9b8380255010",
   "metadata": {},
   "outputs": [
    {
     "name": "stdout",
     "output_type": "stream",
     "text": [
      "Step 2 - Title case result: Learning Python Is Awesome\n"
     ]
    }
   ],
   "source": [
    "print(\"Step 2 - Title case result:\", title_case)\n"
   ]
  },
  {
   "cell_type": "code",
   "execution_count": 81,
   "id": "534d3a9c-7840-461e-abfc-69cce53d3fc7",
   "metadata": {},
   "outputs": [],
   "source": [
    "swapped = title_case.swapcase()"
   ]
  },
  {
   "cell_type": "code",
   "execution_count": 82,
   "id": "9ba690c7-5165-45c9-963d-c23743ab5fb9",
   "metadata": {},
   "outputs": [
    {
     "name": "stdout",
     "output_type": "stream",
     "text": [
      "Step 3 - After swapcase: lEARNING pYTHON iS aWESOME\n"
     ]
    }
   ],
   "source": [
    "print(\"Step 3 - After swapcase:\", swapped)\n"
   ]
  },
  {
   "cell_type": "code",
   "execution_count": 83,
   "id": "7efbe27c-4602-418a-a7ad-5eeb4175ab65",
   "metadata": {},
   "outputs": [
    {
     "name": "stdout",
     "output_type": "stream",
     "text": [
      "Final result: lEARNING pYTHON iS aWESOME\n"
     ]
    }
   ],
   "source": [
    "print(\"Final result:\", swapped)"
   ]
  },
  {
   "cell_type": "code",
   "execution_count": 84,
   "id": "588db5a9-0fe4-450d-91de-6d33216f1479",
   "metadata": {},
   "outputs": [],
   "source": [
    "text2 = \"HelloWorld123\"\n"
   ]
  },
  {
   "cell_type": "code",
   "execution_count": 85,
   "id": "061dc457-07d9-4893-b5c9-c334d0332376",
   "metadata": {},
   "outputs": [
    {
     "name": "stdout",
     "output_type": "stream",
     "text": [
      "Original string: 'HelloWorld123'\n"
     ]
    }
   ],
   "source": [
    "print(\"Original string:\", repr(text2))"
   ]
  },
  {
   "cell_type": "code",
   "execution_count": 86,
   "id": "b4113e35-1c14-4b2b-a906-d2335198785d",
   "metadata": {},
   "outputs": [],
   "source": [
    "is_alnum = text2.isalnum()"
   ]
  },
  {
   "cell_type": "code",
   "execution_count": 87,
   "id": "ffc2e051-c838-4bb5-9834-43196190c066",
   "metadata": {},
   "outputs": [
    {
     "name": "stdout",
     "output_type": "stream",
     "text": [
      "Step 2 - Is alphanumeric?: True\n"
     ]
    }
   ],
   "source": [
    "print(\"Step 2 - Is alphanumeric?:\", is_alnum)\n"
   ]
  },
  {
   "cell_type": "code",
   "execution_count": 88,
   "id": "8cc8ac3f-c17e-485d-a837-1a5cd543c209",
   "metadata": {},
   "outputs": [],
   "source": [
    "is_alpha = text2.isalpha()"
   ]
  },
  {
   "cell_type": "code",
   "execution_count": 89,
   "id": "b72309b7-052a-4912-97a4-956f695c1378",
   "metadata": {},
   "outputs": [
    {
     "name": "stdout",
     "output_type": "stream",
     "text": [
      "Step 3 - Is alphabetic only?: False\n"
     ]
    }
   ],
   "source": [
    "print(\"Step 3 - Is alphabetic only?:\", is_alpha)\n"
   ]
  },
  {
   "cell_type": "code",
   "execution_count": 92,
   "id": "718cce27-f07c-4ca5-a61e-517e88a03a8f",
   "metadata": {},
   "outputs": [
    {
     "name": "stdout",
     "output_type": "stream",
     "text": [
      "Interpretation: The string has both letters and numbers, so it's alphanumeric but not alphabetic-only.\n"
     ]
    }
   ],
   "source": [
    "print(\"Interpretation: The string has both letters and numbers, so it's alphanumeric but not alphabetic-only.\")"
   ]
  },
  {
   "cell_type": "code",
   "execution_count": 93,
   "id": "ecf12f43-f345-4895-a091-69fdb67588d8",
   "metadata": {},
   "outputs": [
    {
     "name": "stdout",
     "output_type": "stream",
     "text": [
      "Interpretation: The string has only letters, so it's both alphanumeric and alphabetic.\n"
     ]
    }
   ],
   "source": [
    " print(\"Interpretation: The string has only letters, so it's both alphanumeric and alphabetic.\")"
   ]
  },
  {
   "cell_type": "code",
   "execution_count": 94,
   "id": "3a781f88-16f7-4670-b548-ec6d57ec3cff",
   "metadata": {},
   "outputs": [
    {
     "name": "stdout",
     "output_type": "stream",
     "text": [
      "Interpretation: The string contains other characters (spaces, punctuation, etc.).\n"
     ]
    }
   ],
   "source": [
    " print(\"Interpretation: The string contains other characters (spaces, punctuation, etc.).\")"
   ]
  },
  {
   "cell_type": "code",
   "execution_count": 95,
   "id": "20273db8-07fc-4476-b54f-11660252ad09",
   "metadata": {},
   "outputs": [],
   "source": [
    "text3 = \"helloworld\"\n"
   ]
  },
  {
   "cell_type": "code",
   "execution_count": 96,
   "id": "54129f9e-4dc8-4f67-863d-d6c20c2ac298",
   "metadata": {},
   "outputs": [
    {
     "name": "stdout",
     "output_type": "stream",
     "text": [
      "Original string: 'helloworld'\n"
     ]
    }
   ],
   "source": [
    "print(\"Original string:\", repr(text3))\n"
   ]
  },
  {
   "cell_type": "code",
   "execution_count": 97,
   "id": "6b654e7c-48e3-4114-88e5-45ab3b047718",
   "metadata": {},
   "outputs": [],
   "source": [
    "is_digits_only = text3.isdigit()"
   ]
  },
  {
   "cell_type": "code",
   "execution_count": 98,
   "id": "032e4110-e252-41c0-a540-da6b76a58efa",
   "metadata": {},
   "outputs": [
    {
     "name": "stdout",
     "output_type": "stream",
     "text": [
      "Step 2 - Is the string made up of digits only?: False\n"
     ]
    }
   ],
   "source": [
    "print(\"Step 2 - Is the string made up of digits only?:\", is_digits_only)\n"
   ]
  },
  {
   "cell_type": "code",
   "execution_count": 99,
   "id": "9909aec8-e568-4127-9159-0f904c98dfc6",
   "metadata": {},
   "outputs": [],
   "source": [
    "is_all_lowercase = text3.islower()"
   ]
  },
  {
   "cell_type": "code",
   "execution_count": 100,
   "id": "68db771a-3210-4412-967d-26c8fcdf5edd",
   "metadata": {},
   "outputs": [
    {
     "name": "stdout",
     "output_type": "stream",
     "text": [
      "Step 3 - Is the string all lowercase?: True\n"
     ]
    }
   ],
   "source": [
    "print(\"Step 3 - Is the string all lowercase?:\", is_all_lowercase)\n"
   ]
  },
  {
   "cell_type": "code",
   "execution_count": 102,
   "id": "fe234b0a-ef6a-4ef7-b559-3d090222abbc",
   "metadata": {},
   "outputs": [
    {
     "name": "stdout",
     "output_type": "stream",
     "text": [
      "Interpretation: The string is digits-only and lowercase (rare case).\n"
     ]
    }
   ],
   "source": [
    " print(\"Interpretation: The string is digits-only and lowercase (rare case).\")"
   ]
  },
  {
   "cell_type": "code",
   "execution_count": 103,
   "id": "e717c2e7-b3f3-454b-9d1b-f953dc60ef41",
   "metadata": {},
   "outputs": [
    {
     "name": "stdout",
     "output_type": "stream",
     "text": [
      "Interpretation: The string is digits-only.\n"
     ]
    }
   ],
   "source": [
    "print(\"Interpretation: The string is digits-only.\")"
   ]
  },
  {
   "cell_type": "code",
   "execution_count": 104,
   "id": "a3dc8470-d933-4bb3-99fa-2180f9f6303b",
   "metadata": {},
   "outputs": [
    {
     "name": "stdout",
     "output_type": "stream",
     "text": [
      "Interpretation: The string is not digits-only but is all lowercase.\n"
     ]
    }
   ],
   "source": [
    " print(\"Interpretation: The string is not digits-only but is all lowercase.\")"
   ]
  },
  {
   "cell_type": "code",
   "execution_count": 105,
   "id": "5ee06809-ac69-4ab0-b0ff-383973dc84e7",
   "metadata": {},
   "outputs": [
    {
     "name": "stdout",
     "output_type": "stream",
     "text": [
      "Interpretation: The string is neither digits-only nor all lowercase.\n"
     ]
    }
   ],
   "source": [
    " print(\"Interpretation: The string is neither digits-only nor all lowercase.\")\n"
   ]
  },
  {
   "cell_type": "code",
   "execution_count": 106,
   "id": "23634a41-7c21-4e93-b701-9f36ed313031",
   "metadata": {},
   "outputs": [],
   "source": [
    "text4 = \"Hi We Are Learning Python\"\n"
   ]
  },
  {
   "cell_type": "code",
   "execution_count": 107,
   "id": "cb963788-36e1-4764-9148-63fe7196dc6e",
   "metadata": {},
   "outputs": [
    {
     "name": "stdout",
     "output_type": "stream",
     "text": [
      "Original string: 'Hi We Are Learning Python'\n"
     ]
    }
   ],
   "source": [
    "print(\"Original string:\", repr(text4))\n"
   ]
  },
  {
   "cell_type": "code",
   "execution_count": 108,
   "id": "58365737-17b3-47f8-84bf-9cce2d5612a4",
   "metadata": {},
   "outputs": [],
   "source": [
    "is_all_upper = text4.isupper()"
   ]
  },
  {
   "cell_type": "code",
   "execution_count": 109,
   "id": "7836f5c3-11ea-48ac-912f-1ef012d1361b",
   "metadata": {},
   "outputs": [
    {
     "name": "stdout",
     "output_type": "stream",
     "text": [
      "Step 2 - Is the string all uppercase?: False\n"
     ]
    }
   ],
   "source": [
    "print(\"Step 2 - Is the string all uppercase?:\", is_all_upper)\n"
   ]
  },
  {
   "cell_type": "code",
   "execution_count": 110,
   "id": "ec63cb66-5c93-45b4-92aa-86e699fbb30b",
   "metadata": {},
   "outputs": [],
   "source": [
    "is_titlecased = text4.istitle()"
   ]
  },
  {
   "cell_type": "code",
   "execution_count": 111,
   "id": "f83fe836-7062-429f-814c-55082ef45beb",
   "metadata": {},
   "outputs": [
    {
     "name": "stdout",
     "output_type": "stream",
     "text": [
      "Step 3 - Is the string titlecased?: True\n"
     ]
    }
   ],
   "source": [
    "print(\"Step 3 - Is the string titlecased?:\", is_titlecased)\n"
   ]
  },
  {
   "cell_type": "code",
   "execution_count": 112,
   "id": "e279b65e-3f8c-45b0-9f23-510f510e9845",
   "metadata": {},
   "outputs": [
    {
     "name": "stdout",
     "output_type": "stream",
     "text": [
      "String converted to uppercase: HI WE ARE LEARNING PYTHON\n"
     ]
    }
   ],
   "source": [
    "print(\"String converted to uppercase:\", text4.upper())"
   ]
  },
  {
   "cell_type": "code",
   "execution_count": 113,
   "id": "ec6919d4-e0ee-45a3-90ea-940b4498b86c",
   "metadata": {},
   "outputs": [
    {
     "name": "stdout",
     "output_type": "stream",
     "text": [
      "String converted to title case: Hi We Are Learning Python\n"
     ]
    }
   ],
   "source": [
    "print(\"String converted to title case:\", text4.title())\n"
   ]
  },
  {
   "cell_type": "code",
   "execution_count": 114,
   "id": "f5bb7920-1d8c-4fc2-b8dc-093eaf842508",
   "metadata": {},
   "outputs": [
    {
     "name": "stdout",
     "output_type": "stream",
     "text": [
      "Interpretation: The string is both all-uppercase and titlecased (rare case).\n"
     ]
    }
   ],
   "source": [
    " print(\"Interpretation: The string is both all-uppercase and titlecased (rare case).\")"
   ]
  },
  {
   "cell_type": "code",
   "execution_count": 115,
   "id": "0fcd4022-e8ca-4d7c-883d-6c7ee18f1c49",
   "metadata": {},
   "outputs": [
    {
     "name": "stdout",
     "output_type": "stream",
     "text": [
      "Interpretation: The string is all-uppercase.\n"
     ]
    }
   ],
   "source": [
    "print(\"Interpretation: The string is all-uppercase.\")"
   ]
  },
  {
   "cell_type": "code",
   "execution_count": 116,
   "id": "690c9d59-9032-46dc-8d46-01d5f0d4281c",
   "metadata": {},
   "outputs": [
    {
     "name": "stdout",
     "output_type": "stream",
     "text": [
      "Interpretation: The string is titlecased (each word starts with uppercase and the rest are lowercase).\n"
     ]
    }
   ],
   "source": [
    "print(\"Interpretation: The string is titlecased (each word starts with uppercase and the rest are lowercase).\")"
   ]
  },
  {
   "cell_type": "code",
   "execution_count": 117,
   "id": "7b977063-de4b-421c-b55e-0f66422459a3",
   "metadata": {},
   "outputs": [
    {
     "name": "stdout",
     "output_type": "stream",
     "text": [
      "Interpretation: The string is neither all-uppercase nor titlecased.\n"
     ]
    }
   ],
   "source": [
    " print(\"Interpretation: The string is neither all-uppercase nor titlecased.\")"
   ]
  },
  {
   "cell_type": "code",
   "execution_count": 118,
   "id": "c3e0d3f3-0e52-4fc5-878d-4ce1f4003bdf",
   "metadata": {},
   "outputs": [],
   "source": [
    "text5 = \"data_report_2023.csv\""
   ]
  },
  {
   "cell_type": "code",
   "execution_count": 119,
   "id": "55f217d8-e32d-48e3-a778-a9545f51793c",
   "metadata": {},
   "outputs": [
    {
     "name": "stdout",
     "output_type": "stream",
     "text": [
      "Starts with 'data'?: True\n"
     ]
    }
   ],
   "source": [
    "print(\"Starts with 'data'?:\", text5.startswith(\"data\"))\n"
   ]
  },
  {
   "cell_type": "code",
   "execution_count": 120,
   "id": "286fc8b0-5059-4281-b9bc-6fa55e065c27",
   "metadata": {},
   "outputs": [
    {
     "name": "stdout",
     "output_type": "stream",
     "text": [
      "Ends with '.csv'?: True\n"
     ]
    }
   ],
   "source": [
    "print(\"Ends with '.csv'?:\", text5.endswith(\".csv\"))"
   ]
  },
  {
   "cell_type": "code",
   "execution_count": 121,
   "id": "53114482-965b-4add-882b-0f0a78a61d07",
   "metadata": {},
   "outputs": [],
   "source": [
    "fruit = \"banana bandana banana\"\n"
   ]
  },
  {
   "cell_type": "code",
   "execution_count": 122,
   "id": "df31ea6e-ab67-4799-a37d-f641dc800bf2",
   "metadata": {},
   "outputs": [],
   "source": [
    "count_banana = fruit.count(\"banana\")\n"
   ]
  },
  {
   "cell_type": "code",
   "execution_count": 123,
   "id": "035508ce-4734-4617-b4fe-1b93b86599ff",
   "metadata": {},
   "outputs": [
    {
     "name": "stdout",
     "output_type": "stream",
     "text": [
      "Original string: banana bandana banana\n"
     ]
    }
   ],
   "source": [
    "print(\"Original string:\", fruit)"
   ]
  },
  {
   "cell_type": "code",
   "execution_count": 124,
   "id": "f0427832-de95-4cbd-b713-5eaac55b8fea",
   "metadata": {},
   "outputs": [
    {
     "name": "stdout",
     "output_type": "stream",
     "text": [
      "Number of times 'banana' appears: 2\n"
     ]
    }
   ],
   "source": [
    "print(\"Number of times 'banana' appears:\", count_banana)\n"
   ]
  },
  {
   "cell_type": "code",
   "execution_count": null,
   "id": "6dd2aab7-a358-4faf-b5b4-0f43b75c1a44",
   "metadata": {},
   "outputs": [],
   "source": []
  }
 ],
 "metadata": {
  "kernelspec": {
   "display_name": "Python [conda env:base] *",
   "language": "python",
   "name": "conda-base-py"
  },
  "language_info": {
   "codemirror_mode": {
    "name": "ipython",
    "version": 3
   },
   "file_extension": ".py",
   "mimetype": "text/x-python",
   "name": "python",
   "nbconvert_exporter": "python",
   "pygments_lexer": "ipython3",
   "version": "3.13.5"
  }
 },
 "nbformat": 4,
 "nbformat_minor": 5
}
