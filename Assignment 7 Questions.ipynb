{
 "cells": [
  {
   "cell_type": "markdown",
   "id": "ce724d93-8f13-4293-9c50-ef0514adab8c",
   "metadata": {},
   "source": [
    "Question 1:\n",
    "\n",
    "Write a Python program that prints numbers from 1 to 20, but skips all even numbers.\n",
    "\n",
    "Use a while loop.\n",
    "\n",
    "Use the continue statement\n",
    "\n",
    "The numbers should be printed on the same line separated by spaces.\n",
    "\n",
    "Expected Output:\n",
    "\n",
    "1 3 5 7 9 11 13 15 17 19"
   ]
  },
  {
   "cell_type": "code",
   "execution_count": 1,
   "id": "0c6532d9-3f5d-4712-a0aa-68365c3d1dde",
   "metadata": {},
   "outputs": [
    {
     "name": "stdout",
     "output_type": "stream",
     "text": [
      "1 3 5 7 9 11 13 15 17 19 "
     ]
    }
   ],
   "source": [
    "i = 1\n",
    "while i <= 20:\n",
    "    if i % 2 == 0:\n",
    "        i += 1\n",
    "        continue\n",
    "    print(i, end=\" \")\n",
    "    i+=1"
   ]
  },
  {
   "cell_type": "code",
   "execution_count": 2,
   "id": "3829124e-ed57-409d-8ecb-23165f00e73f",
   "metadata": {},
   "outputs": [
    {
     "name": "stdout",
     "output_type": "stream",
     "text": [
      "3 5 7 9 11 13 15 17 19 "
     ]
    }
   ],
   "source": [
    "i = 1\n",
    "while i <= 18:\n",
    "        i += 2\n",
    "        print(i, end=' ')\n"
   ]
  },
  {
   "cell_type": "markdown",
   "id": "b431d0dc-6c6b-4dca-9fc5-f3bba2af76af",
   "metadata": {},
   "source": [
    "Question 2:\n",
    "\n",
    "Write a Python program that keeps asking the user to enter numbers and prints them.\n",
    "\n",
    "The program should stop the loop if the user enters a negative number.\n",
    "\n",
    "Use a while True loop with a break statement\n",
    "\n",
    "Expected Output:\n",
    "\n",
    "Enter a number (negative to stop): 5\n",
    "\n",
    "You entered: 5\n",
    "\n",
    "Enter a number (negative to stop): 10\n",
    "\n",
    "You entered: 10\n",
    "\n",
    "Enter a number (negative to stop): -3\n",
    "\n",
    "Negative number entered. Loop stopped!\n"
   ]
  },
  {
   "cell_type": "code",
   "execution_count": 3,
   "id": "594880c5-a8b7-428e-8d29-b93332f43c71",
   "metadata": {},
   "outputs": [
    {
     "name": "stdin",
     "output_type": "stream",
     "text": [
      "Enter a number (negative to stop):  5\n",
      "Enter a number (negative to stop):  10\n",
      "Enter a number (negative to stop):  -3\n"
     ]
    },
    {
     "name": "stdout",
     "output_type": "stream",
     "text": [
      "Negative number entered. Loop stopped!\n",
      "You entered:  -3\n"
     ]
    }
   ],
   "source": [
    "while True:\n",
    "    number = int(input(\"Enter a number (negative to stop): \"))\n",
    "    if number < 0:\n",
    "        print(\"Negative number entered. Loop stopped!\")\n",
    "        break\n",
    "print(\"You entered: \", number)\n",
    "    "
   ]
  },
  {
   "cell_type": "markdown",
   "id": "67b2a90d-44f0-4966-b239-e969c9757206",
   "metadata": {},
   "source": [
    "Question 3:\n",
    "\n",
    "\n",
    "Write a Python program that asks the user to guess a secret word.\n",
    "\n",
    "Keep asking until the user enters the correct word (\"python\").\n",
    "\n",
    "When guessed correctly, print \"🎉 You guessed it!\"\n",
    "\n",
    "Expected Output:\n",
    "\n",
    "Guess the word: java\n",
    "\n",
    "Guess the word: ruby\n",
    "\n",
    "Guess the word: python\n",
    "\n",
    "🎉 You guessed it!"
   ]
  },
  {
   "cell_type": "code",
   "execution_count": 4,
   "id": "a31be16b-01e4-45e5-b855-faf7a0283805",
   "metadata": {},
   "outputs": [
    {
     "name": "stdin",
     "output_type": "stream",
     "text": [
      "Guess a secret word java\n",
      "Guess a secret word ruby\n",
      "Guess a secret word python\n"
     ]
    },
    {
     "name": "stdout",
     "output_type": "stream",
     "text": [
      "🎉 You guessed it!\n"
     ]
    }
   ],
   "source": [
    "while True:\n",
    "    secret_word=\"python\"\n",
    "    guess_a_secret_word=input(\"Guess a secret word\")\n",
    "    if secret_word == guess_a_secret_word:\n",
    "        print(\"🎉 You guessed it!\")\n",
    "        break    "
   ]
  },
  {
   "cell_type": "markdown",
   "id": "ea22d55c-4267-4244-bda3-e93d8988216f",
   "metadata": {},
   "source": [
    "Question 4:\n",
    "\n",
    "orders = [\n",
    "    {\"order_id\": 1, \"customer\": \"Ali\", \"items\": [120, 80, 50]},\n",
    "    {\"order_id\": 2, \"customer\": \"Sara\", \"items\": [200, 150]},\n",
    "    {\"order_id\": 3, \"customer\": \"Raheel\", \"items\": [90, 60, 40, 30]},\n",
    "    {\"order_id\": 4, \"customer\": \"Naveed\", \"items\": [300]},\n",
    "]\n",
    "\n",
    "You are given a list of e-commerce orders. Each order has:\n",
    "\n",
    "an order ID\n",
    "\n",
    "a customer name\n",
    "\n",
    "a list of items with prices\n",
    "\n",
    "Write a Python program to print all items for each order using nested while loops.\n",
    "\n",
    "Expected Output:\n",
    "\n",
    "Order ID: 1 Customer: Ali\n",
    "\n",
    " Item Price: 120\n",
    " \n",
    " Item Price: 80\n",
    " \n",
    " Item Price: 50\n",
    "\n",
    "Order ID: 2 Customer: Sara\n",
    "\n",
    " Item Price: 200\n",
    " \n",
    " Item Price: 150\n",
    "\n",
    "Order ID: 3 Customer: Raheel\n",
    "\n",
    " Item Price: 90\n",
    " \n",
    " Item Price: 60\n",
    " \n",
    " Item Price: 40\n",
    " \n",
    " Item Price: 30\n",
    "\n",
    "Order ID: 4 Customer: Naveed\n",
    "\n",
    " Item Price: 300"
   ]
  },
  {
   "cell_type": "code",
   "execution_count": 5,
   "id": "07d8af1c-d7d3-4e47-84d5-232b48dc2585",
   "metadata": {},
   "outputs": [
    {
     "data": {
      "text/plain": [
       "[{'order_id': 1, 'customer': 'Ali', 'items': [120, 80, 50]},\n",
       " {'order_id': 2, 'customer': 'Sara', 'items': [200, 150]},\n",
       " {'order_id': 3, 'customer': 'Raheel', 'items': [90, 60, 40, 30]},\n",
       " {'order_id': 4, 'customer': 'Naveed', 'items': [300]}]"
      ]
     },
     "execution_count": 5,
     "metadata": {},
     "output_type": "execute_result"
    }
   ],
   "source": [
    "orders = [ {\"order_id\": 1, \"customer\": \"Ali\", \"items\": [120, 80, 50]}, {\"order_id\": 2, \"customer\": \"Sara\", \"items\": [200, 150]}, {\"order_id\": 3, \"customer\": \"Raheel\", \"items\": [90, 60, 40, 30]}, {\"order_id\": 4, \"customer\": \"Naveed\", \"items\": [300]}, ]\n",
    "orders"
   ]
  },
  {
   "cell_type": "code",
   "execution_count": 6,
   "id": "26817cef-522e-4e8f-9fb0-17a73547a231",
   "metadata": {},
   "outputs": [
    {
     "name": "stdout",
     "output_type": "stream",
     "text": [
      "Order ID: 1 Customer: Ali\n",
      "Item Price:  [120, 80, 50]\n",
      "Item Price:  [120, 80, 50]\n",
      "Item Price:  [120, 80, 50]\n",
      "\n",
      "Order ID: 2 Customer: Sara\n",
      "Item Price:  [200, 150]\n",
      "Item Price:  [200, 150]\n",
      "\n",
      "Order ID: 3 Customer: Raheel\n",
      "Item Price:  [90, 60, 40, 30]\n",
      "Item Price:  [90, 60, 40, 30]\n",
      "Item Price:  [90, 60, 40, 30]\n",
      "Item Price:  [90, 60, 40, 30]\n",
      "\n",
      "Order ID: 4 Customer: Naveed\n",
      "Item Price:  [300]\n",
      "\n"
     ]
    }
   ],
   "source": [
    "i = 0\n",
    "while len(orders)>i:\n",
    "    order = orders[i]\n",
    "    print(\"Order ID:\",order['order_id'], \"Customer:\",order['customer'])\n",
    "    j = 0\n",
    "    while len(order[\"items\"])>j:\n",
    "        print(\"Item Price: \",order[\"items\"])\n",
    "        j +=1\n",
    "    print()    \n",
    "    i+=1"
   ]
  },
  {
   "cell_type": "markdown",
   "id": "f7c2bbae-9a3d-454a-9ae7-bf81a77f66a1",
   "metadata": {},
   "source": [
    "Question 5:\n",
    "\n",
    "Print total amount spent by each customer (Using nested while loop)\n",
    "\n",
    "orders = [\n",
    "    {\"order_id\": 1, \"customer\": \"Ali\", \"items\": [120, 80, 50]},\n",
    "    {\"order_id\": 2, \"customer\": \"Sara\", \"items\": [200, 150]},\n",
    "    {\"order_id\": 3, \"customer\": \"Raheel\", \"items\": [90, 60, 40, 30]},\n",
    "    {\"order_id\": 4, \"customer\": \"Naveed\", \"items\": [300]},\n",
    "]\n",
    "\n",
    "Expected Output:\n",
    "\n",
    "Ali spent total: 250\n",
    "\n",
    "Sara spent total: 350\n",
    "\n",
    "Raheel spent total: 220\n",
    "\n",
    "Naveed spent total: 300"
   ]
  },
  {
   "cell_type": "code",
   "execution_count": 7,
   "id": "c444d98e-0a91-47c3-be0c-4b6710ed242e",
   "metadata": {},
   "outputs": [
    {
     "data": {
      "text/plain": [
       "[{'order_id': 1, 'customer': 'Ali', 'items': [120, 80, 50]},\n",
       " {'order_id': 2, 'customer': 'Sara', 'items': [200, 150]},\n",
       " {'order_id': 3, 'customer': 'Raheel', 'items': [90, 60, 40, 30]},\n",
       " {'order_id': 4, 'customer': 'Naveed', 'items': [300]}]"
      ]
     },
     "execution_count": 7,
     "metadata": {},
     "output_type": "execute_result"
    }
   ],
   "source": [
    "orders = [ {\"order_id\": 1, \"customer\": \"Ali\", \"items\": [120, 80, 50]}, {\"order_id\": 2, \"customer\": \"Sara\", \"items\": [200, 150]}, {\"order_id\": 3, \"customer\": \"Raheel\", \"items\": [90, 60, 40, 30]}, {\"order_id\": 4, \"customer\": \"Naveed\", \"items\": [300]}, ]\n",
    "orders"
   ]
  },
  {
   "cell_type": "code",
   "execution_count": 8,
   "id": "cd466611-de87-4188-8822-51919ecf8385",
   "metadata": {},
   "outputs": [
    {
     "name": "stdout",
     "output_type": "stream",
     "text": [
      "Ali spent total: 250\n",
      "\n",
      "Sara spent total: 350\n",
      "\n",
      "Raheel spent total: 220\n",
      "\n",
      "Naveed spent total: 300\n",
      "\n"
     ]
    }
   ],
   "source": [
    "i=0\n",
    "while len(orders)>i:\n",
    "    order= orders[i]\n",
    "    total = 0\n",
    "\n",
    "    j=0\n",
    "    while len(order[\"items\"])>j:\n",
    "        total += order[\"items\"][j]\n",
    "        j+=1\n",
    "    print(order[\"customer\"], \"spent total:\",total)\n",
    "    print()\n",
    "    i+=1"
   ]
  },
  {
   "cell_type": "markdown",
   "id": "9df85479-cd55-4385-90aa-19b0ecc04bcc",
   "metadata": {},
   "source": [
    "Question 6:\n",
    "\n",
    "Print the maximum item price for each order. (Using nested while loop)\n",
    "\n",
    "orders = [ {\"order_id\": 1, \"customer\": \"Ali\", \"items\": [120, 80, 50]}, {\"order_id\": 2, \"customer\": \"Sara\", \"items\": [200, 150]}, {\"order_id\": 3, \"customer\": \"Raheel\", \"items\": [90, 60, 40, 30]}, {\"order_id\": 4, \"customer\": \"Naveed\", \"items\": [300]}, ]\n",
    "\n",
    "Expected Output:\n",
    "\n",
    "Most expensive item in Order 1 = 120\n",
    "\n",
    "Most expensive item in Order 2 = 200\n",
    "\n",
    "Most expensive item in Order 3 = 90\n",
    "\n",
    "Most expensive item in Order 4 = 300"
   ]
  },
  {
   "cell_type": "code",
   "execution_count": 9,
   "id": "fb6fbae2-3e73-4d4f-b4ba-84ffb8abaee1",
   "metadata": {},
   "outputs": [
    {
     "data": {
      "text/plain": [
       "[{'order_id': 1, 'customer': 'Ali', 'items': [120, 80, 50]},\n",
       " {'order_id': 2, 'customer': 'Sara', 'items': [200, 150]},\n",
       " {'order_id': 3, 'customer': 'Raheel', 'items': [90, 60, 40, 30]},\n",
       " {'order_id': 4, 'customer': 'Naveed', 'items': [300]}]"
      ]
     },
     "execution_count": 9,
     "metadata": {},
     "output_type": "execute_result"
    }
   ],
   "source": [
    "orders = [ {\"order_id\": 1, \"customer\": \"Ali\", \"items\": [120, 80, 50]}, {\"order_id\": 2, \"customer\": \"Sara\", \"items\": [200, 150]}, {\"order_id\": 3, \"customer\": \"Raheel\", \"items\": [90, 60, 40, 30]}, {\"order_id\": 4, \"customer\": \"Naveed\", \"items\": [300]}, ]\n",
    "orders"
   ]
  },
  {
   "cell_type": "code",
   "execution_count": 10,
   "id": "8f0a0299-42a5-4ba2-80ae-0a146dfd5e63",
   "metadata": {},
   "outputs": [
    {
     "ename": "NameError",
     "evalue": "name 'max_price' is not defined",
     "output_type": "error",
     "traceback": [
      "\u001b[1;31m---------------------------------------------------------------------------\u001b[0m",
      "\u001b[1;31mNameError\u001b[0m                                 Traceback (most recent call last)",
      "Cell \u001b[1;32mIn[10], line 7\u001b[0m\n\u001b[0;32m      5\u001b[0m j\u001b[38;5;241m=\u001b[39m\u001b[38;5;241m0\u001b[39m\n\u001b[0;32m      6\u001b[0m \u001b[38;5;28;01mwhile\u001b[39;00m \u001b[38;5;28mlen\u001b[39m(item)\u001b[38;5;241m>\u001b[39mj:\n\u001b[1;32m----> 7\u001b[0m     \u001b[38;5;28;01mif\u001b[39;00m item[j] \u001b[38;5;241m>\u001b[39m max_price:\n\u001b[0;32m      8\u001b[0m         max_price \u001b[38;5;241m=\u001b[39m item[j]\n\u001b[0;32m      9\u001b[0m     j\u001b[38;5;241m+\u001b[39m\u001b[38;5;241m=\u001b[39m\u001b[38;5;241m1\u001b[39m\n",
      "\u001b[1;31mNameError\u001b[0m: name 'max_price' is not defined"
     ]
    }
   ],
   "source": [
    "i=0\n",
    "while len(orders)>i:\n",
    "    order = orders[i]\n",
    "    item = order['items']\n",
    "    j=0\n",
    "    while len(item)>j:\n",
    "        if item[j] > max_price:\n",
    "            max_price = item[j]\n",
    "        j+=1\n",
    "    print('Most expensive item in Order', order['order_id'], '=',max_price)\n",
    "    i+=1"
   ]
  },
  {
   "cell_type": "code",
   "execution_count": null,
   "id": "988441c2-c739-4241-be99-eeca80b1d3d8",
   "metadata": {},
   "outputs": [],
   "source": [
    "# unable to solve this question."
   ]
  },
  {
   "cell_type": "markdown",
   "id": "937da036-8d3c-4ea7-a673-09b22d804e90",
   "metadata": {},
   "source": [
    "Question 7:\n",
    "\n",
    "Write a Python program to create a single list (list comprehension) that contains all numbers from 1 to 50 which are multiples of 5 and 10.\n",
    "\n",
    "Expected Output:\n",
    "\n",
    "Multiples of 5 and 10 from 1 to 50: [10, 20, 30, 40, 50]\n"
   ]
  },
  {
   "cell_type": "code",
   "execution_count": 11,
   "id": "73a6a1c0-ed49-4c75-85cf-4401c512202e",
   "metadata": {},
   "outputs": [
    {
     "name": "stdout",
     "output_type": "stream",
     "text": [
      "Multiples of 5 and 10 from 1 to 50: [10, 20, 30, 40, 50]\n"
     ]
    }
   ],
   "source": [
    "Multiples_of_5_and_10_from_1_to_50 = [i for i in range(1,51) if i%5==0 and i%10==0]\n",
    "print(\"Multiples of 5 and 10 from 1 to 50:\",Multiples_of_5_and_10_from_1_to_50 )"
   ]
  },
  {
   "cell_type": "markdown",
   "id": "30e197b2-1fde-4ea1-81dd-078ea3c45379",
   "metadata": {},
   "source": [
    "Question 8:\n",
    "\n",
    "employees = [\n",
    "    {\"emp_id\": 1, \"name\": \"Ali\", \"dept\": \"Sales\", \"salary\": 50000, \"experience\": 2},\n",
    "    {\"emp_id\": 2, \"name\": \"Sara\", \"dept\": \"IT\", \"salary\": 65000, \"experience\": 5},\n",
    "    {\"emp_id\": 3, \"name\": \"Raheel\", \"dept\": \"HR\", \"salary\": 45000, \"experience\": 1},\n",
    "    {\"emp_id\": 4, \"name\": \"Naveed\", \"dept\": \"Finance\", \"salary\": 70000, \"experience\": 7},\n",
    "    {\"emp_id\": 5, \"name\": \"Ayesha\", \"dept\": \"IT\", \"salary\": 72000, \"experience\": 6},\n",
    "    {\"emp_id\": 6, \"name\": \"Talha\", \"dept\": \"Sales\", \"salary\": 55000, \"experience\": 3},\n",
    "    {\"emp_id\": 7, \"name\": \"Sana\", \"dept\": \"Finance\", \"salary\": 80000, \"experience\": 8},\n",
    "    {\"emp_id\": 8, \"name\": \"Hina\", \"dept\": \"HR\", \"salary\": 48000, \"experience\": 2},\n",
    "]\n",
    "\n",
    "Using List Comprehension\n",
    "\n",
    "Employees with salary > 60,000 AND experience > 5 years\n",
    "\n",
    "Expected Output:\n",
    "['Naveed', 'Ayesha', 'Sana']\n"
   ]
  },
  {
   "cell_type": "code",
   "execution_count": 12,
   "id": "9729be76-d2ef-498f-b633-f4bb459382d5",
   "metadata": {},
   "outputs": [
    {
     "data": {
      "text/plain": [
       "[{'emp_id': 1,\n",
       "  'name': 'Ali',\n",
       "  'dept': 'Sales',\n",
       "  'salary': 50000,\n",
       "  'experience': 2},\n",
       " {'emp_id': 2, 'name': 'Sara', 'dept': 'IT', 'salary': 65000, 'experience': 5},\n",
       " {'emp_id': 3,\n",
       "  'name': 'Raheel',\n",
       "  'dept': 'HR',\n",
       "  'salary': 45000,\n",
       "  'experience': 1},\n",
       " {'emp_id': 4,\n",
       "  'name': 'Naveed',\n",
       "  'dept': 'Finance',\n",
       "  'salary': 70000,\n",
       "  'experience': 7},\n",
       " {'emp_id': 5,\n",
       "  'name': 'Ayesha',\n",
       "  'dept': 'IT',\n",
       "  'salary': 72000,\n",
       "  'experience': 6},\n",
       " {'emp_id': 6,\n",
       "  'name': 'Talha',\n",
       "  'dept': 'Sales',\n",
       "  'salary': 55000,\n",
       "  'experience': 3},\n",
       " {'emp_id': 7,\n",
       "  'name': 'Sana',\n",
       "  'dept': 'Finance',\n",
       "  'salary': 80000,\n",
       "  'experience': 8},\n",
       " {'emp_id': 8, 'name': 'Hina', 'dept': 'HR', 'salary': 48000, 'experience': 2}]"
      ]
     },
     "execution_count": 12,
     "metadata": {},
     "output_type": "execute_result"
    }
   ],
   "source": [
    "employees = [ {\"emp_id\": 1, \"name\": \"Ali\", \"dept\": \"Sales\", \"salary\": 50000, \"experience\": 2}, {\"emp_id\": 2, \"name\": \"Sara\", \"dept\": \"IT\", \"salary\": 65000, \"experience\": 5}, {\"emp_id\": 3, \"name\": \"Raheel\", \"dept\": \"HR\", \"salary\": 45000, \"experience\": 1}, {\"emp_id\": 4, \"name\": \"Naveed\", \"dept\": \"Finance\", \"salary\": 70000, \"experience\": 7}, {\"emp_id\": 5, \"name\": \"Ayesha\", \"dept\": \"IT\", \"salary\": 72000, \"experience\": 6}, {\"emp_id\": 6, \"name\": \"Talha\", \"dept\": \"Sales\", \"salary\": 55000, \"experience\": 3}, {\"emp_id\": 7, \"name\": \"Sana\", \"dept\": \"Finance\", \"salary\": 80000, \"experience\": 8}, {\"emp_id\": 8, \"name\": \"Hina\", \"dept\": \"HR\", \"salary\": 48000, \"experience\": 2}, ]\n",
    "employees"
   ]
  },
  {
   "cell_type": "code",
   "execution_count": 13,
   "id": "c1f993f2-f302-4976-8eff-64824c97ea21",
   "metadata": {},
   "outputs": [
    {
     "data": {
      "text/plain": [
       "['Naveed', 'Ayesha', 'Sana']"
      ]
     },
     "execution_count": 13,
     "metadata": {},
     "output_type": "execute_result"
    }
   ],
   "source": [
    "employee_record = [order['name'] for order in employees if order['salary']>60000 and order['experience']>5]\n",
    "employee_record"
   ]
  },
  {
   "cell_type": "markdown",
   "id": "272760fb-2e38-40c4-a02a-9ef737ef1480",
   "metadata": {},
   "source": [
    "Question 9:\n",
    "\n",
    "Employees with NOT HR department\n",
    "\n",
    "Expected Output:\n",
    "['Ali', 'Sara', 'Naveed', 'Ayesha', 'Talha', 'Sana']\n"
   ]
  },
  {
   "cell_type": "code",
   "execution_count": 14,
   "id": "7d3241b8-ffae-449a-99c7-d457a13ab55f",
   "metadata": {},
   "outputs": [
    {
     "data": {
      "text/plain": [
       "['Ali', 'Sara', 'Naveed', 'Ayesha', 'Talha', 'Sana']"
      ]
     },
     "execution_count": 14,
     "metadata": {},
     "output_type": "execute_result"
    }
   ],
   "source": [
    "employee_record1 = [order['name'] for order in employees if order['dept']!='HR']\n",
    "employee_record1"
   ]
  },
  {
   "cell_type": "markdown",
   "id": "2edcf529-d79d-4f32-a576-f2cc918a9a47",
   "metadata": {},
   "source": [
    "Question 10:\n",
    "\n",
    "Employees NOT in Sales OR experience > 5\n",
    "\n",
    "Expected Output:\n",
    "['Sara', 'Raheel', 'Naveed', 'Ayesha', 'Sana', 'Hina']\n"
   ]
  },
  {
   "cell_type": "code",
   "execution_count": 15,
   "id": "4856cf4c-2141-4698-bb59-0b748b0b7034",
   "metadata": {},
   "outputs": [
    {
     "data": {
      "text/plain": [
       "['Sara', 'Raheel', 'Naveed', 'Ayesha', 'Sana', 'Hina']"
      ]
     },
     "execution_count": 15,
     "metadata": {},
     "output_type": "execute_result"
    }
   ],
   "source": [
    "employee_record2 = [order['name'] for order in employees if order['dept']!='Sales' or order['experience']>5]\n",
    "employee_record2"
   ]
  }
 ],
 "metadata": {
  "kernelspec": {
   "display_name": "Python 3 (ipykernel)",
   "language": "python",
   "name": "python3"
  },
  "language_info": {
   "codemirror_mode": {
    "name": "ipython",
    "version": 3
   },
   "file_extension": ".py",
   "mimetype": "text/x-python",
   "name": "python",
   "nbconvert_exporter": "python",
   "pygments_lexer": "ipython3",
   "version": "3.13.5"
  }
 },
 "nbformat": 4,
 "nbformat_minor": 5
}
