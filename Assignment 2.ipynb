{
 "cells": [
  {
   "cell_type": "markdown",
   "id": "5cb2ecfd-b18b-4388-bfea-56ae73b35c51",
   "metadata": {},
   "source": [
    "Q1. Write a program that takes two numbers (a = 15 , b = 4) and prints their:\n",
    "\n",
    "\n",
    "- Sum\n",
    "\n",
    "- Difference\n",
    "\n",
    "- Product\n",
    "\n",
    "- Division\n",
    "\n",
    "- Floor Division\n",
    "\n",
    "- Modulus"
   ]
  },
  {
   "cell_type": "code",
   "execution_count": 1,
   "id": "7f848636-5f3f-4327-b629-022c3e914d75",
   "metadata": {},
   "outputs": [],
   "source": [
    "a = 15"
   ]
  },
  {
   "cell_type": "code",
   "execution_count": 2,
   "id": "b402d8d0-4d10-4c2b-885a-d5701729d1cf",
   "metadata": {},
   "outputs": [],
   "source": [
    "b = 4"
   ]
  },
  {
   "cell_type": "code",
   "execution_count": 3,
   "id": "a7dfe4dd-4016-4897-8cd8-c2574be5872c",
   "metadata": {},
   "outputs": [
    {
     "name": "stdout",
     "output_type": "stream",
     "text": [
      "19\n"
     ]
    }
   ],
   "source": [
    "print(a+b)"
   ]
  },
  {
   "cell_type": "code",
   "execution_count": 4,
   "id": "e0a6a9fc-9380-4704-8a37-01adc111428b",
   "metadata": {},
   "outputs": [
    {
     "name": "stdout",
     "output_type": "stream",
     "text": [
      "11\n"
     ]
    }
   ],
   "source": [
    "print(a-b)"
   ]
  },
  {
   "cell_type": "code",
   "execution_count": 5,
   "id": "561de882-242d-473b-98d9-5f056fd60377",
   "metadata": {},
   "outputs": [
    {
     "name": "stdout",
     "output_type": "stream",
     "text": [
      "60\n"
     ]
    }
   ],
   "source": [
    "print(a*b)"
   ]
  },
  {
   "cell_type": "code",
   "execution_count": 6,
   "id": "b781f358-45e3-4525-b1da-c88233a0600d",
   "metadata": {},
   "outputs": [
    {
     "name": "stdout",
     "output_type": "stream",
     "text": [
      "3.75\n"
     ]
    }
   ],
   "source": [
    "print(a/b)"
   ]
  },
  {
   "cell_type": "code",
   "execution_count": 7,
   "id": "8408261a-7b05-4cc3-a963-5a7109e8a627",
   "metadata": {},
   "outputs": [
    {
     "name": "stdout",
     "output_type": "stream",
     "text": [
      "3\n"
     ]
    }
   ],
   "source": [
    "print(a//b)"
   ]
  },
  {
   "cell_type": "code",
   "execution_count": 8,
   "id": "9ebabf49-483c-4f4b-9afe-11247f608353",
   "metadata": {},
   "outputs": [
    {
     "name": "stdout",
     "output_type": "stream",
     "text": [
      "3\n"
     ]
    }
   ],
   "source": [
    "print(a%b)"
   ]
  },
  {
   "cell_type": "markdown",
   "id": "e618f6d3-ca17-4ece-b8c9-203c94ffe413",
   "metadata": {},
   "source": [
    "Q2. Check the type and convert: \n",
    "(num1 = 10, num2 = 5.6, num3 = 4.43, num4='23')\n",
    "\n",
    "- Integer to float\n",
    "\n",
    "- Float to integer\n",
    "\n",
    "- Float to String\n",
    "\n",
    "- String to Integer"
   ]
  },
  {
   "cell_type": "code",
   "execution_count": 9,
   "id": "5d0aaed6-0d97-4320-bf2e-ac4aaebbb519",
   "metadata": {},
   "outputs": [],
   "source": [
    "num1 = 10"
   ]
  },
  {
   "cell_type": "code",
   "execution_count": 10,
   "id": "449716a2-4031-4a46-9a7b-e25710e21cd6",
   "metadata": {},
   "outputs": [],
   "source": [
    "num2 = 5.6"
   ]
  },
  {
   "cell_type": "code",
   "execution_count": 16,
   "id": "f5db6c4c-7987-4242-9fa2-a13ed1a1d6e6",
   "metadata": {},
   "outputs": [],
   "source": [
    "num3 = 4.43"
   ]
  },
  {
   "cell_type": "code",
   "execution_count": 20,
   "id": "165206b9-be58-44d4-8593-10168d4a5c68",
   "metadata": {},
   "outputs": [],
   "source": [
    "num4='23'"
   ]
  },
  {
   "cell_type": "code",
   "execution_count": 13,
   "id": "719ffd57-22ca-4294-ae53-16bddacd71a9",
   "metadata": {},
   "outputs": [
    {
     "data": {
      "text/plain": [
       "int"
      ]
     },
     "execution_count": 13,
     "metadata": {},
     "output_type": "execute_result"
    }
   ],
   "source": [
    "type(num1)"
   ]
  },
  {
   "cell_type": "code",
   "execution_count": 14,
   "id": "2ee3e8df-0c10-464e-92eb-0444d3e5c795",
   "metadata": {},
   "outputs": [
    {
     "data": {
      "text/plain": [
       "float"
      ]
     },
     "execution_count": 14,
     "metadata": {},
     "output_type": "execute_result"
    }
   ],
   "source": [
    "type(num2)"
   ]
  },
  {
   "cell_type": "code",
   "execution_count": 18,
   "id": "8f7c58a2-21c4-4bdd-baa6-3e887caee5f1",
   "metadata": {},
   "outputs": [
    {
     "data": {
      "text/plain": [
       "float"
      ]
     },
     "execution_count": 18,
     "metadata": {},
     "output_type": "execute_result"
    }
   ],
   "source": [
    "type(num3)"
   ]
  },
  {
   "cell_type": "code",
   "execution_count": 21,
   "id": "e7c862d4-b990-46db-9eeb-419d259560d7",
   "metadata": {},
   "outputs": [
    {
     "data": {
      "text/plain": [
       "str"
      ]
     },
     "execution_count": 21,
     "metadata": {},
     "output_type": "execute_result"
    }
   ],
   "source": [
    "type(num4)"
   ]
  },
  {
   "cell_type": "code",
   "execution_count": 23,
   "id": "b87b0d0f-924d-4211-9223-aaa014821818",
   "metadata": {},
   "outputs": [
    {
     "data": {
      "text/plain": [
       "10.0"
      ]
     },
     "execution_count": 23,
     "metadata": {},
     "output_type": "execute_result"
    }
   ],
   "source": [
    "float(num1)"
   ]
  },
  {
   "cell_type": "code",
   "execution_count": 24,
   "id": "b9a67ee8-33f3-49b9-948c-47fd5b756c33",
   "metadata": {},
   "outputs": [
    {
     "data": {
      "text/plain": [
       "5"
      ]
     },
     "execution_count": 24,
     "metadata": {},
     "output_type": "execute_result"
    }
   ],
   "source": [
    "int(num2)"
   ]
  },
  {
   "cell_type": "code",
   "execution_count": 25,
   "id": "8f8d112f-4e73-4c94-a0c7-53ec6de14b46",
   "metadata": {},
   "outputs": [
    {
     "data": {
      "text/plain": [
       "4"
      ]
     },
     "execution_count": 25,
     "metadata": {},
     "output_type": "execute_result"
    }
   ],
   "source": [
    "int(num3)"
   ]
  },
  {
   "cell_type": "code",
   "execution_count": 26,
   "id": "57cf7d95-007c-46f0-817d-14c6438e57f0",
   "metadata": {},
   "outputs": [
    {
     "data": {
      "text/plain": [
       "23"
      ]
     },
     "execution_count": 26,
     "metadata": {},
     "output_type": "execute_result"
    }
   ],
   "source": [
    "int(num4)"
   ]
  },
  {
   "cell_type": "markdown",
   "id": "a3e57ec3-1bd8-475c-b228-29ec62354019",
   "metadata": {},
   "source": [
    "Q3. Write a code to store your favorite food in a variable and print it."
   ]
  },
  {
   "cell_type": "code",
   "execution_count": 29,
   "id": "3f7a3203-04cd-4daa-822b-46e8c2f8084e",
   "metadata": {},
   "outputs": [],
   "source": [
    "Favorite_food = \"Beef pulao\""
   ]
  },
  {
   "cell_type": "code",
   "execution_count": 30,
   "id": "886d0d73-4ffa-4a31-b1c3-ef809c229704",
   "metadata": {},
   "outputs": [
    {
     "name": "stdout",
     "output_type": "stream",
     "text": [
      "Beef pulao\n"
     ]
    }
   ],
   "source": [
    "print(Favorite_food)"
   ]
  },
  {
   "cell_type": "code",
   "execution_count": 31,
   "id": "9a1cd6f1-6eb2-4d4b-95ab-4517e2f2e584",
   "metadata": {},
   "outputs": [],
   "source": [
    "FavoriteFood= \"Beef Pulao\""
   ]
  },
  {
   "cell_type": "code",
   "execution_count": 32,
   "id": "2c682b92-1c0b-48da-a5c3-42bd8a18a42e",
   "metadata": {},
   "outputs": [
    {
     "name": "stdout",
     "output_type": "stream",
     "text": [
      "Beef Pulao\n"
     ]
    }
   ],
   "source": [
    "print(FavoriteFood)"
   ]
  },
  {
   "cell_type": "markdown",
   "id": "08809348-2b9b-4f1c-8c07-e4ad0c5275fc",
   "metadata": {},
   "source": [
    "Q4. \"I have 22 apples and 33 mangoes. How many fruits do I have in total?\"\n",
    "\n",
    "apple = '22'\n",
    "\n",
    "mangoes = 33\n",
    "\n"
   ]
  },
  {
   "cell_type": "code",
   "execution_count": 34,
   "id": "da3dcfc8-038c-40b7-aedf-e54b7145e47f",
   "metadata": {},
   "outputs": [],
   "source": [
    "apple = '22'"
   ]
  },
  {
   "cell_type": "code",
   "execution_count": 35,
   "id": "949cab9b-2218-45e1-8a06-44cf40d87588",
   "metadata": {},
   "outputs": [],
   "source": [
    "mangoes = 33"
   ]
  },
  {
   "cell_type": "code",
   "execution_count": 40,
   "id": "54be5ce4-5858-4f8c-a2d3-70c6170f010d",
   "metadata": {},
   "outputs": [
    {
     "data": {
      "text/plain": [
       "55"
      ]
     },
     "execution_count": 40,
     "metadata": {},
     "output_type": "execute_result"
    }
   ],
   "source": [
    "int(apple) + mangoes"
   ]
  },
  {
   "cell_type": "markdown",
   "id": "e81b7161-6fcd-496e-bd19-62fa05f4a79d",
   "metadata": {},
   "source": [
    "Q5. Store in a varibale: Write Your name , Your age, Add 1 to your age using a variable, Print final age"
   ]
  },
  {
   "cell_type": "code",
   "execution_count": 10,
   "id": "e4e7a468-9617-4b68-9951-4fafc3e4a454",
   "metadata": {},
   "outputs": [],
   "source": [
    "My_name =\"Sana Sajid\""
   ]
  },
  {
   "cell_type": "code",
   "execution_count": 4,
   "id": "59d08957-4d5d-49b6-9fdd-246d8ca85a16",
   "metadata": {},
   "outputs": [],
   "source": [
    "My_age=36"
   ]
  },
  {
   "cell_type": "code",
   "execution_count": 6,
   "id": "d0b0a73f-09f3-4fdc-a922-c426057f929e",
   "metadata": {},
   "outputs": [],
   "source": [
    "a= 1+ My_age"
   ]
  },
  {
   "cell_type": "code",
   "execution_count": 11,
   "id": "e0b75733-c96e-42e8-b3f4-e62f7003515f",
   "metadata": {},
   "outputs": [
    {
     "name": "stdout",
     "output_type": "stream",
     "text": [
      "Sana Sajid\n"
     ]
    }
   ],
   "source": [
    "print(My_name)"
   ]
  },
  {
   "cell_type": "code",
   "execution_count": 12,
   "id": "e6be2efe-7a06-4299-ad71-e8d5d8c6eebb",
   "metadata": {},
   "outputs": [
    {
     "name": "stdout",
     "output_type": "stream",
     "text": [
      "37\n"
     ]
    }
   ],
   "source": [
    "print(a)"
   ]
  },
  {
   "cell_type": "markdown",
   "id": "3921c9e1-bcaa-4d48-9d8c-793272315184",
   "metadata": {},
   "source": [
    "Q6.\n",
    "\n",
    "a = 2\n",
    "\n",
    "b = 1\n",
    "\n",
    "c = 6\n",
    "\n",
    "d = 3\n",
    "\n",
    "- Add a and b\n",
    "\n",
    "- Subtract c and a\n",
    "\n",
    "- Multiply d and b\n",
    "\n",
    "- Divide c and d (float division)\n",
    "\n",
    "- Find modulus of c divided by d\n",
    "\n",
    "- Square of (d+a)"
   ]
  },
  {
   "cell_type": "code",
   "execution_count": 14,
   "id": "1dc2dd63-0290-457c-8de9-e8fe9e2a66c4",
   "metadata": {},
   "outputs": [],
   "source": [
    "a =2"
   ]
  },
  {
   "cell_type": "code",
   "execution_count": 15,
   "id": "50924195-8f7e-4f91-80d9-7b369e55ab9b",
   "metadata": {},
   "outputs": [],
   "source": [
    "b=1"
   ]
  },
  {
   "cell_type": "code",
   "execution_count": 16,
   "id": "59c128e0-9e58-4185-9f28-c09864933ffa",
   "metadata": {},
   "outputs": [],
   "source": [
    "c=6"
   ]
  },
  {
   "cell_type": "code",
   "execution_count": 17,
   "id": "2f63ad16-2020-43b5-8474-60c39b0dee82",
   "metadata": {},
   "outputs": [],
   "source": [
    "d=3"
   ]
  },
  {
   "cell_type": "code",
   "execution_count": 18,
   "id": "a6cfcf51-57e1-48b1-801f-0216d0fb93dc",
   "metadata": {},
   "outputs": [
    {
     "data": {
      "text/plain": [
       "3"
      ]
     },
     "execution_count": 18,
     "metadata": {},
     "output_type": "execute_result"
    }
   ],
   "source": [
    "a+b"
   ]
  },
  {
   "cell_type": "code",
   "execution_count": 19,
   "id": "898e2ef8-3db3-4272-8f53-4569089349cd",
   "metadata": {},
   "outputs": [
    {
     "data": {
      "text/plain": [
       "4"
      ]
     },
     "execution_count": 19,
     "metadata": {},
     "output_type": "execute_result"
    }
   ],
   "source": [
    "c-a"
   ]
  },
  {
   "cell_type": "code",
   "execution_count": 20,
   "id": "fe9ff66a-a770-4795-a637-3e0fbcc4164f",
   "metadata": {},
   "outputs": [
    {
     "data": {
      "text/plain": [
       "3"
      ]
     },
     "execution_count": 20,
     "metadata": {},
     "output_type": "execute_result"
    }
   ],
   "source": [
    "d*b"
   ]
  },
  {
   "cell_type": "code",
   "execution_count": 23,
   "id": "cb681306-7756-4b43-8317-956f70fe2aeb",
   "metadata": {},
   "outputs": [],
   "source": [
    "# float division"
   ]
  },
  {
   "cell_type": "code",
   "execution_count": 21,
   "id": "f53e66a3-3722-41ba-94a5-01270955a2c9",
   "metadata": {},
   "outputs": [
    {
     "data": {
      "text/plain": [
       "2.0"
      ]
     },
     "execution_count": 21,
     "metadata": {},
     "output_type": "execute_result"
    }
   ],
   "source": [
    "c/d"
   ]
  },
  {
   "cell_type": "code",
   "execution_count": 22,
   "id": "98cfabc1-ca4d-4c28-8051-a6e7114624d8",
   "metadata": {},
   "outputs": [
    {
     "data": {
      "text/plain": [
       "0"
      ]
     },
     "execution_count": 22,
     "metadata": {},
     "output_type": "execute_result"
    }
   ],
   "source": [
    "c%d"
   ]
  },
  {
   "cell_type": "code",
   "execution_count": 24,
   "id": "8033b95c-e33b-4fbc-93af-7520211d2e60",
   "metadata": {},
   "outputs": [
    {
     "data": {
      "text/plain": [
       "5"
      ]
     },
     "execution_count": 24,
     "metadata": {},
     "output_type": "execute_result"
    }
   ],
   "source": [
    "d+a"
   ]
  },
  {
   "cell_type": "code",
   "execution_count": 25,
   "id": "02b5363d-47d0-42ce-9fb1-0f13e04c89cd",
   "metadata": {},
   "outputs": [
    {
     "data": {
      "text/plain": [
       "25"
      ]
     },
     "execution_count": 25,
     "metadata": {},
     "output_type": "execute_result"
    }
   ],
   "source": [
    "5**2"
   ]
  },
  {
   "cell_type": "code",
   "execution_count": 28,
   "id": "301674fc-04ec-4ab0-ac0c-89a93e533021",
   "metadata": {},
   "outputs": [],
   "source": [
    "# or"
   ]
  },
  {
   "cell_type": "code",
   "execution_count": 26,
   "id": "c956ca26-d139-4eb8-badf-871ea13c7a37",
   "metadata": {},
   "outputs": [
    {
     "data": {
      "text/plain": [
       "25"
      ]
     },
     "execution_count": 26,
     "metadata": {},
     "output_type": "execute_result"
    }
   ],
   "source": [
    "(d+a)**2"
   ]
  },
  {
   "cell_type": "markdown",
   "id": "ed2ae319-5319-4ef4-855d-30ccf8ad87e7",
   "metadata": {},
   "source": [
    "Q7.\n",
    "\n",
    "a = '2'\n",
    "\n",
    "b = '11'\n",
    "\n",
    "c = 6.3\n",
    "\n",
    "- Convert a to integer then add to c\n",
    "\n",
    "- Convert b to float then multiply by c\n",
    "\n",
    "- Convert c to integer then add to c"
   ]
  },
  {
   "cell_type": "code",
   "execution_count": 29,
   "id": "dd30da11-d76c-45b4-8a57-0a3eddbc434d",
   "metadata": {},
   "outputs": [],
   "source": [
    "a='2'"
   ]
  },
  {
   "cell_type": "code",
   "execution_count": 30,
   "id": "a8b31207-a188-4ef1-9df0-2c289434f965",
   "metadata": {},
   "outputs": [],
   "source": [
    "b='11'"
   ]
  },
  {
   "cell_type": "code",
   "execution_count": 31,
   "id": "31b536ba-1761-411b-9f4a-af1705d80dfc",
   "metadata": {},
   "outputs": [],
   "source": [
    "c=6.3"
   ]
  },
  {
   "cell_type": "code",
   "execution_count": 32,
   "id": "ed9d9d02-e407-4baa-994a-f71645aa7ee2",
   "metadata": {},
   "outputs": [
    {
     "data": {
      "text/plain": [
       "8.3"
      ]
     },
     "execution_count": 32,
     "metadata": {},
     "output_type": "execute_result"
    }
   ],
   "source": [
    "int(a)+c"
   ]
  },
  {
   "cell_type": "code",
   "execution_count": 33,
   "id": "6a0d1d9e-06a4-4935-9fde-d9348d68797b",
   "metadata": {},
   "outputs": [
    {
     "data": {
      "text/plain": [
       "69.3"
      ]
     },
     "execution_count": 33,
     "metadata": {},
     "output_type": "execute_result"
    }
   ],
   "source": [
    "float(b)*c"
   ]
  },
  {
   "cell_type": "code",
   "execution_count": 34,
   "id": "0b7b0025-b0f4-4d9c-aac7-30f9b0b88097",
   "metadata": {},
   "outputs": [
    {
     "data": {
      "text/plain": [
       "12.3"
      ]
     },
     "execution_count": 34,
     "metadata": {},
     "output_type": "execute_result"
    }
   ],
   "source": [
    "int(c)+c"
   ]
  },
  {
   "cell_type": "code",
   "execution_count": 38,
   "id": "a03fee12-5ab1-4180-a9e1-bcbc5801cd4b",
   "metadata": {},
   "outputs": [],
   "source": [
    "# can not understand the question fully, will discus with you, or"
   ]
  },
  {
   "cell_type": "code",
   "execution_count": 36,
   "id": "0d1fefa9-6ef4-4dd7-aa21-d732a46cb255",
   "metadata": {},
   "outputs": [],
   "source": [
    "d=int(c)"
   ]
  },
  {
   "cell_type": "code",
   "execution_count": 37,
   "id": "63a2130a-9813-4061-a716-7d03b8fc9176",
   "metadata": {},
   "outputs": [
    {
     "data": {
      "text/plain": [
       "12.3"
      ]
     },
     "execution_count": 37,
     "metadata": {},
     "output_type": "execute_result"
    }
   ],
   "source": [
    "c+d"
   ]
  },
  {
   "cell_type": "markdown",
   "id": "7495b654-f93f-4db6-8c13-ead57196163b",
   "metadata": {},
   "source": [
    "Q8.\n",
    "\n",
    "You were 20 years old in the year 2020.\n",
    "Now add 5 more years to your age.\n",
    "What is your current age now?\n",
    "\n",
    "Store age in a variable called age. Print final output in same variable"
   ]
  },
  {
   "cell_type": "code",
   "execution_count": 41,
   "id": "06b2abe8-9aa4-4b07-9d38-6a964013afd2",
   "metadata": {},
   "outputs": [],
   "source": [
    "age= 20"
   ]
  },
  {
   "cell_type": "code",
   "execution_count": 43,
   "id": "1162502d-950b-4151-b2c0-fcd6e4799f2c",
   "metadata": {},
   "outputs": [],
   "source": [
    "age= 5+age"
   ]
  },
  {
   "cell_type": "code",
   "execution_count": 44,
   "id": "c902c9aa-2e1f-4fe2-ae7e-6e525d423b8d",
   "metadata": {},
   "outputs": [
    {
     "name": "stdout",
     "output_type": "stream",
     "text": [
      "25\n"
     ]
    }
   ],
   "source": [
    "print (age)"
   ]
  },
  {
   "cell_type": "markdown",
   "id": "fb18f8d4-d23c-46c7-a1d3-da578190301c",
   "metadata": {},
   "source": [
    "Q9.\n",
    "\n",
    "You had 12 books, and you gave 4 to your friend.\n",
    "How many books do you have now?\n",
    "\n",
    "Store books in a variable called books. Print final output in same variable"
   ]
  },
  {
   "cell_type": "code",
   "execution_count": 45,
   "id": "4e5e193c-7eeb-4f6a-bf13-c20110e5385e",
   "metadata": {},
   "outputs": [],
   "source": [
    "books=12"
   ]
  },
  {
   "cell_type": "code",
   "execution_count": 47,
   "id": "a132fd34-60f0-4c48-9eb3-34a48a3e8bbe",
   "metadata": {},
   "outputs": [],
   "source": [
    "books=books-4"
   ]
  },
  {
   "cell_type": "code",
   "execution_count": 48,
   "id": "f71c4c98-ccc5-48de-acb4-5b397443a3fe",
   "metadata": {},
   "outputs": [
    {
     "name": "stdout",
     "output_type": "stream",
     "text": [
      "8\n"
     ]
    }
   ],
   "source": [
    "print(books)"
   ]
  },
  {
   "cell_type": "markdown",
   "id": "9af6924c-6725-459a-b998-8d13fca40fb3",
   "metadata": {},
   "source": [
    "Q10.\n",
    "\n",
    "You baked 5 cookies. You baked 3 times more cookies today.\n",
    "How many cookies did you bake today?\n",
    "\n",
    "Store cookies in a variable called cookies. Print final output in same variable"
   ]
  },
  {
   "cell_type": "code",
   "execution_count": 60,
   "id": "9f1e7f39-0b1c-41f0-8ed3-cb348ec4c525",
   "metadata": {},
   "outputs": [],
   "source": [
    "cookies=5"
   ]
  },
  {
   "cell_type": "code",
   "execution_count": 61,
   "id": "a50fa77e-9b94-4ae0-b427-55563e2dafe0",
   "metadata": {},
   "outputs": [],
   "source": [
    "cookies=cookies*3"
   ]
  },
  {
   "cell_type": "code",
   "execution_count": 62,
   "id": "85523e7b-b27a-4775-b10e-1e28f4e51456",
   "metadata": {},
   "outputs": [
    {
     "name": "stdout",
     "output_type": "stream",
     "text": [
      "15\n"
     ]
    }
   ],
   "source": [
    "print(cookies)"
   ]
  }
 ],
 "metadata": {
  "kernelspec": {
   "display_name": "Python 3 (ipykernel)",
   "language": "python",
   "name": "python3"
  },
  "language_info": {
   "codemirror_mode": {
    "name": "ipython",
    "version": 3
   },
   "file_extension": ".py",
   "mimetype": "text/x-python",
   "name": "python",
   "nbconvert_exporter": "python",
   "pygments_lexer": "ipython3",
   "version": "3.13.5"
  }
 },
 "nbformat": 4,
 "nbformat_minor": 5
}
