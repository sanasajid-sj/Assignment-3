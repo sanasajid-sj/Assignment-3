{
 "cells": [
  {
   "cell_type": "raw",
   "id": "6a6f0e40-5d26-4f51-8ace-187cafe21c12",
   "metadata": {},
   "source": [
    "Write a progarm that ask the user to enter a number\n",
    "If number is even and greator than 50, print \"Even and Big\"\n",
    "If number is even and less than 50, print \"Even and Small\"\n",
    "If number is odd and greator than 50, print \"Odd and Big\"\n",
    "otherwise print \"Odd and Small\""
   ]
  },
  {
   "cell_type": "code",
   "execution_count": 1,
   "id": "aa60f500-b179-4594-a614-e7c2330624e2",
   "metadata": {},
   "outputs": [
    {
     "name": "stdin",
     "output_type": "stream",
     "text": [
      "Enter your number: 45\n"
     ]
    }
   ],
   "source": [
    "a= int(input(\"Enter your number:\"))"
   ]
  },
  {
   "cell_type": "code",
   "execution_count": 2,
   "id": "f39b721f-e584-4c49-b5e7-38ecec996550",
   "metadata": {},
   "outputs": [
    {
     "data": {
      "text/plain": [
       "45"
      ]
     },
     "execution_count": 2,
     "metadata": {},
     "output_type": "execute_result"
    }
   ],
   "source": [
    "a"
   ]
  },
  {
   "cell_type": "code",
   "execution_count": 3,
   "id": "3dab1c2d-9808-4c9a-9bd3-eaac7ee8dfb0",
   "metadata": {},
   "outputs": [
    {
     "name": "stdout",
     "output_type": "stream",
     "text": [
      "Odd and Small\n"
     ]
    }
   ],
   "source": [
    "if a % 2 == 0:\n",
    "    if a > 50:\n",
    "        print(\"Even and Big\")\n",
    "    else:\n",
    "        print(\"Even and Small\")\n",
    "elif a % 2 != 0:\n",
    "    if a > 50:\n",
    "        print(\"Odd and Big\")\n",
    "    else:\n",
    "        print(\"Odd and Small\")"
   ]
  },
  {
   "cell_type": "code",
   "execution_count": 4,
   "id": "fbc6eb14-c30f-44c7-8c2f-9e0e10280f89",
   "metadata": {},
   "outputs": [
    {
     "name": "stdin",
     "output_type": "stream",
     "text": [
      "ENter your number: 42\n"
     ]
    }
   ],
   "source": [
    "a=int(input(\"ENter your number:\"))"
   ]
  },
  {
   "cell_type": "code",
   "execution_count": 5,
   "id": "e308a760-c656-4410-97c5-a3119a63f68c",
   "metadata": {},
   "outputs": [
    {
     "name": "stdout",
     "output_type": "stream",
     "text": [
      "Even and Small\n"
     ]
    }
   ],
   "source": [
    "if a % 2 == 0:\n",
    "    if a > 50:\n",
    "        print(\"Even and Big\")\n",
    "    else:\n",
    "        print(\"Even and Small\")\n",
    "elif a % 2 != 0:\n",
    "    if a > 50:\n",
    "        print(\"Odd and Big\")\n",
    "    else:\n",
    "        print(\"Odd and Small\")"
   ]
  },
  {
   "cell_type": "code",
   "execution_count": 6,
   "id": "277446ca-60d2-4f12-944e-80901c52faba",
   "metadata": {},
   "outputs": [
    {
     "name": "stdin",
     "output_type": "stream",
     "text": [
      "Ener your name: 75\n"
     ]
    }
   ],
   "source": [
    "a=int(input(\"Ener your name:\"))"
   ]
  },
  {
   "cell_type": "code",
   "execution_count": 7,
   "id": "393054be-b139-45e8-b401-22e53ed59e87",
   "metadata": {},
   "outputs": [
    {
     "name": "stdout",
     "output_type": "stream",
     "text": [
      "Odd and Big\n"
     ]
    }
   ],
   "source": [
    "if a % 2 == 0:\n",
    "    if a > 50:\n",
    "        print(\"Even and Big\")\n",
    "    else:\n",
    "        print(\"Even and Small\")\n",
    "elif a % 2 != 0:\n",
    "    if a > 50:\n",
    "        print(\"Odd and Big\")\n",
    "    else:\n",
    "        print(\"Odd and Small\")"
   ]
  },
  {
   "cell_type": "code",
   "execution_count": 8,
   "id": "5b249b21-041b-4340-a3cf-2154f817a622",
   "metadata": {},
   "outputs": [
    {
     "name": "stdin",
     "output_type": "stream",
     "text": [
      "Enter your name: 72\n"
     ]
    }
   ],
   "source": [
    "a=int(input(\"Enter your name:\"))"
   ]
  },
  {
   "cell_type": "code",
   "execution_count": 9,
   "id": "537ce870-50da-444c-8936-1c05a7b8a776",
   "metadata": {},
   "outputs": [
    {
     "name": "stdout",
     "output_type": "stream",
     "text": [
      "Even and Big\n"
     ]
    }
   ],
   "source": [
    "if a % 2 == 0:\n",
    "    if a > 50:\n",
    "        print(\"Even and Big\")\n",
    "    else:\n",
    "        print(\"Even and Small\")\n",
    "elif a % 2 != 0:\n",
    "    if a > 50:\n",
    "        print(\"Odd and Big\")\n",
    "    else:\n",
    "        print(\"Odd and Small\")"
   ]
  },
  {
   "cell_type": "raw",
   "id": "33f437ff-8e33-40c0-b942-d53f4e18dae7",
   "metadata": {},
   "source": [
    "I tried alot to make a program as per the question, but every program failed in any 1 situation, then I had to modify the question, finally it worked for all 04 conditions."
   ]
  }
 ],
 "metadata": {
  "kernelspec": {
   "display_name": "Python 3 (ipykernel)",
   "language": "python",
   "name": "python3"
  },
  "language_info": {
   "codemirror_mode": {
    "name": "ipython",
    "version": 3
   },
   "file_extension": ".py",
   "mimetype": "text/x-python",
   "name": "python",
   "nbconvert_exporter": "python",
   "pygments_lexer": "ipython3",
   "version": "3.13.5"
  }
 },
 "nbformat": 4,
 "nbformat_minor": 5
}
