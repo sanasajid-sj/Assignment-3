{
 "cells": [
  {
   "cell_type": "markdown",
   "id": "7e777340-fcd5-4c13-9ae0-e80ade2b8a3a",
   "metadata": {},
   "source": [
    "Q1. Write a Python program that prints the multiplication table for a given number (between 1 and 10) using a for loop.\n",
    "\n",
    "Hint:\n",
    "\n",
    "Ask the user for a number between 1 and 10 .\n",
    "Use a for loop to iterate through the numbers from 1 to 10.\n",
    "For each iteration, calculate the product of the given number and the current number in the loop.\n",
    "Print the result in a readable format (e.g., 5 x 1 = 5).\n",
    "Ensure the program works correctly for any number between 1 and 10.\n",
    "Output Hint:\n",
    "\n",
    "- 4 x 1 = 4\n",
    "- 4 x 2 = 8\n",
    "- 4 x 3 = 12\n",
    "- 4 x 4 = 16\n",
    "- 4 x 5 = 20\n",
    "- 4 x 6 = 24\n",
    "- 4 x 7 = 28\n",
    "- 4 x 8 = 32\n",
    "- 4 x 9 = 36\n",
    "- 4 x 10 = 40"
   ]
  },
  {
   "cell_type": "code",
   "execution_count": 1,
   "id": "18368e68-8111-4d20-94cd-108632bf3e8e",
   "metadata": {},
   "outputs": [
    {
     "name": "stdin",
     "output_type": "stream",
     "text": [
      "Enter a number between 1 and 10:  5\n"
     ]
    }
   ],
   "source": [
    "number = int(input(\"Enter a number between 1 and 10: \"))"
   ]
  },
  {
   "cell_type": "code",
   "execution_count": 2,
   "id": "61812264-6c8d-4067-8e70-26a2165cad7f",
   "metadata": {},
   "outputs": [
    {
     "name": "stdout",
     "output_type": "stream",
     "text": [
      "5 X 1 = 5\n",
      "5 X 2 = 10\n",
      "5 X 3 = 15\n",
      "5 X 4 = 20\n",
      "5 X 5 = 25\n",
      "5 X 6 = 30\n",
      "5 X 7 = 35\n",
      "5 X 8 = 40\n",
      "5 X 9 = 45\n",
      "5 X 10 = 50\n"
     ]
    }
   ],
   "source": [
    "for i in range (1,11):\n",
    "    print(f\"{number} X {i} = {number * i}\")"
   ]
  },
  {
   "cell_type": "markdown",
   "id": "93c6d6ba-b4ef-4284-a0e9-9db6eaf2a2cf",
   "metadata": {},
   "source": [
    "Q2. Stop sending emails after 3 users (Using for loop and break)\n",
    "\n",
    "users = [\"Ali\", \"Sara\", \"John\", \"Zara\", \"Mike\"]\n",
    "\n",
    "Output:\n",
    "\n",
    "Email sent to Ali\n",
    "\n",
    "Email sent to Sara\n",
    "\n",
    "Email sent to John\n",
    "\n",
    "Limit reached. Stop sending emails."
   ]
  },
  {
   "cell_type": "code",
   "execution_count": 3,
   "id": "d28d6fe5-00af-4fbb-9ed9-d011bbd08ed2",
   "metadata": {},
   "outputs": [
    {
     "data": {
      "text/plain": [
       "['Ali', 'Sara', 'John', 'Zara', 'Mike']"
      ]
     },
     "execution_count": 3,
     "metadata": {},
     "output_type": "execute_result"
    }
   ],
   "source": [
    "users = [\"Ali\", \"Sara\", \"John\", \"Zara\", \"Mike\"]\n",
    "users"
   ]
  },
  {
   "cell_type": "code",
   "execution_count": 4,
   "id": "21d6c4b5-7c6c-4626-90dd-9fa37ef9911f",
   "metadata": {},
   "outputs": [
    {
     "name": "stdout",
     "output_type": "stream",
     "text": [
      "Email sent to Ali\n",
      "Email sent to Sara\n",
      "Email sent to John\n",
      "Limit reached. Stop sending emails.\n"
     ]
    }
   ],
   "source": [
    "for i in range(len(users)):\n",
    "    if i == 3:\n",
    "        print(f\"Limit reached. Stop sending emails.\")\n",
    "        break\n",
    "    print(f\"Email sent to {users[i]}\")"
   ]
  },
  {
   "cell_type": "markdown",
   "id": "fa38e056-f606-41d9-8748-2209cb4eaad7",
   "metadata": {},
   "source": [
    "Q3. Stop monitoring temperature if critical temperature reached (Using for loop and break)\n",
    "\n",
    "temps = [22, 25, 30, 45, 28]\n",
    "critical = 40\n",
    "\n",
    "Ouput:\n",
    "\n",
    "Temperature: 22\n",
    "\n",
    "Temperature: 25\n",
    "\n",
    "Temperature: 30\n",
    "\n",
    "Critical temperature reached! Stop monitoring."
   ]
  },
  {
   "cell_type": "code",
   "execution_count": 5,
   "id": "9cbb01b6-09b1-4b9d-81e8-1e3270cf4bf6",
   "metadata": {},
   "outputs": [
    {
     "data": {
      "text/plain": [
       "[22, 25, 30, 45, 28]"
      ]
     },
     "execution_count": 5,
     "metadata": {},
     "output_type": "execute_result"
    }
   ],
   "source": [
    "temp = [22, 25, 30, 45, 28] \n",
    "temp"
   ]
  },
  {
   "cell_type": "code",
   "execution_count": 6,
   "id": "d09808d1-eb05-4e86-8c54-45cc2ad85d69",
   "metadata": {},
   "outputs": [
    {
     "data": {
      "text/plain": [
       "40"
      ]
     },
     "execution_count": 6,
     "metadata": {},
     "output_type": "execute_result"
    }
   ],
   "source": [
    "critical = 40\n",
    "critical"
   ]
  },
  {
   "cell_type": "code",
   "execution_count": 7,
   "id": "6d24d5a3-8c8f-4751-810a-51cd619be855",
   "metadata": {},
   "outputs": [
    {
     "name": "stdout",
     "output_type": "stream",
     "text": [
      "Temperature: 22\n",
      "Temperature: 25\n",
      "Temperature: 30\n",
      "Critical temperature reached! Stop monitoring\n"
     ]
    }
   ],
   "source": [
    "for i in temp:\n",
    "    if i >= critical:\n",
    "        print(f\"Critical temperature reached! Stop monitoring\")\n",
    "        break\n",
    "    print(f\"Temperature: {i}\")"
   ]
  },
  {
   "cell_type": "markdown",
   "id": "7f5bbc99-28e7-4866-b306-58221f72076c",
   "metadata": {},
   "source": [
    "Q4. Calculate total price of items in a shopping cart (Using For loop)\n",
    "\n",
    "cart = [100, 250, 50, 300]\n",
    "\n",
    "Output:\n",
    "\n",
    "Total Price: 700"
   ]
  },
  {
   "cell_type": "code",
   "execution_count": 8,
   "id": "999b9528-a8ef-495f-823d-f29bd0f18ea6",
   "metadata": {},
   "outputs": [
    {
     "data": {
      "text/plain": [
       "[100, 250, 50, 300]"
      ]
     },
     "execution_count": 8,
     "metadata": {},
     "output_type": "execute_result"
    }
   ],
   "source": [
    "cart = [100, 250, 50, 300]\n",
    "cart"
   ]
  },
  {
   "cell_type": "code",
   "execution_count": 9,
   "id": "e187a6d4-c6e2-4991-bc76-ef014dcdcf11",
   "metadata": {},
   "outputs": [
    {
     "data": {
      "text/plain": [
       "0"
      ]
     },
     "execution_count": 9,
     "metadata": {},
     "output_type": "execute_result"
    }
   ],
   "source": [
    "total = 0\n",
    "total"
   ]
  },
  {
   "cell_type": "code",
   "execution_count": 10,
   "id": "94b43024-43a9-4429-8c1a-ff0ebee00e48",
   "metadata": {},
   "outputs": [
    {
     "name": "stdout",
     "output_type": "stream",
     "text": [
      "Total Price = 700\n"
     ]
    }
   ],
   "source": [
    "for price in cart:\n",
    "    total +=price\n",
    "print(f\"Total Price = {total}\")"
   ]
  },
  {
   "cell_type": "markdown",
   "id": "d01d8825-6b0a-44f5-962f-f805700a8e08",
   "metadata": {},
   "source": [
    "Q5. Skip customers with unpaid bills (Using For loop and continue)\n",
    "\n",
    "customers = [\n",
    "    {\"name\": \"Ali\", \"paid\": True},\n",
    "    \n",
    "    {\"name\": \"Sara\", \"paid\": False},\n",
    "    \n",
    "    {\"name\": \"John\", \"paid\": True}\n",
    "]\n",
    "\n",
    "\n",
    "Output:\n",
    "\n",
    "Access granted to: Ali\n",
    "\n",
    "Access granted to: John\n"
   ]
  },
  {
   "cell_type": "code",
   "execution_count": 11,
   "id": "c4153cea-813e-409b-b355-5a77d5267b77",
   "metadata": {},
   "outputs": [
    {
     "data": {
      "text/plain": [
       "[{'name': 'Ali', 'paid': True},\n",
       " {'name': 'Sara', 'paid': False},\n",
       " {'name': 'John', 'paid': True}]"
      ]
     },
     "execution_count": 11,
     "metadata": {},
     "output_type": "execute_result"
    }
   ],
   "source": [
    "customers = [ {\"name\": \"Ali\", \"paid\": True},{\"name\": \"Sara\", \"paid\": False},{\"name\": \"John\", \"paid\": True}]\n",
    "customers"
   ]
  },
  {
   "cell_type": "code",
   "execution_count": 12,
   "id": "73b667f6-996d-402d-ab60-08297b4d202a",
   "metadata": {},
   "outputs": [
    {
     "name": "stdout",
     "output_type": "stream",
     "text": [
      "Access granted to: Ali\n",
      "Access granted to: John\n"
     ]
    }
   ],
   "source": [
    "for customer in customers:\n",
    "    if not customer[\"paid\"]:\n",
    "        continue\n",
    "    print(f\"Access granted to: {customer[\"name\"]}\")"
   ]
  },
  {
   "cell_type": "markdown",
   "id": "f6cfe812-c319-40e5-ac17-cef6e72488dd",
   "metadata": {},
   "source": [
    "Q6. Send personalized emails to a list of users (Using for loop)\n",
    "\n",
    "users = [\"Ali\", \"Sara\", \"John\"]\n",
    "\n",
    "Output:\n",
    "\n",
    "- Hello Ali, your subscription is active!\n",
    "- Hello Sara, your subscription is active!\n",
    "- Hello John, your subscription is active!\n"
   ]
  },
  {
   "cell_type": "code",
   "execution_count": 13,
   "id": "6dc95b65-014b-46be-8317-07a90bd4c9eb",
   "metadata": {},
   "outputs": [
    {
     "data": {
      "text/plain": [
       "['Ali', 'Sara', 'John']"
      ]
     },
     "execution_count": 13,
     "metadata": {},
     "output_type": "execute_result"
    }
   ],
   "source": [
    "users = [\"Ali\", \"Sara\", \"John\"]\n",
    "users"
   ]
  },
  {
   "cell_type": "code",
   "execution_count": 14,
   "id": "1e763e41-24f5-4282-979e-07db8ebf922d",
   "metadata": {},
   "outputs": [
    {
     "name": "stdout",
     "output_type": "stream",
     "text": [
      "Hello Ali, your subscription is active!\n",
      "Hello Sara, your subscription is active!\n",
      "Hello John, your subscription is active!\n"
     ]
    }
   ],
   "source": [
    "for user in users:\n",
    "    print(f\"Hello {user}, your subscription is active!\")"
   ]
  },
  {
   "cell_type": "markdown",
   "id": "8ac2616e-f0fb-433f-a1c5-0adf73e50429",
   "metadata": {},
   "source": [
    "Q7. Extract domain names from email list (Using for loop)\n",
    "\n",
    "emails = [\"ali@gmail.com\", \"sara@yahoo.com\", \"john@hotmail.com\"]\n",
    "\n",
    "Output:\n",
    "\n",
    "domains: ['gmail.com', 'yahoo.com', 'hotmail.com']\n"
   ]
  },
  {
   "cell_type": "code",
   "execution_count": 15,
   "id": "d6ba1d36-42b9-4616-a638-9450baf8b7e9",
   "metadata": {},
   "outputs": [
    {
     "data": {
      "text/plain": [
       "['ali@gmail.com', 'sara@yahoo.com', 'john@hotmail.com']"
      ]
     },
     "execution_count": 15,
     "metadata": {},
     "output_type": "execute_result"
    }
   ],
   "source": [
    "emails = [\"ali@gmail.com\", \"sara@yahoo.com\", \"john@hotmail.com\"]\n",
    "emails"
   ]
  },
  {
   "cell_type": "code",
   "execution_count": 16,
   "id": "a07ca72f-a3a2-490b-aad5-c8ec2ed6b36f",
   "metadata": {},
   "outputs": [
    {
     "data": {
      "text/plain": [
       "[]"
      ]
     },
     "execution_count": 16,
     "metadata": {},
     "output_type": "execute_result"
    }
   ],
   "source": [
    "domains =[]\n",
    "domains"
   ]
  },
  {
   "cell_type": "code",
   "execution_count": 17,
   "id": "c46e32e3-88dc-4d75-a29f-306248eb33ca",
   "metadata": {},
   "outputs": [
    {
     "name": "stdout",
     "output_type": "stream",
     "text": [
      "domains: ['gmail.com', 'yahoo.com', 'hotmail.com']\n"
     ]
    }
   ],
   "source": [
    "for email in emails:\n",
    "    domain = email.split(\"@\")[1]\n",
    "    domains.append(domain)\n",
    "\n",
    "print(\"domains:\", domains)\n",
    "    "
   ]
  },
  {
   "cell_type": "markdown",
   "id": "bc118672-58b5-44e3-8895-0685921efdda",
   "metadata": {},
   "source": [
    "Q8. Print only overdue tasks (Using for loop)\n",
    "\n",
    "tasks = [\n",
    "    {\"task\": \"Pay bills\", \"status\": \"done\"},\n",
    "    \n",
    "    {\"task\": \"Submit report\", \"status\": \"pending\"},\n",
    "    \n",
    "    {\"task\": \"Clean house\", \"status\": \"pending\"}\n",
    "]\n",
    "\n",
    "\n",
    "Ouput:\n",
    "\n",
    "Overdue: Submit report\n",
    "\n",
    "Overdue: Clean house"
   ]
  },
  {
   "cell_type": "code",
   "execution_count": 18,
   "id": "a40af434-ed94-4c5e-b764-44f05c3e613d",
   "metadata": {},
   "outputs": [
    {
     "data": {
      "text/plain": [
       "[{'task': 'Pay bills', 'status': 'done'},\n",
       " {'task': 'Submit report', 'status': 'pending'},\n",
       " {'task': 'Clean house', 'status': 'pending'}]"
      ]
     },
     "execution_count": 18,
     "metadata": {},
     "output_type": "execute_result"
    }
   ],
   "source": [
    "tasks = [ {\"task\": \"Pay bills\", \"status\": \"done\"},\n",
    "\n",
    "{\"task\": \"Submit report\", \"status\": \"pending\"},\n",
    "\n",
    "{\"task\": \"Clean house\", \"status\": \"pending\"}]\n",
    "tasks"
   ]
  },
  {
   "cell_type": "code",
   "execution_count": 19,
   "id": "074f60f2-44d4-40e1-8281-6e6c9a14f3a1",
   "metadata": {},
   "outputs": [
    {
     "name": "stdout",
     "output_type": "stream",
     "text": [
      "overdue: {'Submit report'}\n",
      "overdue: {'Clean house'}\n"
     ]
    }
   ],
   "source": [
    "for task in tasks:\n",
    "    if task[\"status\"] == \"pending\":\n",
    "        print(f\"overdue:\",{task[\"task\"]})"
   ]
  },
  {
   "cell_type": "markdown",
   "id": "c3d3986b-d13f-4afd-829d-b7b1a6f8a526",
   "metadata": {},
   "source": [
    "Q9. Extract names of employees with salary above 50,000\n",
    "\n",
    "employees = [\n",
    "    {\"name\": \"Ali\", \"salary\": 60000},\n",
    "    \n",
    "    {\"name\": \"Sara\", \"salary\": 45000},\n",
    "    \n",
    "    {\"name\": \"John\", \"salary\": 70000}\n",
    "]\n",
    "\n",
    "\n",
    "Output:\n",
    "\n",
    "Ali earns above 50,000\n",
    "\n",
    "John earns above 50,000"
   ]
  },
  {
   "cell_type": "code",
   "execution_count": 20,
   "id": "e42f904b-2fda-47b5-ab3b-9cd6f5bebe20",
   "metadata": {},
   "outputs": [
    {
     "data": {
      "text/plain": [
       "[{'name': 'Ali', 'salary': 60000},\n",
       " {'name': 'Sara', 'salary': 45000},\n",
       " {'name': 'John', 'salary': 70000}]"
      ]
     },
     "execution_count": 20,
     "metadata": {},
     "output_type": "execute_result"
    }
   ],
   "source": [
    "employees = [ {\"name\": \"Ali\", \"salary\": 60000},\n",
    "\n",
    "{\"name\": \"Sara\", \"salary\": 45000},\n",
    "\n",
    "{\"name\": \"John\", \"salary\": 70000}\n",
    "]\n",
    "employees"
   ]
  },
  {
   "cell_type": "code",
   "execution_count": 21,
   "id": "a09b67fe-a902-4da3-a43d-09d66f577c04",
   "metadata": {},
   "outputs": [
    {
     "name": "stdout",
     "output_type": "stream",
     "text": [
      "Ali earns above 50,000\n",
      "John earns above 50,000\n"
     ]
    }
   ],
   "source": [
    "for employee in employees:\n",
    "    if employee[\"salary\"] > 50000:\n",
    "        print(f\"{employee[\"name\"]} earns above 50,000\")"
   ]
  },
  {
   "cell_type": "markdown",
   "id": "f1db4dfb-ea09-4b1b-9383-28d7a5253f06",
   "metadata": {},
   "source": [
    "Q10. Skip weekends while printing workdays (Using for loop and continue)\n",
    "\n",
    "days = [\"Monday\", \"Tuesday\", \"Wednesday\", \"Thursday\", \"Friday\", \"Saturday\", \"Sunday\"]\n",
    "\n",
    "Output:\n",
    "\n",
    "Workday: Monday\n",
    "\n",
    "Workday: Tuesday\n",
    "\n",
    "Workday: Wednesday\n",
    "\n",
    "Workday: Thursday\n",
    "\n",
    "Workday: Friday\n"
   ]
  },
  {
   "cell_type": "code",
   "execution_count": 22,
   "id": "9566760f-0dad-443c-9ede-fc8f99ccabff",
   "metadata": {},
   "outputs": [
    {
     "data": {
      "text/plain": [
       "['Monday', 'Tuesday', 'Wednesday', 'Thursday', 'Friday', 'Saturday', 'Sunday']"
      ]
     },
     "execution_count": 22,
     "metadata": {},
     "output_type": "execute_result"
    }
   ],
   "source": [
    "days = [\"Monday\", \"Tuesday\", \"Wednesday\", \"Thursday\", \"Friday\", \"Saturday\", \"Sunday\"]\n",
    "days"
   ]
  },
  {
   "cell_type": "code",
   "execution_count": 23,
   "id": "479eeca8-10c9-41dc-9f1e-50cc039aeb4d",
   "metadata": {},
   "outputs": [
    {
     "data": {
      "text/plain": [
       "['Saturday', 'Sunday']"
      ]
     },
     "execution_count": 23,
     "metadata": {},
     "output_type": "execute_result"
    }
   ],
   "source": [
    "weekend = [\"Saturday\", \"Sunday\"]\n",
    "weekend"
   ]
  },
  {
   "cell_type": "code",
   "execution_count": 24,
   "id": "c8cf4c7f-2848-47f2-98c5-336913f1d4c0",
   "metadata": {},
   "outputs": [
    {
     "name": "stdout",
     "output_type": "stream",
     "text": [
      "Workday: Monday\n",
      "Workday: Tuesday\n",
      "Workday: Wednesday\n",
      "Workday: Thursday\n",
      "Workday: Friday\n"
     ]
    }
   ],
   "source": [
    "for day in days:\n",
    "    if day in weekend:\n",
    "        continue\n",
    "    print(f\"Workday: {day}\")"
   ]
  },
  {
   "cell_type": "code",
   "execution_count": 25,
   "id": "15e3bfdc-b0cb-4bd5-a7de-8d113b308639",
   "metadata": {},
   "outputs": [
    {
     "name": "stdout",
     "output_type": "stream",
     "text": [
      "Workday: Monday\n",
      "Workday: Tuesday\n",
      "Workday: Wednesday\n",
      "Workday: Thursday\n",
      "Workday: Friday\n"
     ]
    }
   ],
   "source": [
    "for day in days:\n",
    "    if day == \"Saturday\" or day==\"Sunday\":\n",
    "        continue\n",
    "    print(f\"Workday: {day}\")\n",
    "    "
   ]
  }
 ],
 "metadata": {
  "kernelspec": {
   "display_name": "Python 3 (ipykernel)",
   "language": "python",
   "name": "python3"
  },
  "language_info": {
   "codemirror_mode": {
    "name": "ipython",
    "version": 3
   },
   "file_extension": ".py",
   "mimetype": "text/x-python",
   "name": "python",
   "nbconvert_exporter": "python",
   "pygments_lexer": "ipython3",
   "version": "3.13.5"
  }
 },
 "nbformat": 4,
 "nbformat_minor": 5
}
