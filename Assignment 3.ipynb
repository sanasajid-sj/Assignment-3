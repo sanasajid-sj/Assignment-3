{
 "cells": [
  {
   "cell_type": "markdown",
   "id": "6f757dad-66dd-44cb-b8cc-7ce63717f871",
   "metadata": {},
   "source": [
    "Q1\n",
    "\n",
    "animals = [\"cat\", \"dog\", \"rabbit\", \"tiger\", \"elephant\"]\n",
    "\n",
    "- Print \"tiger\" by indexing\n",
    "- Print \"rabbit by negative indexing\n",
    "- Print \"rabbit\" to \"elephant\" by slicing"
   ]
  },
  {
   "cell_type": "code",
   "execution_count": 1,
   "id": "2c805702-ff96-48ba-b746-0c233375768f",
   "metadata": {},
   "outputs": [],
   "source": [
    "animals = [\"cat\", \"dog\", \"rabbit\", \"tiger\", \"elephant\"]"
   ]
  },
  {
   "cell_type": "raw",
   "id": "a9667308-6c25-4b7b-8a81-2117a7c12e90",
   "metadata": {},
   "source": [
    "# Print \"tiger\" by indexing"
   ]
  },
  {
   "cell_type": "code",
   "execution_count": 2,
   "id": "6fb1f37b-8583-4f44-b7b9-0904b1cb73fd",
   "metadata": {},
   "outputs": [
    {
     "data": {
      "text/plain": [
       "'tiger'"
      ]
     },
     "execution_count": 2,
     "metadata": {},
     "output_type": "execute_result"
    }
   ],
   "source": [
    "animals[3]"
   ]
  },
  {
   "cell_type": "raw",
   "id": "9d9347e4-c37a-479a-832d-6e005dc85003",
   "metadata": {},
   "source": [
    "# Print \"rabbit by negative indexing"
   ]
  },
  {
   "cell_type": "code",
   "execution_count": 3,
   "id": "55506d7a-7d43-458f-93d8-a47a2e429422",
   "metadata": {},
   "outputs": [
    {
     "data": {
      "text/plain": [
       "'rabbit'"
      ]
     },
     "execution_count": 3,
     "metadata": {},
     "output_type": "execute_result"
    }
   ],
   "source": [
    "animals[-3]"
   ]
  },
  {
   "cell_type": "raw",
   "id": "1a65bd98-191d-4afb-baa9-28adc12a615d",
   "metadata": {},
   "source": [
    "# Print \"rabbit\" to \"elephant\" by slicing"
   ]
  },
  {
   "cell_type": "code",
   "execution_count": 4,
   "id": "b09b1c80-ec87-40fc-a7b8-ab95c0df2a7d",
   "metadata": {},
   "outputs": [
    {
     "data": {
      "text/plain": [
       "['rabbit', 'tiger', 'elephant']"
      ]
     },
     "execution_count": 4,
     "metadata": {},
     "output_type": "execute_result"
    }
   ],
   "source": [
    "animals[2:]"
   ]
  },
  {
   "cell_type": "code",
   "execution_count": 5,
   "id": "0012731f-55a3-4fbb-98e3-d7c6c2b3228a",
   "metadata": {},
   "outputs": [
    {
     "data": {
      "text/plain": [
       "['rabbit', 'tiger', 'elephant']"
      ]
     },
     "execution_count": 5,
     "metadata": {},
     "output_type": "execute_result"
    }
   ],
   "source": [
    "animals[2:5]"
   ]
  },
  {
   "cell_type": "markdown",
   "id": "1dee0f44-1f3a-4a99-8931-ffc7d9e4b70e",
   "metadata": {},
   "source": [
    "Q2.\n",
    "\n",
    "Add \"lion\" to the list of animals by list method append\n",
    "\n",
    "Remove \"rabbit\" from the list by list method remove\n",
    "\n",
    "Print the updated list."
   ]
  },
  {
   "cell_type": "code",
   "execution_count": 6,
   "id": "aa9ff7eb-aceb-4727-bf0a-cc7074fe92a3",
   "metadata": {},
   "outputs": [
    {
     "data": {
      "text/plain": [
       "['cat', 'dog', 'tiger', 'elephant', 'lion']"
      ]
     },
     "execution_count": 6,
     "metadata": {},
     "output_type": "execute_result"
    }
   ],
   "source": [
    "animals.append('lion')\n",
    "animals.remove(\"rabbit\")\n",
    "animals"
   ]
  },
  {
   "cell_type": "markdown",
   "id": "6487290b-aa44-49af-b148-8eda538416a9",
   "metadata": {},
   "source": [
    "Q3.\n",
    "\n",
    "basket = [[\"apple\", \"banana\", \"mango\"], [\"red\", \"blue\", \"green\", \"black\"]]\n",
    "\n",
    "- print list of fruits\n",
    "- print list of colors\n",
    "- print second fruit by negative indexing\n",
    "- replace color \"blue\" with \"white\"\n",
    "- print length of colors list\n"
   ]
  },
  {
   "cell_type": "code",
   "execution_count": 7,
   "id": "fec25892-6cf0-45d4-9ddf-e63e445b7ce2",
   "metadata": {},
   "outputs": [],
   "source": [
    "basket = [[\"apple\", \"banana\", \"mango\"], [\"red\", \"blue\", \"green\", \"black\"]]"
   ]
  },
  {
   "cell_type": "raw",
   "id": "fec3df82-1562-4263-a58f-ff7377804b94",
   "metadata": {},
   "source": [
    "# 1-print list of fruits"
   ]
  },
  {
   "cell_type": "code",
   "execution_count": 8,
   "id": "27097949-ab4e-413f-b8a2-9aab5e69558d",
   "metadata": {},
   "outputs": [
    {
     "data": {
      "text/plain": [
       "['apple', 'banana', 'mango']"
      ]
     },
     "execution_count": 8,
     "metadata": {},
     "output_type": "execute_result"
    }
   ],
   "source": [
    "list_of_fruits=basket[0]\n",
    "list_of_fruits"
   ]
  },
  {
   "cell_type": "raw",
   "id": "7d4a0125-69bc-443c-92a2-892c477b98fb",
   "metadata": {},
   "source": [
    "# 2-print list of colors"
   ]
  },
  {
   "cell_type": "code",
   "execution_count": 9,
   "id": "868a9dee-18ec-45d4-ba63-3842e212a0f6",
   "metadata": {},
   "outputs": [
    {
     "data": {
      "text/plain": [
       "['red', 'blue', 'green', 'black']"
      ]
     },
     "execution_count": 9,
     "metadata": {},
     "output_type": "execute_result"
    }
   ],
   "source": [
    "List_of_colors=basket[1]\n",
    "List_of_colors"
   ]
  },
  {
   "cell_type": "raw",
   "id": "1601d24b-0c9a-4b2c-a8ea-ce66187ab206",
   "metadata": {},
   "source": [
    "# 3-print second fruit by negative indexing"
   ]
  },
  {
   "cell_type": "code",
   "execution_count": 10,
   "id": "9deaa827-a7a5-4d02-97be-691a8d548efb",
   "metadata": {},
   "outputs": [
    {
     "data": {
      "text/plain": [
       "'banana'"
      ]
     },
     "execution_count": 10,
     "metadata": {},
     "output_type": "execute_result"
    }
   ],
   "source": [
    "basket[0][-2]"
   ]
  },
  {
   "cell_type": "raw",
   "id": "7f945b48-ce44-426b-80f6-9459154d2519",
   "metadata": {},
   "source": [
    "# or"
   ]
  },
  {
   "cell_type": "code",
   "execution_count": 12,
   "id": "fbb7c9e6-6e0e-4d64-84b2-94a7a33ccd0f",
   "metadata": {},
   "outputs": [
    {
     "data": {
      "text/plain": [
       "'banana'"
      ]
     },
     "execution_count": 12,
     "metadata": {},
     "output_type": "execute_result"
    }
   ],
   "source": [
    "list_of_fruits[-2]"
   ]
  },
  {
   "cell_type": "raw",
   "id": "a8420526-9985-4b5b-aecb-6f46b38efc90",
   "metadata": {},
   "source": [
    "# 4-replace color \"blue\" with \"white\""
   ]
  },
  {
   "cell_type": "code",
   "execution_count": 13,
   "id": "e942d361-7a22-452b-9385-7c6e4304c63e",
   "metadata": {},
   "outputs": [
    {
     "data": {
      "text/plain": [
       "[['apple', 'banana', 'mango'], ['red', 'white', 'green', 'black']]"
      ]
     },
     "execution_count": 13,
     "metadata": {},
     "output_type": "execute_result"
    }
   ],
   "source": [
    "basket[1][1]=\"white\"\n",
    "basket"
   ]
  },
  {
   "cell_type": "raw",
   "id": "9514ae23-4406-4af1-a13d-1a4d31f5abc5",
   "metadata": {},
   "source": [
    "# or"
   ]
  },
  {
   "cell_type": "code",
   "execution_count": 14,
   "id": "6a2469f1-39db-4624-a258-1b7d0b5dfa7d",
   "metadata": {},
   "outputs": [
    {
     "data": {
      "text/plain": [
       "['red', 'white', 'green', 'black']"
      ]
     },
     "execution_count": 14,
     "metadata": {},
     "output_type": "execute_result"
    }
   ],
   "source": [
    "List_of_colors[1]=\"white\"\n",
    "List_of_colors"
   ]
  },
  {
   "cell_type": "raw",
   "id": "6e625c3e-17ba-4fea-9aca-791abb8e3464",
   "metadata": {},
   "source": [
    "5-print length of colors list"
   ]
  },
  {
   "cell_type": "code",
   "execution_count": 15,
   "id": "97e1a3b1-698f-413f-9843-318c0f4d9f09",
   "metadata": {},
   "outputs": [
    {
     "data": {
      "text/plain": [
       "4"
      ]
     },
     "execution_count": 15,
     "metadata": {},
     "output_type": "execute_result"
    }
   ],
   "source": [
    "len(List_of_colors)"
   ]
  },
  {
   "cell_type": "raw",
   "id": "174f6864-9f94-4ba2-8e0c-3e70b8d1e37b",
   "metadata": {},
   "source": [
    "# or"
   ]
  },
  {
   "cell_type": "code",
   "execution_count": 16,
   "id": "73147fc6-efb6-45db-8b92-42a1c2245f0c",
   "metadata": {},
   "outputs": [
    {
     "data": {
      "text/plain": [
       "4"
      ]
     },
     "execution_count": 16,
     "metadata": {},
     "output_type": "execute_result"
    }
   ],
   "source": [
    "len(basket[1])"
   ]
  },
  {
   "cell_type": "markdown",
   "id": "a7f894ca-745e-4cbb-8625-a2b6448b48aa",
   "metadata": {},
   "source": [
    "Q4.\n",
    "\n",
    "food = [\"pizza\", \"burger\", \"fries\", \"burger\", \"pasta\", \"burger\", \"biryani\", \"fries]\n",
    "\n",
    "- Add \"sandwich\" to the end of the list.\n",
    "- Insert \"biryani\" at index 2.\n"
   ]
  },
  {
   "cell_type": "raw",
   "id": "2f44d8cd-2607-49c3-9cf1-222a49c66d7f",
   "metadata": {},
   "source": [
    "# Add \"sandwich\" to the end of the list."
   ]
  },
  {
   "cell_type": "code",
   "execution_count": 17,
   "id": "c355c0f6-5e4d-4eda-80bd-b81038509c67",
   "metadata": {},
   "outputs": [],
   "source": [
    "food = [\"pizza\", \"burger\", \"fries\", \"burger\", \"pasta\", \"burger\", \"biryani\", \"fries\"]"
   ]
  },
  {
   "cell_type": "code",
   "execution_count": 18,
   "id": "03fb1801-3744-4c47-92f5-e299e33f0a60",
   "metadata": {},
   "outputs": [
    {
     "data": {
      "text/plain": [
       "['pizza',\n",
       " 'burger',\n",
       " 'fries',\n",
       " 'burger',\n",
       " 'pasta',\n",
       " 'burger',\n",
       " 'biryani',\n",
       " 'fries',\n",
       " 'sandwich']"
      ]
     },
     "execution_count": 18,
     "metadata": {},
     "output_type": "execute_result"
    }
   ],
   "source": [
    "food.append(\"sandwich\")\n",
    "food"
   ]
  },
  {
   "cell_type": "raw",
   "id": "68d5ed4d-bb39-411c-8af9-362d54a6a051",
   "metadata": {},
   "source": [
    "# Insert \"biryani\" at index 2."
   ]
  },
  {
   "cell_type": "code",
   "execution_count": 19,
   "id": "0bcbf16a-8bba-4031-8ddc-3fcf8e21690f",
   "metadata": {},
   "outputs": [
    {
     "data": {
      "text/plain": [
       "['pizza',\n",
       " 'burger',\n",
       " 'biryani',\n",
       " 'fries',\n",
       " 'burger',\n",
       " 'pasta',\n",
       " 'burger',\n",
       " 'biryani',\n",
       " 'fries',\n",
       " 'sandwich']"
      ]
     },
     "execution_count": 19,
     "metadata": {},
     "output_type": "execute_result"
    }
   ],
   "source": [
    "food.insert(2,\"biryani\")\n",
    "food"
   ]
  },
  {
   "cell_type": "markdown",
   "id": "c1126218-6a91-4e4e-9216-a7c73eeef712",
   "metadata": {},
   "source": [
    "Q5.\n",
    "\n",
    "- Sort the food list in alphabetical order\n",
    "- Reverse the order of the list food"
   ]
  },
  {
   "cell_type": "raw",
   "id": "1029368b-8432-4d11-8a03-77a49a5cd1da",
   "metadata": {},
   "source": [
    "# Sort the food list in alphabetical order"
   ]
  },
  {
   "cell_type": "code",
   "execution_count": 20,
   "id": "bd3460c2-98d4-44ae-9d27-9a00d7926cec",
   "metadata": {},
   "outputs": [
    {
     "data": {
      "text/plain": [
       "['biryani',\n",
       " 'biryani',\n",
       " 'burger',\n",
       " 'burger',\n",
       " 'burger',\n",
       " 'fries',\n",
       " 'fries',\n",
       " 'pasta',\n",
       " 'pizza',\n",
       " 'sandwich']"
      ]
     },
     "execution_count": 20,
     "metadata": {},
     "output_type": "execute_result"
    }
   ],
   "source": [
    "food.sort()\n",
    "food"
   ]
  },
  {
   "cell_type": "raw",
   "id": "c95aec36-f9ee-4a34-ad02-bff14125b52c",
   "metadata": {},
   "source": [
    "# Reverse the order of the list food"
   ]
  },
  {
   "cell_type": "code",
   "execution_count": 21,
   "id": "6cf70046-23b1-4403-9946-07424a40d680",
   "metadata": {},
   "outputs": [
    {
     "data": {
      "text/plain": [
       "['sandwich',\n",
       " 'pizza',\n",
       " 'pasta',\n",
       " 'fries',\n",
       " 'fries',\n",
       " 'burger',\n",
       " 'burger',\n",
       " 'burger',\n",
       " 'biryani',\n",
       " 'biryani']"
      ]
     },
     "execution_count": 21,
     "metadata": {},
     "output_type": "execute_result"
    }
   ],
   "source": [
    "food.reverse()\n",
    "food"
   ]
  },
  {
   "cell_type": "markdown",
   "id": "461f6fa9-0eea-49e8-ab2b-cefee7f7d235",
   "metadata": {},
   "source": [
    "Q6.\n",
    "\n",
    "- Find the index of \"pasta\" and print it from the list of food\n",
    "- Count how many times \"pizza\" appears in list food"
   ]
  },
  {
   "cell_type": "raw",
   "id": "4f025b6c-cb59-4c59-9929-a8f1959cdfd3",
   "metadata": {},
   "source": [
    "# Find the index of \"pasta\" and print it from the list of food"
   ]
  },
  {
   "cell_type": "code",
   "execution_count": 22,
   "id": "1d3f0b3d-2df8-4eee-9674-f0bb907a0a3c",
   "metadata": {},
   "outputs": [
    {
     "data": {
      "text/plain": [
       "2"
      ]
     },
     "execution_count": 22,
     "metadata": {},
     "output_type": "execute_result"
    }
   ],
   "source": [
    "food.index(\"pasta\")"
   ]
  },
  {
   "cell_type": "code",
   "execution_count": 23,
   "id": "bf442010-c84c-41fc-aa64-b61d9f023937",
   "metadata": {},
   "outputs": [
    {
     "data": {
      "text/plain": [
       "['sandwich',\n",
       " 'pizza',\n",
       " 'pasta',\n",
       " 'fries',\n",
       " 'fries',\n",
       " 'burger',\n",
       " 'burger',\n",
       " 'burger',\n",
       " 'biryani',\n",
       " 'biryani']"
      ]
     },
     "execution_count": 23,
     "metadata": {},
     "output_type": "execute_result"
    }
   ],
   "source": [
    "food"
   ]
  },
  {
   "cell_type": "code",
   "execution_count": 24,
   "id": "39ce4cc1-5546-4c52-8f4c-a847d8166b97",
   "metadata": {},
   "outputs": [
    {
     "data": {
      "text/plain": [
       "'pasta'"
      ]
     },
     "execution_count": 24,
     "metadata": {},
     "output_type": "execute_result"
    }
   ],
   "source": [
    "food[2]"
   ]
  },
  {
   "cell_type": "raw",
   "id": "0b216c60-f91b-4093-8c92-82e983fa1dc1",
   "metadata": {},
   "source": [
    "# Count how many times \"pizza\" appears in list food"
   ]
  },
  {
   "cell_type": "code",
   "execution_count": 25,
   "id": "a1e5493a-f92a-43e5-b249-ef3c4d164315",
   "metadata": {},
   "outputs": [
    {
     "data": {
      "text/plain": [
       "1"
      ]
     },
     "execution_count": 25,
     "metadata": {},
     "output_type": "execute_result"
    }
   ],
   "source": [
    "food.count(\"pizza\")"
   ]
  },
  {
   "cell_type": "markdown",
   "id": "099ef23b-3188-412d-8b3c-0021ac3cee53",
   "metadata": {},
   "source": [
    "Q7.\n",
    "\n",
    "- Remove \"burger\" (only the first one) from the list food.\n",
    "- Remove the last item using pop() and print it.\n",
    "\n"
   ]
  },
  {
   "cell_type": "raw",
   "id": "421022ab-4a77-4cbe-ae53-c0c2aa5e42ba",
   "metadata": {},
   "source": [
    "# Remove \"burger\" (only the first one) from the list food."
   ]
  },
  {
   "cell_type": "code",
   "execution_count": 26,
   "id": "b9e119e0-3a62-4321-8547-4f6948f400d9",
   "metadata": {},
   "outputs": [
    {
     "data": {
      "text/plain": [
       "['sandwich',\n",
       " 'pizza',\n",
       " 'pasta',\n",
       " 'fries',\n",
       " 'fries',\n",
       " 'burger',\n",
       " 'burger',\n",
       " 'biryani',\n",
       " 'biryani']"
      ]
     },
     "execution_count": 26,
     "metadata": {},
     "output_type": "execute_result"
    }
   ],
   "source": [
    "food.remove(\"burger\")\n",
    "food"
   ]
  },
  {
   "cell_type": "raw",
   "id": "ee086b47-aebd-4fad-9669-dbbaed63554a",
   "metadata": {},
   "source": [
    "# Remove the last item using pop() and print it."
   ]
  },
  {
   "cell_type": "code",
   "execution_count": 32,
   "id": "2fbc6c29-b579-4daf-b162-5c4ef0bc458b",
   "metadata": {},
   "outputs": [
    {
     "data": {
      "text/plain": [
       "['pizza', 'fries', 'pasta', 'burger', 'biryani']"
      ]
     },
     "execution_count": 32,
     "metadata": {},
     "output_type": "execute_result"
    }
   ],
   "source": [
    "food.pop(-1)\n",
    "food"
   ]
  },
  {
   "cell_type": "markdown",
   "id": "648c2ce0-5a67-4e17-b3ac-5eb7587dee4b",
   "metadata": {},
   "source": [
    "Q8.\n",
    "\n",
    "- Make a copy of the list of food and name it my_food\n",
    "- Clear the original food list."
   ]
  },
  {
   "cell_type": "raw",
   "id": "c48caadd-bab4-4428-888b-7ef5a604f26b",
   "metadata": {},
   "source": [
    "# Make a copy of the list of food and name it my_food"
   ]
  },
  {
   "cell_type": "code",
   "execution_count": 33,
   "id": "ae093142-637f-456d-87b7-f7261043bd85",
   "metadata": {},
   "outputs": [
    {
     "data": {
      "text/plain": [
       "['pizza', 'fries', 'pasta', 'burger', 'biryani']"
      ]
     },
     "execution_count": 33,
     "metadata": {},
     "output_type": "execute_result"
    }
   ],
   "source": [
    "my_food=food.copy()\n",
    "my_food"
   ]
  },
  {
   "cell_type": "raw",
   "id": "eaf3ce85-60ee-41e7-b8ae-6e776be14079",
   "metadata": {},
   "source": [
    "# Clear the original food list."
   ]
  },
  {
   "cell_type": "code",
   "execution_count": 34,
   "id": "3cae3fa8-d62e-47ba-9b6f-8f1683e1943b",
   "metadata": {},
   "outputs": [
    {
     "data": {
      "text/plain": [
       "[]"
      ]
     },
     "execution_count": 34,
     "metadata": {},
     "output_type": "execute_result"
    }
   ],
   "source": [
    "food.clear()\n",
    "food"
   ]
  },
  {
   "cell_type": "markdown",
   "id": "acd0311b-d9bf-485d-a306-73b281094051",
   "metadata": {},
   "source": [
    "Q9.\n",
    "\n",
    "Count nested list [1,2] by count method\n",
    "\n",
    "data = [[1, 2],[3, 4],[1, 2],[2,4],[1, 2],[1,3,6]]\n"
   ]
  },
  {
   "cell_type": "code",
   "execution_count": 35,
   "id": "f25314e7-b53c-415c-8f2e-664c0477a330",
   "metadata": {},
   "outputs": [],
   "source": [
    "data = [[1, 2],[3, 4],[1, 2],[2,4],[1, 2],[1,3,6]]"
   ]
  },
  {
   "cell_type": "code",
   "execution_count": 36,
   "id": "6d2c39f4-a55d-4055-b3c4-7c544a6c164f",
   "metadata": {},
   "outputs": [
    {
     "data": {
      "text/plain": [
       "3"
      ]
     },
     "execution_count": 36,
     "metadata": {},
     "output_type": "execute_result"
    }
   ],
   "source": [
    "data.count([1,2])"
   ]
  },
  {
   "cell_type": "markdown",
   "id": "3a8ca1b5-48c0-44e4-b54b-2d8fe3a7ab82",
   "metadata": {},
   "source": [
    "Q10.\n",
    "\n",
    "Replace 'cat' with 'found you'\n",
    "odd_item = ['almond','peanut'['onion','potato','tomato'['apple','mango','cherry',['cat'],'banana'],'lemon',],'walnut']"
   ]
  },
  {
   "cell_type": "code",
   "execution_count": 37,
   "id": "3a5bf4d3-3d3d-4f75-95b8-936337e20b0c",
   "metadata": {},
   "outputs": [],
   "source": [
    "odd_item = ['almond','peanut',['onion','potato','tomato',['apple','mango','cherry',['cat'],'banana'],'lemon',],'walnut']"
   ]
  },
  {
   "cell_type": "code",
   "execution_count": 38,
   "id": "e57dea32-e318-4235-8843-e98b5f6e2bb3",
   "metadata": {},
   "outputs": [
    {
     "data": {
      "text/plain": [
       "['apple', 'mango', 'cherry', ['cat'], 'banana']"
      ]
     },
     "execution_count": 38,
     "metadata": {},
     "output_type": "execute_result"
    }
   ],
   "source": [
    "odd_item[2][3]"
   ]
  },
  {
   "cell_type": "code",
   "execution_count": 39,
   "id": "b5895dfe-f617-4384-a0b2-00b28580a35a",
   "metadata": {},
   "outputs": [
    {
     "data": {
      "text/plain": [
       "['cat']"
      ]
     },
     "execution_count": 39,
     "metadata": {},
     "output_type": "execute_result"
    }
   ],
   "source": [
    "odd_item[2][3][3][0:]"
   ]
  },
  {
   "cell_type": "code",
   "execution_count": 43,
   "id": "3977cee8-b325-42a0-9f9c-1bf173cf0bdd",
   "metadata": {},
   "outputs": [],
   "source": [
    "odd_item[2][3][3]=\"found you\""
   ]
  },
  {
   "cell_type": "code",
   "execution_count": 41,
   "id": "57d36ab4-a63f-4b2e-ae40-4481535a8d91",
   "metadata": {},
   "outputs": [
    {
     "data": {
      "text/plain": [
       "['almond',\n",
       " 'peanut',\n",
       " ['onion',\n",
       "  'potato',\n",
       "  'tomato',\n",
       "  ['apple', 'mango', 'cherry', 'found you', 'banana'],\n",
       "  'lemon'],\n",
       " 'walnut']"
      ]
     },
     "execution_count": 41,
     "metadata": {},
     "output_type": "execute_result"
    }
   ],
   "source": [
    "odd_item"
   ]
  }
 ],
 "metadata": {
  "kernelspec": {
   "display_name": "Python 3 (ipykernel)",
   "language": "python",
   "name": "python3"
  },
  "language_info": {
   "codemirror_mode": {
    "name": "ipython",
    "version": 3
   },
   "file_extension": ".py",
   "mimetype": "text/x-python",
   "name": "python",
   "nbconvert_exporter": "python",
   "pygments_lexer": "ipython3",
   "version": "3.13.5"
  }
 },
 "nbformat": 4,
 "nbformat_minor": 5
}
