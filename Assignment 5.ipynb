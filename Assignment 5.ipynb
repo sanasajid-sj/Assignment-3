{
 "cells": [
  {
   "cell_type": "markdown",
   "id": "02c93f40-2462-4008-89ac-402b9c4e637c",
   "metadata": {},
   "source": [
    "Q1. An e-commerce store stores information about its products in a nested dictionary. The outer dictionary uses product IDs as keys, and the inner dictionary stores product details like name, category, price, and stock quantity. products = { 101: {\"name\": \"Laptop\", \"category\": \"Electronics\", \"price\": 1200, \"stock\": 50}, 102: {\"name\": \"Shirt\", \"category\": \"Apparel\", \"price\": 25, \"stock\": 200}, 103: {\"name\": \"Coffee Maker\", \"category\": \"Home Appliances\", \"price\": 80, \"stock\": 30} }\n",
    "\n",
    "• Increase the stock of the \"Shirt\" product (add 50 more units) using increment/decrement operators\n",
    "\n",
    "• Add a new product (e.g., \"Smartphone\")\n",
    "\n",
    "Expected Output:\n",
    "\n",
    "{101: {'name': 'Laptop', 'category': 'Electronics', 'price': 1200, 'stock': 50}, 102: {'name': 'Shirt', 'category': 'Apparel', 'price': 25, 'stock': 250}, 103: {'name': 'Coffee Maker', 'category': 'Home Appliances', 'price': 80, 'stock': 30}}\n",
    "{101: {'name': 'Laptop', 'category': 'Electronics', 'price': 1200, 'stock': 50}, 102: {'name': 'Shirt', 'category': 'Apparel', 'price': 25, 'stock': 250}, 103: {'name': 'Coffee Maker', 'category': 'Home Appliances', 'price': 80, 'stock': 30}, 104: {'name': 'Smartphone', 'category': 'Electronics', 'price': 800, 'stock': 100}}"
   ]
  },
  {
   "cell_type": "code",
   "execution_count": 1,
   "id": "c3614938-f1ad-4851-b68e-3ccf6d0621c3",
   "metadata": {},
   "outputs": [
    {
     "data": {
      "text/plain": [
       "{101: {'name': 'Laptop',\n",
       "  'category': 'Electronics',\n",
       "  'price': 1200,\n",
       "  'stock': 50},\n",
       " 102: {'name': 'Shirt', 'category': 'Apparel', 'price': 25, 'stock': 200},\n",
       " 103: {'name': 'Coffee Maker',\n",
       "  'category': 'Home Appliances',\n",
       "  'price': 80,\n",
       "  'stock': 30}}"
      ]
     },
     "execution_count": 1,
     "metadata": {},
     "output_type": "execute_result"
    }
   ],
   "source": [
    "products = { 101: {\"name\": \"Laptop\", \"category\": \"Electronics\", \"price\": 1200, \"stock\": 50}, 102: {\"name\": \"Shirt\", \"category\": \"Apparel\", \"price\": 25, \"stock\": 200}, 103: {\"name\": \"Coffee Maker\", \"category\": \"Home Appliances\", \"price\": 80, \"stock\": 30} }\n",
    "products"
   ]
  },
  {
   "cell_type": "code",
   "execution_count": 2,
   "id": "8f9f4276-0dbe-4585-8fc3-6e92e4488490",
   "metadata": {},
   "outputs": [
    {
     "data": {
      "text/plain": [
       "25"
      ]
     },
     "execution_count": 2,
     "metadata": {},
     "output_type": "execute_result"
    }
   ],
   "source": [
    "products[102][\"price\"]"
   ]
  },
  {
   "cell_type": "code",
   "execution_count": 3,
   "id": "f01e9c74-444c-4d12-b6f2-02447a4b5fb0",
   "metadata": {},
   "outputs": [
    {
     "data": {
      "text/plain": [
       "{101: {'name': 'Laptop',\n",
       "  'category': 'Electronics',\n",
       "  'price': 1200,\n",
       "  'stock': 50},\n",
       " 102: {'name': 'Shirt', 'category': 'Apparel', 'price': 75, 'stock': 200},\n",
       " 103: {'name': 'Coffee Maker',\n",
       "  'category': 'Home Appliances',\n",
       "  'price': 80,\n",
       "  'stock': 30}}"
      ]
     },
     "execution_count": 3,
     "metadata": {},
     "output_type": "execute_result"
    }
   ],
   "source": [
    "products[102][\"price\"] += 50\n",
    "products"
   ]
  },
  {
   "cell_type": "code",
   "execution_count": 4,
   "id": "64872b73-eacc-47e7-b01f-526a7e7f35d3",
   "metadata": {},
   "outputs": [
    {
     "data": {
      "text/plain": [
       "{104: {'name': 'Smartphone',\n",
       "  'category': 'Electronics',\n",
       "  'price': 800,\n",
       "  'stock': 100}}"
      ]
     },
     "execution_count": 4,
     "metadata": {},
     "output_type": "execute_result"
    }
   ],
   "source": [
    "b={104: {'name': 'Smartphone', 'category': 'Electronics', 'price': 800, 'stock': 100}}\n",
    "b"
   ]
  },
  {
   "cell_type": "code",
   "execution_count": 5,
   "id": "b1569ba5-c2b4-461a-b695-80995a9f869d",
   "metadata": {},
   "outputs": [
    {
     "data": {
      "text/plain": [
       "{101: {'name': 'Laptop',\n",
       "  'category': 'Electronics',\n",
       "  'price': 1200,\n",
       "  'stock': 50},\n",
       " 102: {'name': 'Shirt', 'category': 'Apparel', 'price': 75, 'stock': 200},\n",
       " 103: {'name': 'Coffee Maker',\n",
       "  'category': 'Home Appliances',\n",
       "  'price': 80,\n",
       "  'stock': 30},\n",
       " 104: {'name': 'Smartphone',\n",
       "  'category': 'Electronics',\n",
       "  'price': 800,\n",
       "  'stock': 100}}"
      ]
     },
     "execution_count": 5,
     "metadata": {},
     "output_type": "execute_result"
    }
   ],
   "source": [
    "products.update(b)\n",
    "products"
   ]
  },
  {
   "cell_type": "markdown",
   "id": "38374151-536f-489a-a18b-c52649f20110",
   "metadata": {},
   "source": [
    "Q2. You are given a list that contains some duplicate items. Remove the duplicates by converting the list to a set. Final output should be in list\n",
    "\n",
    "shopping_list = [\"apple\", \"banana\", \"apple\", \"orange\", \"banana\", \"grape\"]\n",
    "\n",
    "Expected Output:\n",
    "['apple', 'grape', 'banana', 'orange']"
   ]
  },
  {
   "cell_type": "code",
   "execution_count": 6,
   "id": "0f06646b-b3ef-43b0-9179-71060296ca8c",
   "metadata": {},
   "outputs": [
    {
     "data": {
      "text/plain": [
       "['apple', 'banana', 'apple', 'orange', 'banana', 'grape']"
      ]
     },
     "execution_count": 6,
     "metadata": {},
     "output_type": "execute_result"
    }
   ],
   "source": [
    "shopping_list = [\"apple\", \"banana\", \"apple\", \"orange\", \"banana\", \"grape\"]\n",
    "shopping_list"
   ]
  },
  {
   "cell_type": "code",
   "execution_count": 7,
   "id": "d1bc7b70-9b71-4235-8b21-1e981ef9e2e6",
   "metadata": {},
   "outputs": [
    {
     "data": {
      "text/plain": [
       "{'apple', 'banana', 'grape', 'orange'}"
      ]
     },
     "execution_count": 7,
     "metadata": {},
     "output_type": "execute_result"
    }
   ],
   "source": [
    "shopping_list=set(shopping_list)\n",
    "shopping_list"
   ]
  },
  {
   "cell_type": "code",
   "execution_count": 8,
   "id": "0ceabab1-4b4d-4fc8-aa5b-99036f59c952",
   "metadata": {},
   "outputs": [
    {
     "data": {
      "text/plain": [
       "['banana', 'orange', 'grape', 'apple']"
      ]
     },
     "execution_count": 8,
     "metadata": {},
     "output_type": "execute_result"
    }
   ],
   "source": [
    "shopping_list=list(shopping_list)\n",
    "shopping_list"
   ]
  },
  {
   "cell_type": "raw",
   "id": "b7997443-c0e0-4174-b375-a9b21b1cb365",
   "metadata": {},
   "source": [
    "#Unable to arrange excatly which is given in the question."
   ]
  },
  {
   "cell_type": "markdown",
   "id": "6024ec14-7264-4e36-bcea-da9e8044e483",
   "metadata": {},
   "source": [
    "Q3. You are managing a list of students enrolled in two different courses. You need to perform various set operations to understand the student enrollment. Task: Create two sets: one for students in \"Course A\" and one for students in \"Course B\". Find the students who are in \"Course A\" but not in \"Course B\" (difference). Find students who are only in one of the two courses (symmetric difference). course_a = {\"John\", \"Alice\", \"Bob\", \"David\"} course_b = {\"Alice\", \"Eve\", \"Charlie\", \"David\"}\n",
    "\n",
    "Using set methods\n",
    "\n",
    "• Find students who are in Course A but not in Course B (difference)\n",
    "\n",
    "• Find students who are only in one of the two courses (symmetric difference)\n",
    "\n",
    "Expected Output:\n",
    "\n",
    "Students in Course A but not in Course B: {'Bob', 'John'}\n",
    "\n",
    "Students only in one of the two courses: {'Eve', 'John', 'Bob', 'Charlie'}\n"
   ]
  },
  {
   "cell_type": "code",
   "execution_count": 9,
   "id": "b8598293-0b7e-488f-9be0-19603dbd7041",
   "metadata": {},
   "outputs": [],
   "source": [
    "course_a = {\"John\", \"Alice\", \"Bob\", \"David\"}\n",
    "course_b = {\"Alice\", \"Eve\", \"Charlie\", \"David\"}"
   ]
  },
  {
   "cell_type": "code",
   "execution_count": 10,
   "id": "9f266436-0fe5-4cba-890d-652d178c0789",
   "metadata": {},
   "outputs": [
    {
     "data": {
      "text/plain": [
       "{'Alice', 'Bob', 'David', 'John'}"
      ]
     },
     "execution_count": 10,
     "metadata": {},
     "output_type": "execute_result"
    }
   ],
   "source": [
    "course_a"
   ]
  },
  {
   "cell_type": "code",
   "execution_count": 11,
   "id": "1ae605c0-a7ff-44c8-a96e-6b983e6bf2b6",
   "metadata": {},
   "outputs": [
    {
     "data": {
      "text/plain": [
       "{'Alice', 'Charlie', 'David', 'Eve'}"
      ]
     },
     "execution_count": 11,
     "metadata": {},
     "output_type": "execute_result"
    }
   ],
   "source": [
    "course_b"
   ]
  },
  {
   "cell_type": "code",
   "execution_count": 12,
   "id": "bccc2ed5-af47-43a0-8fa2-357417429d5f",
   "metadata": {},
   "outputs": [
    {
     "data": {
      "text/plain": [
       "{'Bob', 'John'}"
      ]
     },
     "execution_count": 12,
     "metadata": {},
     "output_type": "execute_result"
    }
   ],
   "source": [
    "Students_in_Course_a_but_not_in_Course_b = course_a.difference(course_b)\n",
    "Students_in_Course_a_but_not_in_Course_b"
   ]
  },
  {
   "cell_type": "code",
   "execution_count": 13,
   "id": "53f41bc0-5031-4429-a7be-686475a42cfd",
   "metadata": {},
   "outputs": [
    {
     "data": {
      "text/plain": [
       "{'Bob', 'Charlie', 'Eve', 'John'}"
      ]
     },
     "execution_count": 13,
     "metadata": {},
     "output_type": "execute_result"
    }
   ],
   "source": [
    "students_who_are_only_in_one_of_the_two_courses=course_a.symmetric_difference(course_b)\n",
    "students_who_are_only_in_one_of_the_two_courses"
   ]
  },
  {
   "cell_type": "code",
   "execution_count": 14,
   "id": "20f2b10f-05f2-4d1d-bb1e-6e6abe5f3d99",
   "metadata": {},
   "outputs": [
    {
     "name": "stdout",
     "output_type": "stream",
     "text": [
      "Students in Course A but not in Course B: {'John', 'Bob', 'Eve', 'Charlie'}\n"
     ]
    }
   ],
   "source": [
    "print(\"Students in Course A but not in Course B:\",students_who_are_only_in_one_of_the_two_courses)"
   ]
  },
  {
   "cell_type": "code",
   "execution_count": 15,
   "id": "e8f6d45e-a8ac-4ef8-b599-0dc71af8b53a",
   "metadata": {},
   "outputs": [
    {
     "name": "stdout",
     "output_type": "stream",
     "text": [
      "Students only in one of the two courses: {'John', 'Bob'}\n"
     ]
    }
   ],
   "source": [
    "print(\"Students only in one of the two courses:\",Students_in_Course_a_but_not_in_Course_b)"
   ]
  },
  {
   "cell_type": "markdown",
   "id": "41da432a-3038-4868-803e-fe40f55c9983",
   "metadata": {},
   "source": [
    "Q4. Write a Python program to store and display the details of a book.\n",
    "\n",
    "The program should ask the user to input the following information:\n",
    "\n",
    "Title of the book\n",
    "\n",
    "Author’s name\n",
    "\n",
    "Year of publication\n",
    "\n",
    "Price of the booK\n",
    "\n",
    "Store the entered details in a tuple.\n",
    "\n",
    "Finally, display the book details in a proper format as shown below:\n",
    "\n",
    "Expected Output:\n",
    "\n",
    "Title: Harry Potter\n",
    "\n",
    "Author: JK Rowlings\n",
    "\n",
    "Year of Publication: 2000\n",
    "\n",
    "Price: $180.0"
   ]
  },
  {
   "cell_type": "code",
   "execution_count": 2,
   "id": "2d5f4335-0276-4250-bd8d-91ddba2292e4",
   "metadata": {},
   "outputs": [
    {
     "name": "stdin",
     "output_type": "stream",
     "text": [
      "Title of the book:  Harry Potter\n"
     ]
    }
   ],
   "source": [
    "a=input(\"Title of the book:\")"
   ]
  },
  {
   "cell_type": "code",
   "execution_count": 3,
   "id": "82f83385-3c8a-4e26-be46-f0b4c8100149",
   "metadata": {},
   "outputs": [
    {
     "name": "stdin",
     "output_type": "stream",
     "text": [
      "Author’s name: JK Rowlings\n"
     ]
    }
   ],
   "source": [
    "b=input(\"Author’s name:\")"
   ]
  },
  {
   "cell_type": "code",
   "execution_count": 4,
   "id": "47b7001c-0847-4520-8904-9d1d8008cd0f",
   "metadata": {},
   "outputs": [
    {
     "name": "stdin",
     "output_type": "stream",
     "text": [
      "Year of publication: 2000\n"
     ]
    }
   ],
   "source": [
    "c=int(input(\"Year of publication:\"))"
   ]
  },
  {
   "cell_type": "code",
   "execution_count": 5,
   "id": "62ad26eb-5c6f-4315-86da-993e14fd7df0",
   "metadata": {},
   "outputs": [
    {
     "name": "stdin",
     "output_type": "stream",
     "text": [
      "Price: $180.0\n"
     ]
    }
   ],
   "source": [
    "d=input(\"Price:\")"
   ]
  },
  {
   "cell_type": "code",
   "execution_count": 6,
   "id": "99c618d5-1b78-4822-b637-0348736d00b0",
   "metadata": {},
   "outputs": [],
   "source": [
    "book_details =(a,b,c,d)"
   ]
  },
  {
   "cell_type": "code",
   "execution_count": 7,
   "id": "6c064500-6504-43e4-a49d-ad36d5d59545",
   "metadata": {},
   "outputs": [
    {
     "data": {
      "text/plain": [
       "(' Harry Potter', 'JK Rowlings', 2000, '$180.0')"
      ]
     },
     "execution_count": 7,
     "metadata": {},
     "output_type": "execute_result"
    }
   ],
   "source": [
    "book_details"
   ]
  },
  {
   "cell_type": "code",
   "execution_count": 8,
   "id": "d4868843-0583-404d-971f-e2b852d52064",
   "metadata": {},
   "outputs": [
    {
     "data": {
      "text/plain": [
       "4"
      ]
     },
     "execution_count": 8,
     "metadata": {},
     "output_type": "execute_result"
    }
   ],
   "source": [
    "len(book_details)"
   ]
  },
  {
   "cell_type": "code",
   "execution_count": 9,
   "id": "11a679f3-d612-4fde-aac2-a6cd09c1ce0b",
   "metadata": {},
   "outputs": [],
   "source": [
    "Title,Author,Year_of_Publication,Price=book_details"
   ]
  },
  {
   "cell_type": "code",
   "execution_count": 10,
   "id": "b47dd793-d744-4766-900d-0ec8472a04b2",
   "metadata": {},
   "outputs": [
    {
     "name": "stdout",
     "output_type": "stream",
     "text": [
      "Title:  Harry Potter\n",
      "Author: JK Rowlings\n",
      "Year of Publication: 2000\n",
      "Price: $180.0\n"
     ]
    }
   ],
   "source": [
    "print(\"Title:\",a)\n",
    "print(\"Author:\",b)\n",
    "print(\"Year of Publication:\",c)\n",
    "print(\"Price:\",d)"
   ]
  },
  {
   "cell_type": "markdown",
   "id": "48347612-e98e-4b10-b9e7-69dd64a27cd3",
   "metadata": {},
   "source": [
    "Q5. Write a program to check if a user’s chosen subject is available in the list of offered subjects.\n",
    "\n",
    "Instructions:\n",
    "\n",
    "Given a list of subjects, ask the user to input a subject.\n",
    "\n",
    "Display whether the subject is available or not.\n",
    "\n",
    "Expected Output:\n",
    "\n",
    "Enter the subject you are interested in:  art\n",
    "\n",
    "art is available."
   ]
  },
  {
   "cell_type": "code",
   "execution_count": 11,
   "id": "08a82653-fb92-4ccf-97b7-dca5da5698af",
   "metadata": {},
   "outputs": [
    {
     "data": {
      "text/plain": [
       "['Science', 'Art', 'Maths', 'Engineering']"
      ]
     },
     "execution_count": 11,
     "metadata": {},
     "output_type": "execute_result"
    }
   ],
   "source": [
    "Subject_list = [\"Science\", \"Art\", \"Maths\", \"Engineering\"]\n",
    "Subject_list"
   ]
  },
  {
   "cell_type": "code",
   "execution_count": 12,
   "id": "874335b2-5d16-4fea-a166-06f4af2dc410",
   "metadata": {},
   "outputs": [
    {
     "name": "stdin",
     "output_type": "stream",
     "text": [
      "Enter the subject you are interested in: Art\n"
     ]
    }
   ],
   "source": [
    "Subject=input(\"Enter the subject you are interested in:\")"
   ]
  },
  {
   "cell_type": "code",
   "execution_count": 13,
   "id": "8b810d75-62ac-496e-a818-cdecc8131cfd",
   "metadata": {},
   "outputs": [
    {
     "name": "stdout",
     "output_type": "stream",
     "text": [
      "Art is available\n"
     ]
    }
   ],
   "source": [
    "if Subject in Subject_list:\n",
    "    print(Subject + \" is available\")\n",
    "else:\n",
    "    print(\"Sorry \" + Subject + \" is not available\")"
   ]
  },
  {
   "cell_type": "code",
   "execution_count": 14,
   "id": "387b9939-61d7-441d-8908-f43570fcc41c",
   "metadata": {},
   "outputs": [
    {
     "name": "stdin",
     "output_type": "stream",
     "text": [
      "Enter the subject you are interested in: Molecular Biology\n"
     ]
    }
   ],
   "source": [
    "Subject=input(\"Enter the subject you are interested in:\")"
   ]
  },
  {
   "cell_type": "code",
   "execution_count": 15,
   "id": "e17f95b2-9412-4d30-a16f-5f8dde5c1b95",
   "metadata": {},
   "outputs": [
    {
     "name": "stdout",
     "output_type": "stream",
     "text": [
      "Sorry Molecular Biology is not available\n"
     ]
    }
   ],
   "source": [
    "if Subject in Subject_list:\n",
    "    print(Subject + \" is available\")\n",
    "else:\n",
    "    print(\"Sorry \" + Subject + \" is not available\")"
   ]
  },
  {
   "cell_type": "markdown",
   "id": "11ffc986-b30a-4cd9-8416-44c6da950d00",
   "metadata": {},
   "source": [
    "Q6. Write a Python program that asks the user to enter a number.\n",
    "\n",
    "If the number is greater than 0, print \"Positive\".\n",
    "\n",
    "If the number is less than 0, print \"Negative\".\n",
    "\n",
    "If the number is exactly 0, print \"Zero\".\n",
    "\n",
    "Expected Output:\n",
    "\n",
    "Enter a number:  2\n",
    "\n",
    "The number is Positive\n",
    "\n",
    "---\n",
    "\n",
    "Enter a number:  0\n",
    "\n",
    "The number is Zero\n",
    "\n",
    "---\n",
    "\n",
    "Enter a number:  -1\n",
    "\n",
    "The number is Negative"
   ]
  },
  {
   "cell_type": "code",
   "execution_count": 16,
   "id": "858476d3-3431-46fe-871c-7a923a6446e5",
   "metadata": {},
   "outputs": [
    {
     "name": "stdin",
     "output_type": "stream",
     "text": [
      "Enter a number: 2\n"
     ]
    }
   ],
   "source": [
    "number=int(input(\"Enter a number:\"))"
   ]
  },
  {
   "cell_type": "code",
   "execution_count": 17,
   "id": "8ae3de17-a34f-4c42-9230-03b8c12bb5da",
   "metadata": {},
   "outputs": [
    {
     "name": "stdout",
     "output_type": "stream",
     "text": [
      "Positive\n"
     ]
    }
   ],
   "source": [
    "if number > 0:\n",
    "    print(\"Positive\")\n",
    "elif number < 0:\n",
    "    print(\"Negative\")\n",
    "elif number == 0:\n",
    "    print(\"Zero\")"
   ]
  },
  {
   "cell_type": "code",
   "execution_count": 18,
   "id": "22c9e37d-8927-447c-b63f-721aa54b48c4",
   "metadata": {},
   "outputs": [
    {
     "name": "stdin",
     "output_type": "stream",
     "text": [
      "Enter a number: 0\n"
     ]
    }
   ],
   "source": [
    "number=int(input(\"Enter a number:\"))"
   ]
  },
  {
   "cell_type": "code",
   "execution_count": 19,
   "id": "3d45e6fb-035e-4cb7-9803-56b732ae5609",
   "metadata": {},
   "outputs": [
    {
     "name": "stdout",
     "output_type": "stream",
     "text": [
      "Zero\n"
     ]
    }
   ],
   "source": [
    "if number > 0:\n",
    "    print(\"Positive\")\n",
    "elif number < 0:\n",
    "    print(\"Negative\")\n",
    "elif number == 0:\n",
    "    print(\"Zero\")"
   ]
  },
  {
   "cell_type": "code",
   "execution_count": 20,
   "id": "59770fe2-6b7d-498e-83d0-4ae9c507db20",
   "metadata": {},
   "outputs": [
    {
     "name": "stdin",
     "output_type": "stream",
     "text": [
      "Enter a number: -1\n"
     ]
    }
   ],
   "source": [
    "number=int(input(\"Enter a number:\"))"
   ]
  },
  {
   "cell_type": "code",
   "execution_count": 21,
   "id": "709859cf-7a78-4633-ae53-30c1d8230559",
   "metadata": {},
   "outputs": [
    {
     "name": "stdout",
     "output_type": "stream",
     "text": [
      "Negative\n"
     ]
    }
   ],
   "source": [
    "if number > 0:\n",
    "    print(\"Positive\")\n",
    "elif number < 0:\n",
    "    print(\"Negative\")\n",
    "elif number == 0:\n",
    "    print(\"Zero\")"
   ]
  },
  {
   "cell_type": "markdown",
   "id": "2c3a8b52-5013-4999-bdfe-5248b957ad74",
   "metadata": {},
   "source": [
    "Q7. Write a Python program that simulates a simple login system.\n",
    "\n",
    "The correct username is 'admin' and the correct password is 'admin@123'\n",
    "\n",
    "The program should take username and password as input from the user.\n",
    "\n",
    "It should check the input and display messages according to the following conditions:\n",
    "\n",
    "- If both username and password are correct → print \"Login Successful\".\n",
    "\n",
    "- If username is wrong but password is correct → print \"Invalid Username\".\n",
    "\n",
    "- If username is correct but password is wrong → print \"Invalid Password\".\n",
    "\n",
    "- If both username and password are wrong → print \"Invalid Username and Password\"."
   ]
  },
  {
   "cell_type": "code",
   "execution_count": 22,
   "id": "2f117622-9b34-4d33-9a55-77d098296c8e",
   "metadata": {},
   "outputs": [],
   "source": [
    "Correct_user_name=\"admin\""
   ]
  },
  {
   "cell_type": "code",
   "execution_count": 23,
   "id": "663bf912-688b-47b1-92d6-4cc3480a00fe",
   "metadata": {},
   "outputs": [],
   "source": [
    "Correct_password=\"admin@123\""
   ]
  },
  {
   "cell_type": "code",
   "execution_count": 24,
   "id": "bba1f1e4-be24-49de-b43b-b55f7a51a2ec",
   "metadata": {},
   "outputs": [
    {
     "name": "stdin",
     "output_type": "stream",
     "text": [
      "Enter user name: admin\n"
     ]
    }
   ],
   "source": [
    "User_name=input(\"Enter user name:\")"
   ]
  },
  {
   "cell_type": "code",
   "execution_count": 25,
   "id": "744c8cc6-cf4e-46b1-a8e1-8524d9383a21",
   "metadata": {},
   "outputs": [
    {
     "name": "stdin",
     "output_type": "stream",
     "text": [
      "Enter password: admin@123\n"
     ]
    }
   ],
   "source": [
    "password=input(\"Enter password:\")"
   ]
  },
  {
   "cell_type": "code",
   "execution_count": 26,
   "id": "4f811f0b-1bf9-45f2-aaef-5e5f5e7a1e3a",
   "metadata": {},
   "outputs": [
    {
     "name": "stdout",
     "output_type": "stream",
     "text": [
      "Login Successful\n"
     ]
    }
   ],
   "source": [
    "if Correct_user_name == User_name and Correct_password == password:\n",
    "    print(\"Login Successful\")\n",
    "elif Correct_user_name != User_name and Correct_password == password:\n",
    "    print(\"Invalid Username\")\n",
    "elif Correct_user_name == User_name and Correct_password != password:\n",
    "    print(\"Invalid Password\")\n",
    "elif Correct_user_name != User_name and Correct_password != password:\n",
    "    print(\"Invalid Username and Password\")"
   ]
  },
  {
   "cell_type": "code",
   "execution_count": 27,
   "id": "91daad2b-9152-4807-8304-03bccb541750",
   "metadata": {},
   "outputs": [
    {
     "name": "stdin",
     "output_type": "stream",
     "text": [
      "Enter user name: Admin\n"
     ]
    }
   ],
   "source": [
    "User_name=input(\"Enter user name:\")"
   ]
  },
  {
   "cell_type": "code",
   "execution_count": 28,
   "id": "eea3b91d-d6ed-4ee2-b05a-3108ab69c39d",
   "metadata": {},
   "outputs": [
    {
     "name": "stdin",
     "output_type": "stream",
     "text": [
      "Enter password: admin@123\n"
     ]
    }
   ],
   "source": [
    "password=input(\"Enter password:\")"
   ]
  },
  {
   "cell_type": "code",
   "execution_count": 29,
   "id": "2d948e1e-9767-4e42-97ed-b9d1a64e85e3",
   "metadata": {},
   "outputs": [
    {
     "name": "stdout",
     "output_type": "stream",
     "text": [
      "Invalid Username\n"
     ]
    }
   ],
   "source": [
    "if Correct_user_name == User_name and Correct_password == password:\n",
    "    print(\"Login Successful\")\n",
    "elif Correct_user_name != User_name and Correct_password == password:\n",
    "    print(\"Invalid Username\")\n",
    "elif Correct_user_name == User_name and Correct_password != password:\n",
    "    print(\"Invalid Password\")\n",
    "elif Correct_user_name != User_name and Correct_password != password:\n",
    "    print(\"Invalid Username and Password\")"
   ]
  },
  {
   "cell_type": "code",
   "execution_count": 30,
   "id": "aa8667cd-3ee1-4b17-931f-455ad542cace",
   "metadata": {},
   "outputs": [
    {
     "name": "stdin",
     "output_type": "stream",
     "text": [
      "Enter user name: admin\n"
     ]
    }
   ],
   "source": [
    "User_name=input(\"Enter user name:\")"
   ]
  },
  {
   "cell_type": "code",
   "execution_count": 31,
   "id": "3d241e93-acc0-4a64-a4ee-f834feb295c0",
   "metadata": {},
   "outputs": [
    {
     "name": "stdin",
     "output_type": "stream",
     "text": [
      "Enter password: Admin@123\n"
     ]
    }
   ],
   "source": [
    "password=input(\"Enter password:\")"
   ]
  },
  {
   "cell_type": "code",
   "execution_count": 32,
   "id": "56f6427a-647e-4e89-9ce0-f0c1f8827597",
   "metadata": {},
   "outputs": [
    {
     "name": "stdout",
     "output_type": "stream",
     "text": [
      "Invalid Password\n"
     ]
    }
   ],
   "source": [
    "if Correct_user_name == User_name and Correct_password == password:\n",
    "    print(\"Login Successful\")\n",
    "elif Correct_user_name != User_name and Correct_password == password:\n",
    "    print(\"Invalid Username\")\n",
    "elif Correct_user_name == User_name and Correct_password != password:\n",
    "    print(\"Invalid Password\")\n",
    "elif Correct_user_name != User_name and Correct_password != password:\n",
    "    print(\"Invalid Username and Password\")"
   ]
  },
  {
   "cell_type": "code",
   "execution_count": 33,
   "id": "41c2ad77-08c9-43d8-8032-4a7584108eeb",
   "metadata": {},
   "outputs": [
    {
     "name": "stdin",
     "output_type": "stream",
     "text": [
      "Enter user name: Admin\n"
     ]
    }
   ],
   "source": [
    "User_name=input(\"Enter user name:\")"
   ]
  },
  {
   "cell_type": "code",
   "execution_count": 34,
   "id": "960cc6b4-f550-461c-b8f9-ead08bde0040",
   "metadata": {},
   "outputs": [
    {
     "name": "stdin",
     "output_type": "stream",
     "text": [
      "Enter password: Admin@123\n"
     ]
    }
   ],
   "source": [
    "password=input(\"Enter password:\")"
   ]
  },
  {
   "cell_type": "code",
   "execution_count": 35,
   "id": "09f960b6-6cf2-4849-a9c9-aa4400b7f225",
   "metadata": {},
   "outputs": [
    {
     "name": "stdout",
     "output_type": "stream",
     "text": [
      "Invalid Username and Password\n"
     ]
    }
   ],
   "source": [
    "if Correct_user_name == User_name and Correct_password == password:\n",
    "    print(\"Login Successful\")\n",
    "elif Correct_user_name != User_name and Correct_password == password:\n",
    "    print(\"Invalid Username\")\n",
    "elif Correct_user_name == User_name and Correct_password != password:\n",
    "    print(\"Invalid Password\")\n",
    "elif Correct_user_name != User_name and Correct_password != password:\n",
    "    print(\"Invalid Username and Password\")"
   ]
  },
  {
   "cell_type": "markdown",
   "id": "5c799583-5206-449c-b370-4007ec0382f2",
   "metadata": {},
   "source": [
    "Q8.\n",
    "\n",
    "student_details = {\n",
    "    \"Ali\": {\"age\": 20, \"grade\": \"A\", \"city\": \"Karachi\"},\n",
    "    \"Sara\": {\"age\": 21, \"grade\": \"B\", \"city\": \"Lahore\"},\n",
    "    \"Omar\": {\"age\": 19, \"grade\": \"A\", \"city\": \"Islamabad\"},\n",
    "    \"Hina\": {\"age\": 22, \"grade\": \"C\", \"city\": \"Faisalabad\"}\n",
    "}\n",
    "\n",
    "- Add a new student using method:\n",
    "  \"Zara\": {\"age\": 20, \"grade\": \"B\", \"city\": \"Multan\"}\n",
    "\n",
    "- Remove a student \"Omer\" using method\n",
    "\n",
    "Expected Output:\n",
    "\n",
    "{'Ali': {'age': 20, 'grade': 'A', 'city': 'Karachi'}, 'Sara': {'age': 21, 'grade': 'B', 'city': 'Lahore'}, 'Hina': {'age': 22, 'grade': 'C', 'city': 'Faisalabad'}, 'Zara': {'age': 20, 'grade': 'B', 'city': 'Multan'}}\n",
    "  "
   ]
  },
  {
   "cell_type": "code",
   "execution_count": 36,
   "id": "332839db-e92c-4e62-b156-b13bc87a9d4d",
   "metadata": {},
   "outputs": [
    {
     "data": {
      "text/plain": [
       "{'Ali': {'age': 20, 'grade': 'A', 'city': 'Karachi'},\n",
       " 'Sara': {'age': 21, 'grade': 'B', 'city': 'Lahore'},\n",
       " 'Omar': {'age': 19, 'grade': 'A', 'city': 'Islamabad'},\n",
       " 'Hina': {'age': 22, 'grade': 'C', 'city': 'Faisalabad'}}"
      ]
     },
     "execution_count": 36,
     "metadata": {},
     "output_type": "execute_result"
    }
   ],
   "source": [
    "student_details = { \"Ali\": {\"age\": 20, \"grade\": \"A\", \"city\": \"Karachi\"}, \"Sara\": {\"age\": 21, \"grade\": \"B\", \"city\": \"Lahore\"}, \"Omar\": {\"age\": 19, \"grade\": \"A\", \"city\": \"Islamabad\"}, \"Hina\": {\"age\": 22, \"grade\": \"C\", \"city\": \"Faisalabad\"} }\n",
    "student_details"
   ]
  },
  {
   "cell_type": "code",
   "execution_count": 37,
   "id": "7f0db9eb-22f1-4b41-956a-ca23fa9fbb47",
   "metadata": {},
   "outputs": [
    {
     "data": {
      "text/plain": [
       "{'Zara': {'age': 20, 'grade': 'B', 'city': 'Multan'}}"
      ]
     },
     "execution_count": 37,
     "metadata": {},
     "output_type": "execute_result"
    }
   ],
   "source": [
    "new_student = {'Zara': {\"age\": 20, \"grade\": \"B\", \"city\": \"Multan\"}}\n",
    "new_student"
   ]
  },
  {
   "cell_type": "code",
   "execution_count": 38,
   "id": "2cf169ed-9dea-4ae6-9c9c-5bc2588ac680",
   "metadata": {},
   "outputs": [
    {
     "data": {
      "text/plain": [
       "{'Ali': {'age': 20, 'grade': 'A', 'city': 'Karachi'},\n",
       " 'Sara': {'age': 21, 'grade': 'B', 'city': 'Lahore'},\n",
       " 'Omar': {'age': 19, 'grade': 'A', 'city': 'Islamabad'},\n",
       " 'Hina': {'age': 22, 'grade': 'C', 'city': 'Faisalabad'},\n",
       " 'Zara': {'age': 20, 'grade': 'B', 'city': 'Multan'}}"
      ]
     },
     "execution_count": 38,
     "metadata": {},
     "output_type": "execute_result"
    }
   ],
   "source": [
    "student_details.update(new_student)\n",
    "student_details"
   ]
  },
  {
   "cell_type": "code",
   "execution_count": 39,
   "id": "053db801-e21e-4d58-9bc4-b8d9bf70a291",
   "metadata": {},
   "outputs": [
    {
     "data": {
      "text/plain": [
       "{'age': 19, 'grade': 'A', 'city': 'Islamabad'}"
      ]
     },
     "execution_count": 39,
     "metadata": {},
     "output_type": "execute_result"
    }
   ],
   "source": [
    "student_details.pop(\"Omar\",None)"
   ]
  },
  {
   "cell_type": "code",
   "execution_count": 40,
   "id": "1704d70e-9eac-4df7-b4c0-b72af8abbb1b",
   "metadata": {},
   "outputs": [
    {
     "data": {
      "text/plain": [
       "{'Ali': {'age': 20, 'grade': 'A', 'city': 'Karachi'},\n",
       " 'Sara': {'age': 21, 'grade': 'B', 'city': 'Lahore'},\n",
       " 'Hina': {'age': 22, 'grade': 'C', 'city': 'Faisalabad'},\n",
       " 'Zara': {'age': 20, 'grade': 'B', 'city': 'Multan'}}"
      ]
     },
     "execution_count": 40,
     "metadata": {},
     "output_type": "execute_result"
    }
   ],
   "source": [
    "student_details"
   ]
  },
  {
   "cell_type": "markdown",
   "id": "f5c1e4f9-1b24-4c6e-b94d-10e4511df8d8",
   "metadata": {},
   "source": [
    "Q9. Write program to check a person’s eligibility for a loan based on age, credit score, and income. This time, the eligibility criteria will be:\n",
    "\n",
    "The person must be 18 years or older. The person must have a credit score of 650 or higher. The person must have an annual income of at least 30000 dollars If the person has a credit score of 700 or higher, they may still be eligible with an income of 25000 dollars or more.\n",
    "\n",
    "Expected Output:\n",
    "\n",
    "Enter your age:  22\n",
    "\n",
    "Enter your credit score:  888\n",
    "\n",
    "Enter your annual income: $ 800000\n",
    "\n",
    "You are eligible for the loan!\n",
    "\n",
    "---\n",
    "\n",
    "Enter your age:  15\n",
    "\n",
    "Enter your credit score:  800\n",
    "\n",
    "Enter your annual income: $ 900000\n",
    "\n",
    "You are not eligible for the loan due to age.\n",
    "\n",
    "---\n",
    "\n",
    "Enter your age:  35\n",
    "\n",
    "Enter your credit score:  99\n",
    "\n",
    "Enter your annual income: $ 900000\n",
    "\n",
    "You are not eligible for the loan due to low credit score."
   ]
  },
  {
   "cell_type": "raw",
   "id": "62177b1e-67fb-4952-9809-8f2e1df43ccc",
   "metadata": {},
   "source": [
    "The person must be 18 years or older. The person must have a credit score of 650 or higher. The person must have an annual income of at least 30000 dollars If the person has a credit score of 700 or higher, they may still be eligible with an income of 25000 dollars or more.\n",
    "age >= 18 and credit_score >=650 and annual_income>= \"$30000\"\n",
    "if credit_score >=700 and annual_income>= \"$25000\""
   ]
  },
  {
   "cell_type": "code",
   "execution_count": 41,
   "id": "583d648a-a58b-45a1-9190-67cfe0fdb86e",
   "metadata": {},
   "outputs": [
    {
     "name": "stdin",
     "output_type": "stream",
     "text": [
      "Enter your age: 22\n"
     ]
    }
   ],
   "source": [
    "age=int(input(\"Enter your age:\"))"
   ]
  },
  {
   "cell_type": "code",
   "execution_count": 42,
   "id": "485d1e56-032d-4beb-8292-5efa5141caaf",
   "metadata": {},
   "outputs": [
    {
     "name": "stdin",
     "output_type": "stream",
     "text": [
      "Enter your credit score: 888\n"
     ]
    }
   ],
   "source": [
    "credit_score=int(input(\"Enter your credit score:\"))"
   ]
  },
  {
   "cell_type": "code",
   "execution_count": 43,
   "id": "d5f3e419-6200-4078-a848-064860c9b4b2",
   "metadata": {},
   "outputs": [
    {
     "name": "stdin",
     "output_type": "stream",
     "text": [
      "Enter your annual income: $80000\n"
     ]
    }
   ],
   "source": [
    "annual_income=input(\"Enter your annual income:\")"
   ]
  },
  {
   "cell_type": "code",
   "execution_count": 44,
   "id": "0f3c787b-24f4-4a7a-b502-0eebb3e1fcd3",
   "metadata": {},
   "outputs": [
    {
     "name": "stdout",
     "output_type": "stream",
     "text": [
      "You are eligible for the loan!\n"
     ]
    }
   ],
   "source": [
    "if age >= 18:\n",
    "    if (credit_score >=650 and annual_income>= \"$30000\") or (credit_score>=700 and annual_income >=\"25000\"):\n",
    "        print(\"You are eligible for the loan!\")\n",
    "    if (credit_score <650 and annual_income< \"$30000\") or (credit_score<700 and annual_income <\"25000\"):\n",
    "        print(\"You are not eligible for the loan due to low credit score.\")\n",
    "elif age !=18:\n",
    "    print(\"You are not eligible for the loan due to age.\")\n",
    "    "
   ]
  },
  {
   "cell_type": "code",
   "execution_count": 45,
   "id": "64929203-d21b-4995-ba32-51d24256eed0",
   "metadata": {},
   "outputs": [
    {
     "name": "stdin",
     "output_type": "stream",
     "text": [
      "Enter your age: 15\n"
     ]
    }
   ],
   "source": [
    "age=int(input(\"Enter your age:\"))"
   ]
  },
  {
   "cell_type": "code",
   "execution_count": 46,
   "id": "3c040a2c-94d1-4c24-9880-90e2fd27ff30",
   "metadata": {},
   "outputs": [
    {
     "name": "stdin",
     "output_type": "stream",
     "text": [
      "Enter your credit score: 800\n"
     ]
    }
   ],
   "source": [
    "credit_score=int(input(\"Enter your credit score:\"))"
   ]
  },
  {
   "cell_type": "code",
   "execution_count": 47,
   "id": "67a1f848-e9be-453b-b564-2c36499726ab",
   "metadata": {},
   "outputs": [
    {
     "name": "stdin",
     "output_type": "stream",
     "text": [
      "Enter your annual income: $90000\n"
     ]
    }
   ],
   "source": [
    "annual_income=input(\"Enter your annual income:\")"
   ]
  },
  {
   "cell_type": "code",
   "execution_count": 48,
   "id": "53578c47-d0c8-4c8a-a9db-96ea77d9dc74",
   "metadata": {},
   "outputs": [
    {
     "name": "stdout",
     "output_type": "stream",
     "text": [
      "You are not eligible for the loan due to age.\n"
     ]
    }
   ],
   "source": [
    "if age >= 18:\n",
    "    if (credit_score >=650 and annual_income>= \"$30000\") or (credit_score>=700 and annual_income >=\"25000\"):\n",
    "        print(\"You are eligible for the loan!\")\n",
    "    if (credit_score <650 and annual_income< \"$30000\") or (credit_score<700 and annual_income <\"25000\"):\n",
    "        print(\"You are not eligible for the loan due to low credit score.\")\n",
    "elif age !=18:\n",
    "    print(\"You are not eligible for the loan due to age.\")\n",
    "    "
   ]
  },
  {
   "cell_type": "code",
   "execution_count": 49,
   "id": "428b8463-0570-4682-9407-6989936de0fa",
   "metadata": {},
   "outputs": [
    {
     "name": "stdin",
     "output_type": "stream",
     "text": [
      "Enter your age: 35\n"
     ]
    }
   ],
   "source": [
    "age=int(input(\"Enter your age:\"))"
   ]
  },
  {
   "cell_type": "code",
   "execution_count": 50,
   "id": "0a5cc0da-a5ce-4093-97ed-df27c9a280cb",
   "metadata": {},
   "outputs": [
    {
     "name": "stdin",
     "output_type": "stream",
     "text": [
      "Enter your credit score: 99\n"
     ]
    }
   ],
   "source": [
    "credit_score=int(input(\"Enter your credit score:\"))"
   ]
  },
  {
   "cell_type": "code",
   "execution_count": 51,
   "id": "09658ff3-40c6-4ccd-80e3-9a3464b36e86",
   "metadata": {},
   "outputs": [
    {
     "name": "stdin",
     "output_type": "stream",
     "text": [
      "Enter your annual income: $90000\n"
     ]
    }
   ],
   "source": [
    "annual_income=input(\"Enter your annual income:\")"
   ]
  },
  {
   "cell_type": "code",
   "execution_count": 52,
   "id": "b09b0eae-10f5-421d-bc0f-6b8aef279439",
   "metadata": {},
   "outputs": [
    {
     "name": "stdout",
     "output_type": "stream",
     "text": [
      "You are not eligible for the loan due to low credit score.\n"
     ]
    }
   ],
   "source": [
    "if age >= 18:\n",
    "    if (credit_score >=650 and annual_income>= \"$30000\") or (credit_score>=700 and annual_income >=\"25000\"):\n",
    "        print(\"You are eligible for the loan!\")\n",
    "    if (credit_score <650 and annual_income< \"$30000\") or (credit_score<700 and annual_income <\"25000\"):\n",
    "        print(\"You are not eligible for the loan due to low credit score.\")\n",
    "elif age !=18:\n",
    "    print(\"You are not eligible for the loan due to age.\")"
   ]
  },
  {
   "cell_type": "markdown",
   "id": "2b4c034e-a69a-4124-a1ea-497bce36c7a9",
   "metadata": {},
   "source": [
    "Q10. Write a Python program to check whether the entered letter is a vowel, a consonant, or invalid input.\n",
    "\n",
    "The program should take a single character as input. If the character is a vowel (a, e, i, o, u in both upper and lower case), it will print \"Vowel\". If it is an alphabet but not a vowel, it will print \"Consonant\". Otherwise, it will print \"Please enter valid alphabet\".\n",
    "\n",
    "Expected Output:\n",
    "\n",
    "Enter a single letter:  a\n",
    "\n",
    "a is a Vowel\n",
    "\n",
    "---\n",
    "\n",
    "Enter a single letter:  E\n",
    "\n",
    "E is a Vowel\n",
    "\n",
    "---\n",
    "\n",
    "Enter a single letter:  z\n",
    "\n",
    "z is a Consonant\n",
    "\n",
    "---\n",
    "\n",
    "Enter a single letter:  7\n",
    "\n",
    "Please enter valid alphabet\n"
   ]
  },
  {
   "cell_type": "code",
   "execution_count": 66,
   "id": "959d9a78-3f42-476b-b957-586536ce741c",
   "metadata": {},
   "outputs": [
    {
     "name": "stdin",
     "output_type": "stream",
     "text": [
      "Enter an alphabet: a\n"
     ]
    }
   ],
   "source": [
    "letter=input(\"Enter an alphabet:\")"
   ]
  },
  {
   "cell_type": "code",
   "execution_count": 67,
   "id": "9715e134-b7c7-4799-bbb0-43b045072433",
   "metadata": {},
   "outputs": [
    {
     "name": "stdout",
     "output_type": "stream",
     "text": [
      "a is a Vowel\n"
     ]
    }
   ],
   "source": [
    "if len(letter)==1 and letter.isalpha():\n",
    "    if letter.lower() in \"aeiou\":\n",
    "        print(letter + \" is a Vowel\")\n",
    "    else:\n",
    "        print(letter+ \" is a Consonant\")\n",
    "else:\n",
    "    print(\"Please enter valid alphabet\")"
   ]
  },
  {
   "cell_type": "code",
   "execution_count": 74,
   "id": "17752b4c-7dcf-47c3-809b-d7c34e3ae440",
   "metadata": {},
   "outputs": [
    {
     "name": "stdin",
     "output_type": "stream",
     "text": [
      "Enter an alphabet: E\n"
     ]
    }
   ],
   "source": [
    "letter=input(\"Enter an alphabet:\")"
   ]
  },
  {
   "cell_type": "code",
   "execution_count": 75,
   "id": "e2dc6798-550a-4a54-95b7-4c8044b8e85d",
   "metadata": {},
   "outputs": [
    {
     "name": "stdout",
     "output_type": "stream",
     "text": [
      "E is a Vowel\n"
     ]
    }
   ],
   "source": [
    "if len(letter)==1 and letter.isalpha():\n",
    "    if letter.lower() in \"aeiou\":\n",
    "        print(letter + \" is a Vowel\")\n",
    "    else:\n",
    "        print(letter+ \" is a Consonant\")\n",
    "else:\n",
    "    print(\"Please enter valid alphabet\")"
   ]
  },
  {
   "cell_type": "code",
   "execution_count": 76,
   "id": "aae1841a-75de-46f5-9f42-3d3fd2bfdfa0",
   "metadata": {},
   "outputs": [
    {
     "name": "stdin",
     "output_type": "stream",
     "text": [
      "Enter an alphabet: z\n"
     ]
    }
   ],
   "source": [
    "letter=input(\"Enter an alphabet:\")"
   ]
  },
  {
   "cell_type": "code",
   "execution_count": 77,
   "id": "fcc692f5-0dc2-4ab9-8a21-17e4a9a630d9",
   "metadata": {},
   "outputs": [
    {
     "name": "stdout",
     "output_type": "stream",
     "text": [
      "z is a Consonant\n"
     ]
    }
   ],
   "source": [
    "if len(letter)==1 and letter.isalpha():\n",
    "    if letter.lower() in \"aeiou\":\n",
    "        print(letter + \" is a Vowel\")\n",
    "    else:\n",
    "        print(letter+ \" is a Consonant\")\n",
    "else:\n",
    "    print(\"Please enter valid alphabet\")"
   ]
  },
  {
   "cell_type": "code",
   "execution_count": 78,
   "id": "2fbf27fd-6cf5-48a1-86cb-3244fc36f086",
   "metadata": {},
   "outputs": [
    {
     "name": "stdin",
     "output_type": "stream",
     "text": [
      "Enter an alphabet: 7\n"
     ]
    }
   ],
   "source": [
    "letter=input(\"Enter an alphabet:\")"
   ]
  },
  {
   "cell_type": "code",
   "execution_count": 79,
   "id": "576ec2b4-0b35-43fc-a5b3-e6c06bb72e35",
   "metadata": {},
   "outputs": [
    {
     "name": "stdout",
     "output_type": "stream",
     "text": [
      "Please enter valid alphabet\n"
     ]
    }
   ],
   "source": [
    "if len(letter)==1 and letter.isalpha():\n",
    "    if letter.lower() in \"aeiou\":\n",
    "        print(letter + \" is a Vowel\")\n",
    "    else:\n",
    "        print(letter+ \" is a Consonant\")\n",
    "else:\n",
    "    print(\"Please enter valid alphabet\")"
   ]
  }
 ],
 "metadata": {
  "kernelspec": {
   "display_name": "Python 3 (ipykernel)",
   "language": "python",
   "name": "python3"
  },
  "language_info": {
   "codemirror_mode": {
    "name": "ipython",
    "version": 3
   },
   "file_extension": ".py",
   "mimetype": "text/x-python",
   "name": "python",
   "nbconvert_exporter": "python",
   "pygments_lexer": "ipython3",
   "version": "3.13.5"
  }
 },
 "nbformat": 4,
 "nbformat_minor": 5
}
